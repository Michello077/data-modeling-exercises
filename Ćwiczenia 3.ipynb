{
 "cells": [
  {
   "cell_type": "markdown",
   "metadata": {},
   "source": [
    "# Lista 3"
   ]
  },
  {
   "cell_type": "markdown",
   "metadata": {},
   "source": [
    "## Ćwiczenie 6\n",
    "Plik $dane\\_wino.txt$ zawiera dane dotyczące koncentracji trzynastu różnych substancji chemicznych zawartych w winie pochodzącym z jednego regionu Włoch, ale z trzech różnych upraw. Zmienna $V1$ jest indeksem ze zbioru $\\{1, 2, 3\\}$ oznaczającym trzy typy uprawy. Zmienne $V2$ do $V14$ oznaczają poziomy koncentracji kolejnych substancji chemicznych. Dla tych danych przyjmij, że prawdopodobieństwa a priori przynależności do klas są równe $1 \\over 3$. Odpowiedz na pytania i)-ix) z powyższego zadania."
   ]
  },
  {
   "cell_type": "code",
   "execution_count": 1,
   "metadata": {},
   "outputs": [
    {
     "data": {
      "text/html": [
       "<table class=\"dataframe\">\n",
       "<caption>A data.frame: 6 × 14</caption>\n",
       "<thead>\n",
       "\t<tr><th></th><th scope=col>V1</th><th scope=col>V2</th><th scope=col>V3</th><th scope=col>V4</th><th scope=col>V5</th><th scope=col>V6</th><th scope=col>V7</th><th scope=col>V8</th><th scope=col>V9</th><th scope=col>V10</th><th scope=col>V11</th><th scope=col>V12</th><th scope=col>V13</th><th scope=col>V14</th></tr>\n",
       "\t<tr><th></th><th scope=col>&lt;int&gt;</th><th scope=col>&lt;dbl&gt;</th><th scope=col>&lt;dbl&gt;</th><th scope=col>&lt;dbl&gt;</th><th scope=col>&lt;dbl&gt;</th><th scope=col>&lt;int&gt;</th><th scope=col>&lt;dbl&gt;</th><th scope=col>&lt;dbl&gt;</th><th scope=col>&lt;dbl&gt;</th><th scope=col>&lt;dbl&gt;</th><th scope=col>&lt;dbl&gt;</th><th scope=col>&lt;dbl&gt;</th><th scope=col>&lt;dbl&gt;</th><th scope=col>&lt;int&gt;</th></tr>\n",
       "</thead>\n",
       "<tbody>\n",
       "\t<tr><th scope=row>1</th><td>1</td><td>14.23</td><td>1.71</td><td>2.43</td><td>15.6</td><td>127</td><td>2.80</td><td>3.06</td><td>0.28</td><td>2.29</td><td>5.64</td><td>1.04</td><td>3.92</td><td>1065</td></tr>\n",
       "\t<tr><th scope=row>2</th><td>1</td><td>13.20</td><td>1.78</td><td>2.14</td><td>11.2</td><td>100</td><td>2.65</td><td>2.76</td><td>0.26</td><td>1.28</td><td>4.38</td><td>1.05</td><td>3.40</td><td>1050</td></tr>\n",
       "\t<tr><th scope=row>3</th><td>1</td><td>13.16</td><td>2.36</td><td>2.67</td><td>18.6</td><td>101</td><td>2.80</td><td>3.24</td><td>0.30</td><td>2.81</td><td>5.68</td><td>1.03</td><td>3.17</td><td>1185</td></tr>\n",
       "\t<tr><th scope=row>4</th><td>1</td><td>14.37</td><td>1.95</td><td>2.50</td><td>16.8</td><td>113</td><td>3.85</td><td>3.49</td><td>0.24</td><td>2.18</td><td>7.80</td><td>0.86</td><td>3.45</td><td>1480</td></tr>\n",
       "\t<tr><th scope=row>5</th><td>1</td><td>13.24</td><td>2.59</td><td>2.87</td><td>21.0</td><td>118</td><td>2.80</td><td>2.69</td><td>0.39</td><td>1.82</td><td>4.32</td><td>1.04</td><td>2.93</td><td> 735</td></tr>\n",
       "\t<tr><th scope=row>6</th><td>1</td><td>14.20</td><td>1.76</td><td>2.45</td><td>15.2</td><td>112</td><td>3.27</td><td>3.39</td><td>0.34</td><td>1.97</td><td>6.75</td><td>1.05</td><td>2.85</td><td>1450</td></tr>\n",
       "</tbody>\n",
       "</table>\n"
      ],
      "text/latex": [
       "A data.frame: 6 × 14\n",
       "\\begin{tabular}{r|llllllllllllll}\n",
       "  & V1 & V2 & V3 & V4 & V5 & V6 & V7 & V8 & V9 & V10 & V11 & V12 & V13 & V14\\\\\n",
       "  & <int> & <dbl> & <dbl> & <dbl> & <dbl> & <int> & <dbl> & <dbl> & <dbl> & <dbl> & <dbl> & <dbl> & <dbl> & <int>\\\\\n",
       "\\hline\n",
       "\t1 & 1 & 14.23 & 1.71 & 2.43 & 15.6 & 127 & 2.80 & 3.06 & 0.28 & 2.29 & 5.64 & 1.04 & 3.92 & 1065\\\\\n",
       "\t2 & 1 & 13.20 & 1.78 & 2.14 & 11.2 & 100 & 2.65 & 2.76 & 0.26 & 1.28 & 4.38 & 1.05 & 3.40 & 1050\\\\\n",
       "\t3 & 1 & 13.16 & 2.36 & 2.67 & 18.6 & 101 & 2.80 & 3.24 & 0.30 & 2.81 & 5.68 & 1.03 & 3.17 & 1185\\\\\n",
       "\t4 & 1 & 14.37 & 1.95 & 2.50 & 16.8 & 113 & 3.85 & 3.49 & 0.24 & 2.18 & 7.80 & 0.86 & 3.45 & 1480\\\\\n",
       "\t5 & 1 & 13.24 & 2.59 & 2.87 & 21.0 & 118 & 2.80 & 2.69 & 0.39 & 1.82 & 4.32 & 1.04 & 2.93 &  735\\\\\n",
       "\t6 & 1 & 14.20 & 1.76 & 2.45 & 15.2 & 112 & 3.27 & 3.39 & 0.34 & 1.97 & 6.75 & 1.05 & 2.85 & 1450\\\\\n",
       "\\end{tabular}\n"
      ],
      "text/markdown": [
       "\n",
       "A data.frame: 6 × 14\n",
       "\n",
       "| <!--/--> | V1 &lt;int&gt; | V2 &lt;dbl&gt; | V3 &lt;dbl&gt; | V4 &lt;dbl&gt; | V5 &lt;dbl&gt; | V6 &lt;int&gt; | V7 &lt;dbl&gt; | V8 &lt;dbl&gt; | V9 &lt;dbl&gt; | V10 &lt;dbl&gt; | V11 &lt;dbl&gt; | V12 &lt;dbl&gt; | V13 &lt;dbl&gt; | V14 &lt;int&gt; |\n",
       "|---|---|---|---|---|---|---|---|---|---|---|---|---|---|---|\n",
       "| 1 | 1 | 14.23 | 1.71 | 2.43 | 15.6 | 127 | 2.80 | 3.06 | 0.28 | 2.29 | 5.64 | 1.04 | 3.92 | 1065 |\n",
       "| 2 | 1 | 13.20 | 1.78 | 2.14 | 11.2 | 100 | 2.65 | 2.76 | 0.26 | 1.28 | 4.38 | 1.05 | 3.40 | 1050 |\n",
       "| 3 | 1 | 13.16 | 2.36 | 2.67 | 18.6 | 101 | 2.80 | 3.24 | 0.30 | 2.81 | 5.68 | 1.03 | 3.17 | 1185 |\n",
       "| 4 | 1 | 14.37 | 1.95 | 2.50 | 16.8 | 113 | 3.85 | 3.49 | 0.24 | 2.18 | 7.80 | 0.86 | 3.45 | 1480 |\n",
       "| 5 | 1 | 13.24 | 2.59 | 2.87 | 21.0 | 118 | 2.80 | 2.69 | 0.39 | 1.82 | 4.32 | 1.04 | 2.93 |  735 |\n",
       "| 6 | 1 | 14.20 | 1.76 | 2.45 | 15.2 | 112 | 3.27 | 3.39 | 0.34 | 1.97 | 6.75 | 1.05 | 2.85 | 1450 |\n",
       "\n"
      ],
      "text/plain": [
       "  V1 V2    V3   V4   V5   V6  V7   V8   V9   V10  V11  V12  V13  V14 \n",
       "1 1  14.23 1.71 2.43 15.6 127 2.80 3.06 0.28 2.29 5.64 1.04 3.92 1065\n",
       "2 1  13.20 1.78 2.14 11.2 100 2.65 2.76 0.26 1.28 4.38 1.05 3.40 1050\n",
       "3 1  13.16 2.36 2.67 18.6 101 2.80 3.24 0.30 2.81 5.68 1.03 3.17 1185\n",
       "4 1  14.37 1.95 2.50 16.8 113 3.85 3.49 0.24 2.18 7.80 0.86 3.45 1480\n",
       "5 1  13.24 2.59 2.87 21.0 118 2.80 2.69 0.39 1.82 4.32 1.04 2.93  735\n",
       "6 1  14.20 1.76 2.45 15.2 112 3.27 3.39 0.34 1.97 6.75 1.05 2.85 1450"
      ]
     },
     "metadata": {},
     "output_type": "display_data"
    }
   ],
   "source": [
    "# wczytanie pakietu\n",
    "library(MASS)\n",
    "# wczytanie danych\n",
    "wino = read.table(\"dane_wino.txt\", sep = \",\")\n",
    "# wyswietlenie pierwszych 6 wierszy naszych danych\n",
    "head(wino)"
   ]
  },
  {
   "cell_type": "code",
   "execution_count": 2,
   "metadata": {},
   "outputs": [
    {
     "data": {
      "text/html": [
       "'Liczba wierszy: 178 ; Liczba kolumn: 14'"
      ],
      "text/latex": [
       "'Liczba wierszy: 178 ; Liczba kolumn: 14'"
      ],
      "text/markdown": [
       "'Liczba wierszy: 178 ; Liczba kolumn: 14'"
      ],
      "text/plain": [
       "[1] \"Liczba wierszy: 178 ; Liczba kolumn: 14\""
      ]
     },
     "metadata": {},
     "output_type": "display_data"
    }
   ],
   "source": [
    "# wypisanie liczby wierszy i kolumn\n",
    "paste(\"Liczba wierszy:\", dim(wino)[1], \"; Liczba kolumn:\", dim(wino)[2])"
   ]
  },
  {
   "cell_type": "code",
   "execution_count": 3,
   "metadata": {
    "scrolled": false
   },
   "outputs": [
    {
     "data": {
      "text/plain": [
       "Call:\n",
       "lda(V1 ~ ., data = wino, prior = c(1/3, 1/3, 1/3))\n",
       "\n",
       "Prior probabilities of groups:\n",
       "        1         2         3 \n",
       "0.3333333 0.3333333 0.3333333 \n",
       "\n",
       "Group means:\n",
       "        V2       V3       V4       V5       V6       V7        V8       V9\n",
       "1 13.74475 2.010678 2.455593 17.03729 106.3390 2.840169 2.9823729 0.290000\n",
       "2 12.27873 1.932676 2.244789 20.23803  94.5493 2.258873 2.0808451 0.363662\n",
       "3 13.15375 3.333750 2.437083 21.41667  99.3125 1.678750 0.7814583 0.447500\n",
       "       V10      V11       V12      V13       V14\n",
       "1 1.899322 5.528305 1.0620339 3.157797 1115.7119\n",
       "2 1.630282 3.086620 1.0562817 2.785352  519.5070\n",
       "3 1.153542 7.396250 0.6827083 1.683542  629.8958\n",
       "\n",
       "Coefficients of linear discriminants:\n",
       "             LD1          LD2\n",
       "V2  -0.356369042  0.892051370\n",
       "V3   0.181293364  0.296139458\n",
       "V4  -0.243541326  2.362184415\n",
       "V5   0.146777356 -0.154421898\n",
       "V6  -0.002185082 -0.000346807\n",
       "V7   0.615457266 -0.065102824\n",
       "V8  -1.685049247 -0.402774674\n",
       "V9  -1.580605983 -1.548924728\n",
       "V10  0.117537507 -0.313796985\n",
       "V11  0.368045785  0.233950076\n",
       "V12 -0.897641355 -1.469888074\n",
       "V13 -1.153187021  0.112797172\n",
       "V14 -0.002535348  0.002992344\n",
       "\n",
       "Proportion of trace:\n",
       "   LD1    LD2 \n",
       "0.7298 0.2702 "
      ]
     },
     "metadata": {},
     "output_type": "display_data"
    }
   ],
   "source": [
    "# utworzenie liniowego modelu zaleznosci typu uprawy od koncentracji substancji chemicznych w winie\n",
    "model_lda_6 = lda(V1 ~ ., data = wino, prior = c(1/3, 1/3, 1/3))\n",
    "model_lda_6"
   ]
  },
  {
   "cell_type": "code",
   "execution_count": 4,
   "metadata": {},
   "outputs": [
    {
     "data": {
      "text/html": [
       "<style>\n",
       ".dl-inline {width: auto; margin:0; padding: 0}\n",
       ".dl-inline>dt, .dl-inline>dd {float: none; width: auto; display: inline-block}\n",
       ".dl-inline>dt::after {content: \":\\0020\"; padding-right: .5ex}\n",
       ".dl-inline>dt:not(:first-of-type) {padding-left: .5ex}\n",
       "</style><dl class=dl-inline><dt>1</dt><dd>59</dd><dt>2</dt><dd>71</dd><dt>3</dt><dd>48</dd></dl>\n"
      ],
      "text/latex": [
       "\\begin{description*}\n",
       "\\item[1] 59\n",
       "\\item[2] 71\n",
       "\\item[3] 48\n",
       "\\end{description*}\n"
      ],
      "text/markdown": [
       "1\n",
       ":   592\n",
       ":   713\n",
       ":   48\n",
       "\n"
      ],
      "text/plain": [
       " 1  2  3 \n",
       "59 71 48 "
      ]
     },
     "metadata": {},
     "output_type": "display_data"
    }
   ],
   "source": [
    "# liczbnosci grup poszczegolnych typow uprawy\n",
    "model_lda_6$count"
   ]
  },
  {
   "cell_type": "markdown",
   "metadata": {},
   "source": [
    "#### i) Jakie są średnie wartości w grupach?"
   ]
  },
  {
   "cell_type": "code",
   "execution_count": 5,
   "metadata": {},
   "outputs": [
    {
     "data": {
      "text/html": [
       "<table class=\"dataframe\">\n",
       "<caption>A matrix: 3 × 13 of type dbl</caption>\n",
       "<thead>\n",
       "\t<tr><th></th><th scope=col>V2</th><th scope=col>V3</th><th scope=col>V4</th><th scope=col>V5</th><th scope=col>V6</th><th scope=col>V7</th><th scope=col>V8</th><th scope=col>V9</th><th scope=col>V10</th><th scope=col>V11</th><th scope=col>V12</th><th scope=col>V13</th><th scope=col>V14</th></tr>\n",
       "</thead>\n",
       "<tbody>\n",
       "\t<tr><th scope=row>1</th><td>13.74475</td><td>2.010678</td><td>2.455593</td><td>17.03729</td><td>106.3390</td><td>2.840169</td><td>2.9823729</td><td>0.290000</td><td>1.899322</td><td>5.528305</td><td>1.0620339</td><td>3.157797</td><td>1115.7119</td></tr>\n",
       "\t<tr><th scope=row>2</th><td>12.27873</td><td>1.932676</td><td>2.244789</td><td>20.23803</td><td> 94.5493</td><td>2.258873</td><td>2.0808451</td><td>0.363662</td><td>1.630282</td><td>3.086620</td><td>1.0562817</td><td>2.785352</td><td> 519.5070</td></tr>\n",
       "\t<tr><th scope=row>3</th><td>13.15375</td><td>3.333750</td><td>2.437083</td><td>21.41667</td><td> 99.3125</td><td>1.678750</td><td>0.7814583</td><td>0.447500</td><td>1.153542</td><td>7.396250</td><td>0.6827083</td><td>1.683542</td><td> 629.8958</td></tr>\n",
       "</tbody>\n",
       "</table>\n"
      ],
      "text/latex": [
       "A matrix: 3 × 13 of type dbl\n",
       "\\begin{tabular}{r|lllllllllllll}\n",
       "  & V2 & V3 & V4 & V5 & V6 & V7 & V8 & V9 & V10 & V11 & V12 & V13 & V14\\\\\n",
       "\\hline\n",
       "\t1 & 13.74475 & 2.010678 & 2.455593 & 17.03729 & 106.3390 & 2.840169 & 2.9823729 & 0.290000 & 1.899322 & 5.528305 & 1.0620339 & 3.157797 & 1115.7119\\\\\n",
       "\t2 & 12.27873 & 1.932676 & 2.244789 & 20.23803 &  94.5493 & 2.258873 & 2.0808451 & 0.363662 & 1.630282 & 3.086620 & 1.0562817 & 2.785352 &  519.5070\\\\\n",
       "\t3 & 13.15375 & 3.333750 & 2.437083 & 21.41667 &  99.3125 & 1.678750 & 0.7814583 & 0.447500 & 1.153542 & 7.396250 & 0.6827083 & 1.683542 &  629.8958\\\\\n",
       "\\end{tabular}\n"
      ],
      "text/markdown": [
       "\n",
       "A matrix: 3 × 13 of type dbl\n",
       "\n",
       "| <!--/--> | V2 | V3 | V4 | V5 | V6 | V7 | V8 | V9 | V10 | V11 | V12 | V13 | V14 |\n",
       "|---|---|---|---|---|---|---|---|---|---|---|---|---|---|\n",
       "| 1 | 13.74475 | 2.010678 | 2.455593 | 17.03729 | 106.3390 | 2.840169 | 2.9823729 | 0.290000 | 1.899322 | 5.528305 | 1.0620339 | 3.157797 | 1115.7119 |\n",
       "| 2 | 12.27873 | 1.932676 | 2.244789 | 20.23803 |  94.5493 | 2.258873 | 2.0808451 | 0.363662 | 1.630282 | 3.086620 | 1.0562817 | 2.785352 |  519.5070 |\n",
       "| 3 | 13.15375 | 3.333750 | 2.437083 | 21.41667 |  99.3125 | 1.678750 | 0.7814583 | 0.447500 | 1.153542 | 7.396250 | 0.6827083 | 1.683542 |  629.8958 |\n",
       "\n"
      ],
      "text/plain": [
       "  V2       V3       V4       V5       V6       V7       V8        V9      \n",
       "1 13.74475 2.010678 2.455593 17.03729 106.3390 2.840169 2.9823729 0.290000\n",
       "2 12.27873 1.932676 2.244789 20.23803  94.5493 2.258873 2.0808451 0.363662\n",
       "3 13.15375 3.333750 2.437083 21.41667  99.3125 1.678750 0.7814583 0.447500\n",
       "  V10      V11      V12       V13      V14      \n",
       "1 1.899322 5.528305 1.0620339 3.157797 1115.7119\n",
       "2 1.630282 3.086620 1.0562817 2.785352  519.5070\n",
       "3 1.153542 7.396250 0.6827083 1.683542  629.8958"
      ]
     },
     "metadata": {},
     "output_type": "display_data"
    }
   ],
   "source": [
    "# tabela srednich wartosci koncentracji substancji chemicznych w winie dla poszczegolnych typow uprawy\n",
    "model_lda_6$mean"
   ]
  },
  {
   "cell_type": "markdown",
   "metadata": {},
   "source": [
    "Średnie wartości w grupach określonych substancji chemicznych przedstawione są również powyżej w części modelu $Group\\ means$. Wynoszą one kolejno dla upraw ze zbiorów 1, 2 i 3:\n",
    "- $V2$: 13.74475, 12.27873, 13.15375\n",
    "- $V3$: 2.010678, 1.932676, 3.333750\n",
    "- $V4$: 2.455593, 2.244789, 2.437083\n",
    "- $V5$: 17.03729, 20.23803, 21.41667\n",
    "- $V6$: 106.3390, 94.5493, 99.3125\n",
    "- $V7$: 2.840169, 2.258873, 1.678750\n",
    "- $V8$: 2.9823729, 2.0808451, 0.7814583\n",
    "- $V9$: 0.290000, 0.363662, 0.447500\n",
    "- $V10$: 1.899322, 1.630282, 1.153542\n",
    "- $V11$: 5.528305, 3.086620, 7.396250\n",
    "- $V12$: 1.0620339, 1.0562817, 0.6827083\n",
    "- $V13$: 3.157797, 2.785352, 1.683542\n",
    "- $V14$: 1115.7119, 519.5070, 629.8958"
   ]
  },
  {
   "cell_type": "markdown",
   "metadata": {},
   "source": [
    "#### ii) Jakie są wartości współczynników funkcji dyskryminacyjnych?"
   ]
  },
  {
   "cell_type": "markdown",
   "metadata": {},
   "source": [
    "Wartości współczynników funkcji dyskryminacyjnych przedstawione są również powyżej w części modelu $Coefficients\\ of\\ linear\\ discriminants$. Wynoszą one kolejno dla pierwszej ($LD1$) i drugiej ($LD2$) funkcji dyskryminacyjnej:\n",
    "- $V2$: -0.356369042, 0.892051370\n",
    "- $V3$: 0.181293364, 0.296139458\n",
    "- $V4$: -0.243541326, 2.362184415\n",
    "- $V5$: 0.146777356, -0.154421898\n",
    "- $V6$: -0.002185082, -0.000346807\n",
    "- $V7$: 0.615457266, -0.065102824\n",
    "- $V8$: -1.685049247, -0.402774674\n",
    "- $V9$: -1.580605983, -1.548924728\n",
    "- $V10$: 0.117537507, -0.313796985\n",
    "- $V11$: 0.368045785, 0.233950076\n",
    "- $V12$: -0.897641355, -1.469888074\n",
    "- $V13$: -1.153187021, 0.11279717\n",
    "- $V14$: -0.002535348, 0.002992344"
   ]
  },
  {
   "cell_type": "markdown",
   "metadata": {},
   "source": [
    "#### iii) Dla każdej z funkcji dyskryminacyjnych określ która ze zmiennych objaśniających jest najbardziej istotna."
   ]
  },
  {
   "cell_type": "markdown",
   "metadata": {},
   "source": [
    "Dla pierwszej funkcji dyskryminacyjnej ($LD1$) najbardziej istotną zmienną objaśniającą jest $V7$, natomiast dla drugiej funkcji dyskryminacyjnej ($LD2$) najbardziej istotną zmienną objaśniającą jest $V4$."
   ]
  },
  {
   "cell_type": "markdown",
   "metadata": {},
   "source": [
    "#### iv) Jakie są średnie wartości funkcji dyskryminacyjnych w każdej z grup?"
   ]
  },
  {
   "cell_type": "code",
   "execution_count": 6,
   "metadata": {},
   "outputs": [
    {
     "data": {
      "text/html": [
       "-3.61542106819119"
      ],
      "text/latex": [
       "-3.61542106819119"
      ],
      "text/markdown": [
       "-3.61542106819119"
      ],
      "text/plain": [
       "[1] -3.615421"
      ]
     },
     "metadata": {},
     "output_type": "display_data"
    },
    {
     "data": {
      "text/html": [
       "-0.499324220000884"
      ],
      "text/latex": [
       "-0.499324220000884"
      ],
      "text/markdown": [
       "-0.499324220000884"
      ],
      "text/plain": [
       "[1] -0.4993242"
      ]
     },
     "metadata": {},
     "output_type": "display_data"
    },
    {
     "data": {
      "text/html": [
       "4.11474528819207"
      ],
      "text/latex": [
       "4.11474528819207"
      ],
      "text/markdown": [
       "4.11474528819207"
      ],
      "text/plain": [
       "[1] 4.114745"
      ]
     },
     "metadata": {},
     "output_type": "display_data"
    }
   ],
   "source": [
    "# predykcja wartosci na podstawie naszego modelu\n",
    "predykcja_6 = predict(model_lda_6)$x[, 1]\n",
    "# srednia wartosc funkcji dyskryminacyjnej dla 1. typu uprawy\n",
    "grupa_1 = sum(predykcja_6 * (wino$V1 == 1)) / sum(wino$V1 == 1)\n",
    "grupa_1\n",
    "# srednia wartosc funkcji dyskryminacyjnej dla 2. typu uprawy\n",
    "grupa_2 = sum(predykcja_6 * (wino$V1 == 2)) / sum(wino$V1 == 2)\n",
    "grupa_2\n",
    "# srednia wartosc funkcji dyskryminacyjnej dla 3. typu uprawy\n",
    "grupa_3 = sum(predykcja_6 * (wino$V1 == 3)) / sum(wino$V1 == 3)\n",
    "grupa_3"
   ]
  },
  {
   "cell_type": "markdown",
   "metadata": {},
   "source": [
    "Średnia wartość funkcji dyskryminacyjnej dla pierwszego typu uprawy wynosi: -3.61542106819119, dla drugiego typu uprawy: -0.499324220000884, a dla trzeciego typu uprawy: 4.11474528819207."
   ]
  },
  {
   "cell_type": "markdown",
   "metadata": {},
   "source": [
    "#### v) Przeprowadź predykcję przynależności do klas na zbiorze testowym."
   ]
  },
  {
   "cell_type": "code",
   "execution_count": 7,
   "metadata": {
    "scrolled": true
   },
   "outputs": [
    {
     "data": {
      "text/html": [
       "<style>\n",
       ".list-inline {list-style: none; margin:0; padding: 0}\n",
       ".list-inline>li {display: inline-block}\n",
       ".list-inline>li:not(:last-child)::after {content: \"\\00b7\"; padding: 0 .5ex}\n",
       "</style>\n",
       "<ol class=list-inline><li>1</li><li>1</li><li>1</li><li>1</li><li>1</li><li>1</li><li>1</li><li>1</li><li>1</li><li>1</li><li>1</li><li>1</li><li>1</li><li>1</li><li>1</li><li>1</li><li>1</li><li>1</li><li>1</li><li>1</li><li>1</li><li>1</li><li>1</li><li>1</li><li>1</li><li>1</li><li>1</li><li>1</li><li>1</li><li>1</li><li>1</li><li>1</li><li>1</li><li>1</li><li>1</li><li>1</li><li>1</li><li>1</li><li>1</li><li>1</li><li>1</li><li>1</li><li>1</li><li>1</li><li>1</li><li>1</li><li>1</li><li>1</li><li>1</li><li>1</li><li>1</li><li>1</li><li>1</li><li>1</li><li>1</li><li>1</li><li>1</li><li>1</li><li>1</li><li>2</li><li>2</li><li>2</li><li>2</li><li>2</li><li>2</li><li>2</li><li>2</li><li>2</li><li>2</li><li>2</li><li>2</li><li>2</li><li>2</li><li>2</li><li>2</li><li>2</li><li>2</li><li>2</li><li>2</li><li>2</li><li>2</li><li>2</li><li>2</li><li>2</li><li>2</li><li>2</li><li>2</li><li>2</li><li>2</li><li>2</li><li>2</li><li>2</li><li>2</li><li>2</li><li>2</li><li>2</li><li>2</li><li>2</li><li>2</li><li>2</li><li>2</li><li>2</li><li>2</li><li>2</li><li>2</li><li>2</li><li>2</li><li>2</li><li>2</li><li>2</li><li>2</li><li>2</li><li>2</li><li>2</li><li>2</li><li>2</li><li>2</li><li>2</li><li>2</li><li>2</li><li>2</li><li>2</li><li>2</li><li>2</li><li>2</li><li>2</li><li>2</li><li>2</li><li>2</li><li>2</li><li>3</li><li>3</li><li>3</li><li>3</li><li>3</li><li>3</li><li>3</li><li>3</li><li>3</li><li>3</li><li>3</li><li>3</li><li>3</li><li>3</li><li>3</li><li>3</li><li>3</li><li>3</li><li>3</li><li>3</li><li>3</li><li>3</li><li>3</li><li>3</li><li>3</li><li>3</li><li>3</li><li>3</li><li>3</li><li>3</li><li>3</li><li>3</li><li>3</li><li>3</li><li>3</li><li>3</li><li>3</li><li>3</li><li>3</li><li>3</li><li>3</li><li>3</li><li>3</li><li>3</li><li>3</li><li>3</li><li>3</li><li>3</li></ol>\n",
       "\n",
       "<details>\n",
       "\t<summary style=display:list-item;cursor:pointer>\n",
       "\t\t<strong>Levels</strong>:\n",
       "\t</summary>\n",
       "\t<style>\n",
       "\t.list-inline {list-style: none; margin:0; padding: 0}\n",
       "\t.list-inline>li {display: inline-block}\n",
       "\t.list-inline>li:not(:last-child)::after {content: \"\\00b7\"; padding: 0 .5ex}\n",
       "\t</style>\n",
       "\t<ol class=list-inline><li>'1'</li><li>'2'</li><li>'3'</li></ol>\n",
       "</details>"
      ],
      "text/latex": [
       "\\begin{enumerate*}\n",
       "\\item 1\n",
       "\\item 1\n",
       "\\item 1\n",
       "\\item 1\n",
       "\\item 1\n",
       "\\item 1\n",
       "\\item 1\n",
       "\\item 1\n",
       "\\item 1\n",
       "\\item 1\n",
       "\\item 1\n",
       "\\item 1\n",
       "\\item 1\n",
       "\\item 1\n",
       "\\item 1\n",
       "\\item 1\n",
       "\\item 1\n",
       "\\item 1\n",
       "\\item 1\n",
       "\\item 1\n",
       "\\item 1\n",
       "\\item 1\n",
       "\\item 1\n",
       "\\item 1\n",
       "\\item 1\n",
       "\\item 1\n",
       "\\item 1\n",
       "\\item 1\n",
       "\\item 1\n",
       "\\item 1\n",
       "\\item 1\n",
       "\\item 1\n",
       "\\item 1\n",
       "\\item 1\n",
       "\\item 1\n",
       "\\item 1\n",
       "\\item 1\n",
       "\\item 1\n",
       "\\item 1\n",
       "\\item 1\n",
       "\\item 1\n",
       "\\item 1\n",
       "\\item 1\n",
       "\\item 1\n",
       "\\item 1\n",
       "\\item 1\n",
       "\\item 1\n",
       "\\item 1\n",
       "\\item 1\n",
       "\\item 1\n",
       "\\item 1\n",
       "\\item 1\n",
       "\\item 1\n",
       "\\item 1\n",
       "\\item 1\n",
       "\\item 1\n",
       "\\item 1\n",
       "\\item 1\n",
       "\\item 1\n",
       "\\item 2\n",
       "\\item 2\n",
       "\\item 2\n",
       "\\item 2\n",
       "\\item 2\n",
       "\\item 2\n",
       "\\item 2\n",
       "\\item 2\n",
       "\\item 2\n",
       "\\item 2\n",
       "\\item 2\n",
       "\\item 2\n",
       "\\item 2\n",
       "\\item 2\n",
       "\\item 2\n",
       "\\item 2\n",
       "\\item 2\n",
       "\\item 2\n",
       "\\item 2\n",
       "\\item 2\n",
       "\\item 2\n",
       "\\item 2\n",
       "\\item 2\n",
       "\\item 2\n",
       "\\item 2\n",
       "\\item 2\n",
       "\\item 2\n",
       "\\item 2\n",
       "\\item 2\n",
       "\\item 2\n",
       "\\item 2\n",
       "\\item 2\n",
       "\\item 2\n",
       "\\item 2\n",
       "\\item 2\n",
       "\\item 2\n",
       "\\item 2\n",
       "\\item 2\n",
       "\\item 2\n",
       "\\item 2\n",
       "\\item 2\n",
       "\\item 2\n",
       "\\item 2\n",
       "\\item 2\n",
       "\\item 2\n",
       "\\item 2\n",
       "\\item 2\n",
       "\\item 2\n",
       "\\item 2\n",
       "\\item 2\n",
       "\\item 2\n",
       "\\item 2\n",
       "\\item 2\n",
       "\\item 2\n",
       "\\item 2\n",
       "\\item 2\n",
       "\\item 2\n",
       "\\item 2\n",
       "\\item 2\n",
       "\\item 2\n",
       "\\item 2\n",
       "\\item 2\n",
       "\\item 2\n",
       "\\item 2\n",
       "\\item 2\n",
       "\\item 2\n",
       "\\item 2\n",
       "\\item 2\n",
       "\\item 2\n",
       "\\item 2\n",
       "\\item 2\n",
       "\\item 3\n",
       "\\item 3\n",
       "\\item 3\n",
       "\\item 3\n",
       "\\item 3\n",
       "\\item 3\n",
       "\\item 3\n",
       "\\item 3\n",
       "\\item 3\n",
       "\\item 3\n",
       "\\item 3\n",
       "\\item 3\n",
       "\\item 3\n",
       "\\item 3\n",
       "\\item 3\n",
       "\\item 3\n",
       "\\item 3\n",
       "\\item 3\n",
       "\\item 3\n",
       "\\item 3\n",
       "\\item 3\n",
       "\\item 3\n",
       "\\item 3\n",
       "\\item 3\n",
       "\\item 3\n",
       "\\item 3\n",
       "\\item 3\n",
       "\\item 3\n",
       "\\item 3\n",
       "\\item 3\n",
       "\\item 3\n",
       "\\item 3\n",
       "\\item 3\n",
       "\\item 3\n",
       "\\item 3\n",
       "\\item 3\n",
       "\\item 3\n",
       "\\item 3\n",
       "\\item 3\n",
       "\\item 3\n",
       "\\item 3\n",
       "\\item 3\n",
       "\\item 3\n",
       "\\item 3\n",
       "\\item 3\n",
       "\\item 3\n",
       "\\item 3\n",
       "\\item 3\n",
       "\\end{enumerate*}\n",
       "\n",
       "\\emph{Levels}: \\begin{enumerate*}\n",
       "\\item '1'\n",
       "\\item '2'\n",
       "\\item '3'\n",
       "\\end{enumerate*}\n"
      ],
      "text/markdown": [
       "1. 1\n",
       "2. 1\n",
       "3. 1\n",
       "4. 1\n",
       "5. 1\n",
       "6. 1\n",
       "7. 1\n",
       "8. 1\n",
       "9. 1\n",
       "10. 1\n",
       "11. 1\n",
       "12. 1\n",
       "13. 1\n",
       "14. 1\n",
       "15. 1\n",
       "16. 1\n",
       "17. 1\n",
       "18. 1\n",
       "19. 1\n",
       "20. 1\n",
       "21. 1\n",
       "22. 1\n",
       "23. 1\n",
       "24. 1\n",
       "25. 1\n",
       "26. 1\n",
       "27. 1\n",
       "28. 1\n",
       "29. 1\n",
       "30. 1\n",
       "31. 1\n",
       "32. 1\n",
       "33. 1\n",
       "34. 1\n",
       "35. 1\n",
       "36. 1\n",
       "37. 1\n",
       "38. 1\n",
       "39. 1\n",
       "40. 1\n",
       "41. 1\n",
       "42. 1\n",
       "43. 1\n",
       "44. 1\n",
       "45. 1\n",
       "46. 1\n",
       "47. 1\n",
       "48. 1\n",
       "49. 1\n",
       "50. 1\n",
       "51. 1\n",
       "52. 1\n",
       "53. 1\n",
       "54. 1\n",
       "55. 1\n",
       "56. 1\n",
       "57. 1\n",
       "58. 1\n",
       "59. 1\n",
       "60. 2\n",
       "61. 2\n",
       "62. 2\n",
       "63. 2\n",
       "64. 2\n",
       "65. 2\n",
       "66. 2\n",
       "67. 2\n",
       "68. 2\n",
       "69. 2\n",
       "70. 2\n",
       "71. 2\n",
       "72. 2\n",
       "73. 2\n",
       "74. 2\n",
       "75. 2\n",
       "76. 2\n",
       "77. 2\n",
       "78. 2\n",
       "79. 2\n",
       "80. 2\n",
       "81. 2\n",
       "82. 2\n",
       "83. 2\n",
       "84. 2\n",
       "85. 2\n",
       "86. 2\n",
       "87. 2\n",
       "88. 2\n",
       "89. 2\n",
       "90. 2\n",
       "91. 2\n",
       "92. 2\n",
       "93. 2\n",
       "94. 2\n",
       "95. 2\n",
       "96. 2\n",
       "97. 2\n",
       "98. 2\n",
       "99. 2\n",
       "100. 2\n",
       "101. 2\n",
       "102. 2\n",
       "103. 2\n",
       "104. 2\n",
       "105. 2\n",
       "106. 2\n",
       "107. 2\n",
       "108. 2\n",
       "109. 2\n",
       "110. 2\n",
       "111. 2\n",
       "112. 2\n",
       "113. 2\n",
       "114. 2\n",
       "115. 2\n",
       "116. 2\n",
       "117. 2\n",
       "118. 2\n",
       "119. 2\n",
       "120. 2\n",
       "121. 2\n",
       "122. 2\n",
       "123. 2\n",
       "124. 2\n",
       "125. 2\n",
       "126. 2\n",
       "127. 2\n",
       "128. 2\n",
       "129. 2\n",
       "130. 2\n",
       "131. 3\n",
       "132. 3\n",
       "133. 3\n",
       "134. 3\n",
       "135. 3\n",
       "136. 3\n",
       "137. 3\n",
       "138. 3\n",
       "139. 3\n",
       "140. 3\n",
       "141. 3\n",
       "142. 3\n",
       "143. 3\n",
       "144. 3\n",
       "145. 3\n",
       "146. 3\n",
       "147. 3\n",
       "148. 3\n",
       "149. 3\n",
       "150. 3\n",
       "151. 3\n",
       "152. 3\n",
       "153. 3\n",
       "154. 3\n",
       "155. 3\n",
       "156. 3\n",
       "157. 3\n",
       "158. 3\n",
       "159. 3\n",
       "160. 3\n",
       "161. 3\n",
       "162. 3\n",
       "163. 3\n",
       "164. 3\n",
       "165. 3\n",
       "166. 3\n",
       "167. 3\n",
       "168. 3\n",
       "169. 3\n",
       "170. 3\n",
       "171. 3\n",
       "172. 3\n",
       "173. 3\n",
       "174. 3\n",
       "175. 3\n",
       "176. 3\n",
       "177. 3\n",
       "178. 3\n",
       "\n",
       "\n",
       "\n",
       "**Levels**: 1. '1'\n",
       "2. '2'\n",
       "3. '3'\n",
       "\n",
       "\n"
      ],
      "text/plain": [
       "  [1] 1 1 1 1 1 1 1 1 1 1 1 1 1 1 1 1 1 1 1 1 1 1 1 1 1 1 1 1 1 1 1 1 1 1 1 1 1\n",
       " [38] 1 1 1 1 1 1 1 1 1 1 1 1 1 1 1 1 1 1 1 1 1 1 2 2 2 2 2 2 2 2 2 2 2 2 2 2 2\n",
       " [75] 2 2 2 2 2 2 2 2 2 2 2 2 2 2 2 2 2 2 2 2 2 2 2 2 2 2 2 2 2 2 2 2 2 2 2 2 2\n",
       "[112] 2 2 2 2 2 2 2 2 2 2 2 2 2 2 2 2 2 2 2 3 3 3 3 3 3 3 3 3 3 3 3 3 3 3 3 3 3\n",
       "[149] 3 3 3 3 3 3 3 3 3 3 3 3 3 3 3 3 3 3 3 3 3 3 3 3 3 3 3 3 3 3\n",
       "Levels: 1 2 3"
      ]
     },
     "metadata": {},
     "output_type": "display_data"
    }
   ],
   "source": [
    "# predykcja przenaleznosci do klas\n",
    "predict(model_lda_6)$class"
   ]
  },
  {
   "cell_type": "markdown",
   "metadata": {},
   "source": [
    "#### vi) Jakie są prawdopodobieństwa przynależności do klas dla dwudziestej obserwacji?"
   ]
  },
  {
   "cell_type": "code",
   "execution_count": 8,
   "metadata": {
    "scrolled": false
   },
   "outputs": [
    {
     "data": {
      "text/html": [
       "<style>\n",
       ".dl-inline {width: auto; margin:0; padding: 0}\n",
       ".dl-inline>dt, .dl-inline>dd {float: none; width: auto; display: inline-block}\n",
       ".dl-inline>dt::after {content: \":\\0020\"; padding-right: .5ex}\n",
       ".dl-inline>dt:not(:first-of-type) {padding-left: .5ex}\n",
       "</style><dl class=dl-inline><dt>1</dt><dd>0.999999490448063</dd><dt>2</dt><dd>5.0955112019153e-07</dd><dt>3</dt><dd>8.16938696145394e-13</dd></dl>\n"
      ],
      "text/latex": [
       "\\begin{description*}\n",
       "\\item[1] 0.999999490448063\n",
       "\\item[2] 5.0955112019153e-07\n",
       "\\item[3] 8.16938696145394e-13\n",
       "\\end{description*}\n"
      ],
      "text/markdown": [
       "1\n",
       ":   0.9999994904480632\n",
       ":   5.0955112019153e-073\n",
       ":   8.16938696145394e-13\n",
       "\n"
      ],
      "text/plain": [
       "           1            2            3 \n",
       "9.999995e-01 5.095511e-07 8.169387e-13 "
      ]
     },
     "metadata": {},
     "output_type": "display_data"
    }
   ],
   "source": [
    "# predykcja przenaleznosci do klas dla dwudziestej obserwacji\n",
    "predict(model_lda_6)$posterior[20,]"
   ]
  },
  {
   "cell_type": "markdown",
   "metadata": {},
   "source": [
    "Prawdopodobieństwa przynależności do klas dla dwudziestej obserwacji wynoszą odpowiednio: 0.999999490448063 dla pierwszego typu uprawy, 5.0955112019153e-07 dla drugiego typu uprawy i 8.16938696145394e-13 dla trzeciego typu uprawy."
   ]
  },
  {
   "cell_type": "markdown",
   "metadata": {},
   "source": [
    "#### vii) Do której z klas zostanie zaklasyfikowana ta obserwacja?"
   ]
  },
  {
   "cell_type": "code",
   "execution_count": 9,
   "metadata": {
    "scrolled": false
   },
   "outputs": [
    {
     "data": {
      "text/html": [
       "1\n",
       "<details>\n",
       "\t<summary style=display:list-item;cursor:pointer>\n",
       "\t\t<strong>Levels</strong>:\n",
       "\t</summary>\n",
       "\t<style>\n",
       "\t.list-inline {list-style: none; margin:0; padding: 0}\n",
       "\t.list-inline>li {display: inline-block}\n",
       "\t.list-inline>li:not(:last-child)::after {content: \"\\00b7\"; padding: 0 .5ex}\n",
       "\t</style>\n",
       "\t<ol class=list-inline><li>'1'</li><li>'2'</li><li>'3'</li></ol>\n",
       "</details>"
      ],
      "text/latex": [
       "1\n",
       "\\emph{Levels}: \\begin{enumerate*}\n",
       "\\item '1'\n",
       "\\item '2'\n",
       "\\item '3'\n",
       "\\end{enumerate*}\n"
      ],
      "text/markdown": [
       "1\n",
       "**Levels**: 1. '1'\n",
       "2. '2'\n",
       "3. '3'\n",
       "\n",
       "\n"
      ],
      "text/plain": [
       "[1] 1\n",
       "Levels: 1 2 3"
      ]
     },
     "metadata": {},
     "output_type": "display_data"
    }
   ],
   "source": [
    "# predykcja przenaleznosci do klas dla dwudziestej obserwacji\n",
    "predict(model_lda_6)$class[20]"
   ]
  },
  {
   "cell_type": "markdown",
   "metadata": {},
   "source": [
    "Obserwacja dwudziesta zaklasyfikowana została do pierwszego typu uprawy."
   ]
  },
  {
   "cell_type": "markdown",
   "metadata": {},
   "source": [
    "#### viii) Wyznacz procent właściwie zaklasyfikowanych obiektów."
   ]
  },
  {
   "cell_type": "code",
   "execution_count": 10,
   "metadata": {},
   "outputs": [],
   "source": [
    "# utworzenie tabeli predykcji - porownanie wartosci rzeczywistych z otrzymanymi na podstawie modelu\n",
    "tabela_predykcji_6 = table(True = wino$V1, Predicted = predict(model_lda_6)$class)"
   ]
  },
  {
   "cell_type": "code",
   "execution_count": 11,
   "metadata": {},
   "outputs": [
    {
     "data": {
      "text/html": [
       "0"
      ],
      "text/latex": [
       "0"
      ],
      "text/markdown": [
       "0"
      ],
      "text/plain": [
       "[1] 0"
      ]
     },
     "metadata": {},
     "output_type": "display_data"
    }
   ],
   "source": [
    "# procent niepoprawnie zaklasyfikowanych obiektow\n",
    "blad_6 = (sum(tabela_predykcji_6) - sum(diag(tabela_predykcji_6))) / sum(tabela_predykcji_6) * 100\n",
    "blad_6"
   ]
  },
  {
   "cell_type": "code",
   "execution_count": 12,
   "metadata": {},
   "outputs": [
    {
     "data": {
      "text/html": [
       "100"
      ],
      "text/latex": [
       "100"
      ],
      "text/markdown": [
       "100"
      ],
      "text/plain": [
       "[1] 100"
      ]
     },
     "metadata": {},
     "output_type": "display_data"
    }
   ],
   "source": [
    "# procent poprawnie zaklasyfikowanych obiektow\n",
    "poprawne_6 = 100 - blad_6\n",
    "poprawne_6"
   ]
  },
  {
   "cell_type": "markdown",
   "metadata": {},
   "source": [
    "Wszystkie obserwacje zostały poprawnie zaklasyfikowane na podstawie modelu liniowego."
   ]
  },
  {
   "cell_type": "markdown",
   "metadata": {},
   "source": [
    "#### ix) Przedstaw i skomentuj tabelę predykcji."
   ]
  },
  {
   "cell_type": "code",
   "execution_count": 13,
   "metadata": {},
   "outputs": [
    {
     "data": {
      "text/plain": [
       "    Predicted\n",
       "True  1  2  3\n",
       "   1 59  0  0\n",
       "   2  0 71  0\n",
       "   3  0  0 48"
      ]
     },
     "metadata": {},
     "output_type": "display_data"
    }
   ],
   "source": [
    "# przedstawienie tabeli predykcji\n",
    "tabela_predykcji_6"
   ]
  },
  {
   "cell_type": "markdown",
   "metadata": {},
   "source": [
    "Wszystkie obserwacje na podstawie modelu liniowego zostały zaklasyfikowane do grup takich, w jakich znajdują się w rzeczywistości."
   ]
  },
  {
   "cell_type": "markdown",
   "metadata": {},
   "source": [
    "# Lista 4"
   ]
  },
  {
   "cell_type": "markdown",
   "metadata": {},
   "source": [
    "## Ćwiczenie 7\n",
    "Plik $urine.txt$ zawiera dane dotyczące obecności kryształów oraz innych właściwości moczu. W danych znajdują się następujące zmienne:\n",
    "- $pres$ - obecność kryształów (0 - brak, 1 - obecność)\n",
    "- $gravity$ - ciężar właściwy\n",
    "- $ph$ - wartość współczynnika pH\n",
    "- $osmo$ - osmolarność moczu\n",
    "- $conduct$ - przewodnictwo\n",
    "- $urea$ - stężenie mocznika\n",
    "- $calc$ - stężenie wapnia"
   ]
  },
  {
   "cell_type": "markdown",
   "metadata": {},
   "source": [
    "Dla tych danych wykonaj polecenia z powyższego ćwiczenia. Dla wyznaczenia zbioru uczącego wybierz losowo 50 obserwacji ze zbioru danych, pozostałe traktując jako zbiór testowy."
   ]
  },
  {
   "cell_type": "code",
   "execution_count": 14,
   "metadata": {},
   "outputs": [
    {
     "data": {
      "text/html": [
       "<table class=\"dataframe\">\n",
       "<caption>A data.frame: 6 × 8</caption>\n",
       "<thead>\n",
       "\t<tr><th></th><th scope=col>X.</th><th scope=col>pres</th><th scope=col>gravity</th><th scope=col>ph</th><th scope=col>osmo</th><th scope=col>cond</th><th scope=col>urea</th><th scope=col>calc</th></tr>\n",
       "\t<tr><th></th><th scope=col>&lt;int&gt;</th><th scope=col>&lt;int&gt;</th><th scope=col>&lt;dbl&gt;</th><th scope=col>&lt;dbl&gt;</th><th scope=col>&lt;int&gt;</th><th scope=col>&lt;dbl&gt;</th><th scope=col>&lt;int&gt;</th><th scope=col>&lt;dbl&gt;</th></tr>\n",
       "</thead>\n",
       "<tbody>\n",
       "\t<tr><th scope=row>1</th><td>1</td><td>0</td><td>1.021</td><td>4.91</td><td>725</td><td>  NA</td><td>443</td><td>2.45</td></tr>\n",
       "\t<tr><th scope=row>2</th><td>2</td><td>0</td><td>1.017</td><td>5.74</td><td>577</td><td>20.0</td><td>296</td><td>4.49</td></tr>\n",
       "\t<tr><th scope=row>3</th><td>3</td><td>0</td><td>1.008</td><td>7.20</td><td>321</td><td>14.9</td><td>101</td><td>2.36</td></tr>\n",
       "\t<tr><th scope=row>4</th><td>4</td><td>0</td><td>1.011</td><td>5.51</td><td>408</td><td>12.6</td><td>224</td><td>2.15</td></tr>\n",
       "\t<tr><th scope=row>5</th><td>5</td><td>0</td><td>1.005</td><td>6.52</td><td>187</td><td> 7.5</td><td> 91</td><td>1.16</td></tr>\n",
       "\t<tr><th scope=row>6</th><td>6</td><td>0</td><td>1.020</td><td>5.27</td><td>668</td><td>25.3</td><td>252</td><td>3.34</td></tr>\n",
       "</tbody>\n",
       "</table>\n"
      ],
      "text/latex": [
       "A data.frame: 6 × 8\n",
       "\\begin{tabular}{r|llllllll}\n",
       "  & X. & pres & gravity & ph & osmo & cond & urea & calc\\\\\n",
       "  & <int> & <int> & <dbl> & <dbl> & <int> & <dbl> & <int> & <dbl>\\\\\n",
       "\\hline\n",
       "\t1 & 1 & 0 & 1.021 & 4.91 & 725 &   NA & 443 & 2.45\\\\\n",
       "\t2 & 2 & 0 & 1.017 & 5.74 & 577 & 20.0 & 296 & 4.49\\\\\n",
       "\t3 & 3 & 0 & 1.008 & 7.20 & 321 & 14.9 & 101 & 2.36\\\\\n",
       "\t4 & 4 & 0 & 1.011 & 5.51 & 408 & 12.6 & 224 & 2.15\\\\\n",
       "\t5 & 5 & 0 & 1.005 & 6.52 & 187 &  7.5 &  91 & 1.16\\\\\n",
       "\t6 & 6 & 0 & 1.020 & 5.27 & 668 & 25.3 & 252 & 3.34\\\\\n",
       "\\end{tabular}\n"
      ],
      "text/markdown": [
       "\n",
       "A data.frame: 6 × 8\n",
       "\n",
       "| <!--/--> | X. &lt;int&gt; | pres &lt;int&gt; | gravity &lt;dbl&gt; | ph &lt;dbl&gt; | osmo &lt;int&gt; | cond &lt;dbl&gt; | urea &lt;int&gt; | calc &lt;dbl&gt; |\n",
       "|---|---|---|---|---|---|---|---|---|\n",
       "| 1 | 1 | 0 | 1.021 | 4.91 | 725 |   NA | 443 | 2.45 |\n",
       "| 2 | 2 | 0 | 1.017 | 5.74 | 577 | 20.0 | 296 | 4.49 |\n",
       "| 3 | 3 | 0 | 1.008 | 7.20 | 321 | 14.9 | 101 | 2.36 |\n",
       "| 4 | 4 | 0 | 1.011 | 5.51 | 408 | 12.6 | 224 | 2.15 |\n",
       "| 5 | 5 | 0 | 1.005 | 6.52 | 187 |  7.5 |  91 | 1.16 |\n",
       "| 6 | 6 | 0 | 1.020 | 5.27 | 668 | 25.3 | 252 | 3.34 |\n",
       "\n"
      ],
      "text/plain": [
       "  X. pres gravity ph   osmo cond urea calc\n",
       "1 1  0    1.021   4.91 725    NA 443  2.45\n",
       "2 2  0    1.017   5.74 577  20.0 296  4.49\n",
       "3 3  0    1.008   7.20 321  14.9 101  2.36\n",
       "4 4  0    1.011   5.51 408  12.6 224  2.15\n",
       "5 5  0    1.005   6.52 187   7.5  91  1.16\n",
       "6 6  0    1.020   5.27 668  25.3 252  3.34"
      ]
     },
     "metadata": {},
     "output_type": "display_data"
    }
   ],
   "source": [
    "# wczytanie danych z naglowkami\n",
    "mocz = read.table(\"urine.txt\", header = TRUE, sep = \",\")\n",
    "# wyswietlenie pierwszych wierszy naszych danych\n",
    "head(mocz)"
   ]
  },
  {
   "cell_type": "markdown",
   "metadata": {},
   "source": [
    "#### i) Dokonaj podziału obserwacji na podzbiór uczący (losowe 50 obserwacji) oraz zbiór testowy (pozostałe)."
   ]
  },
  {
   "cell_type": "code",
   "execution_count": 15,
   "metadata": {},
   "outputs": [
    {
     "data": {
      "text/html": [
       "79"
      ],
      "text/latex": [
       "79"
      ],
      "text/markdown": [
       "79"
      ],
      "text/plain": [
       "[1] 79"
      ]
     },
     "metadata": {},
     "output_type": "display_data"
    }
   ],
   "source": [
    "# liczba obserwacji w zbiorze danych\n",
    "obserwacje_7 = nrow(mocz)\n",
    "obserwacje_7"
   ]
  },
  {
   "cell_type": "code",
   "execution_count": 16,
   "metadata": {},
   "outputs": [],
   "source": [
    "# wybranie losowych 50 obserwacji\n",
    "#losowe_obserwacje_7 = sort(sample(1:79, 50, replace = FALSE))"
   ]
  },
  {
   "cell_type": "markdown",
   "metadata": {},
   "source": [
    "Obserwacje zostały wylosowane wcześniej, aby przy każdym puszczaniu gotowego kodu próby ucząca i testowa miały identyczną zawartość, która wpływa na kolejne, wykonane poniżej kroki."
   ]
  },
  {
   "cell_type": "code",
   "execution_count": 17,
   "metadata": {},
   "outputs": [],
   "source": [
    "# wektor losowych obserwacji\n",
    "losowe_obserwacje_7 = c(2, 4, 5, 7, 8, 9, 10, 12, 13, 14, 16, 18, 19, 20, 21, 22, 23, 24, 27, 29, 31, 33, 34, 37, 39, 40, 41, 42, 47, 48, 49, 50, 51, 55, 56, 57, 58, 59, 60, 61, 63, 65, 67, 69, 73, 74, 75, 76, 77, 79)"
   ]
  },
  {
   "cell_type": "code",
   "execution_count": 18,
   "metadata": {},
   "outputs": [
    {
     "data": {
      "text/html": [
       "<table class=\"dataframe\">\n",
       "<caption>A data.frame: 50 × 7</caption>\n",
       "<thead>\n",
       "\t<tr><th></th><th scope=col>pres</th><th scope=col>gravity</th><th scope=col>ph</th><th scope=col>osmo</th><th scope=col>cond</th><th scope=col>urea</th><th scope=col>calc</th></tr>\n",
       "\t<tr><th></th><th scope=col>&lt;int&gt;</th><th scope=col>&lt;dbl&gt;</th><th scope=col>&lt;dbl&gt;</th><th scope=col>&lt;int&gt;</th><th scope=col>&lt;dbl&gt;</th><th scope=col>&lt;int&gt;</th><th scope=col>&lt;dbl&gt;</th></tr>\n",
       "</thead>\n",
       "<tbody>\n",
       "\t<tr><th scope=row>2</th><td>0</td><td>1.017</td><td>5.74</td><td> 577</td><td>20.0</td><td>296</td><td> 4.49</td></tr>\n",
       "\t<tr><th scope=row>4</th><td>0</td><td>1.011</td><td>5.51</td><td> 408</td><td>12.6</td><td>224</td><td> 2.15</td></tr>\n",
       "\t<tr><th scope=row>5</th><td>0</td><td>1.005</td><td>6.52</td><td> 187</td><td> 7.5</td><td> 91</td><td> 1.16</td></tr>\n",
       "\t<tr><th scope=row>7</th><td>0</td><td>1.012</td><td>5.62</td><td> 461</td><td>17.4</td><td>195</td><td> 1.40</td></tr>\n",
       "\t<tr><th scope=row>8</th><td>0</td><td>1.029</td><td>5.67</td><td>1107</td><td>35.9</td><td>550</td><td> 8.48</td></tr>\n",
       "\t<tr><th scope=row>9</th><td>0</td><td>1.015</td><td>5.41</td><td> 543</td><td>21.9</td><td>170</td><td> 1.16</td></tr>\n",
       "\t<tr><th scope=row>10</th><td>0</td><td>1.021</td><td>6.13</td><td> 779</td><td>25.7</td><td>382</td><td> 2.21</td></tr>\n",
       "\t<tr><th scope=row>12</th><td>0</td><td>1.025</td><td>5.53</td><td> 907</td><td>28.4</td><td>448</td><td> 1.27</td></tr>\n",
       "\t<tr><th scope=row>13</th><td>0</td><td>1.006</td><td>7.12</td><td> 242</td><td>11.3</td><td> 64</td><td> 1.03</td></tr>\n",
       "\t<tr><th scope=row>14</th><td>0</td><td>1.007</td><td>5.35</td><td> 283</td><td> 9.9</td><td>147</td><td> 1.47</td></tr>\n",
       "\t<tr><th scope=row>16</th><td>0</td><td>1.018</td><td>4.90</td><td> 684</td><td>26.1</td><td>284</td><td> 5.09</td></tr>\n",
       "\t<tr><th scope=row>18</th><td>0</td><td>1.025</td><td>6.81</td><td> 947</td><td>32.6</td><td>395</td><td> 2.03</td></tr>\n",
       "\t<tr><th scope=row>19</th><td>0</td><td>1.008</td><td>6.88</td><td> 395</td><td>26.1</td><td> 95</td><td> 7.68</td></tr>\n",
       "\t<tr><th scope=row>20</th><td>0</td><td>1.014</td><td>6.14</td><td> 565</td><td>23.6</td><td>214</td><td> 1.45</td></tr>\n",
       "\t<tr><th scope=row>21</th><td>0</td><td>1.024</td><td>6.30</td><td> 874</td><td>29.9</td><td>380</td><td> 5.16</td></tr>\n",
       "\t<tr><th scope=row>22</th><td>0</td><td>1.019</td><td>5.47</td><td> 760</td><td>33.8</td><td>199</td><td> 0.81</td></tr>\n",
       "\t<tr><th scope=row>23</th><td>0</td><td>1.014</td><td>7.38</td><td> 577</td><td>30.1</td><td> 87</td><td> 1.32</td></tr>\n",
       "\t<tr><th scope=row>24</th><td>0</td><td>1.020</td><td>5.96</td><td> 631</td><td>11.2</td><td>422</td><td> 1.55</td></tr>\n",
       "\t<tr><th scope=row>27</th><td>0</td><td>1.017</td><td>7.61</td><td> 527</td><td>25.8</td><td> 75</td><td> 2.17</td></tr>\n",
       "\t<tr><th scope=row>29</th><td>0</td><td>1.008</td><td>5.87</td><td> 241</td><td> 5.1</td><td>159</td><td> 0.83</td></tr>\n",
       "\t<tr><th scope=row>31</th><td>0</td><td>1.017</td><td>7.92</td><td> 680</td><td>25.3</td><td>282</td><td> 1.06</td></tr>\n",
       "\t<tr><th scope=row>33</th><td>0</td><td>1.017</td><td>6.56</td><td> 559</td><td>15.8</td><td>317</td><td> 5.38</td></tr>\n",
       "\t<tr><th scope=row>34</th><td>0</td><td>1.008</td><td>5.94</td><td> 256</td><td> 8.1</td><td>130</td><td> 3.53</td></tr>\n",
       "\t<tr><th scope=row>37</th><td>0</td><td>1.008</td><td>6.40</td><td> 341</td><td>14.6</td><td>125</td><td> 1.02</td></tr>\n",
       "\t<tr><th scope=row>39</th><td>0</td><td>1.009</td><td>6.37</td><td> 325</td><td>12.2</td><td> 97</td><td> 1.19</td></tr>\n",
       "\t<tr><th scope=row>40</th><td>0</td><td>1.018</td><td>6.18</td><td> 694</td><td>23.3</td><td>311</td><td> 5.64</td></tr>\n",
       "\t<tr><th scope=row>41</th><td>0</td><td>1.021</td><td>5.33</td><td> 815</td><td>26.0</td><td>385</td><td> 2.66</td></tr>\n",
       "\t<tr><th scope=row>42</th><td>0</td><td>1.009</td><td>5.64</td><td> 386</td><td>17.7</td><td>104</td><td> 1.22</td></tr>\n",
       "\t<tr><th scope=row>47</th><td>1</td><td>1.024</td><td>5.77</td><td> 698</td><td>19.5</td><td>354</td><td>13.00</td></tr>\n",
       "\t<tr><th scope=row>48</th><td>1</td><td>1.024</td><td>5.60</td><td> 866</td><td>29.5</td><td>360</td><td> 5.54</td></tr>\n",
       "\t<tr><th scope=row>49</th><td>1</td><td>1.021</td><td>5.53</td><td> 775</td><td>31.2</td><td>302</td><td> 6.19</td></tr>\n",
       "\t<tr><th scope=row>50</th><td>1</td><td>1.024</td><td>5.36</td><td> 853</td><td>27.6</td><td>364</td><td> 7.31</td></tr>\n",
       "\t<tr><th scope=row>51</th><td>1</td><td>1.026</td><td>5.16</td><td> 822</td><td>26.0</td><td>301</td><td>14.34</td></tr>\n",
       "\t<tr><th scope=row>55</th><td>1</td><td>1.022</td><td>6.21</td><td>  NA</td><td>20.6</td><td>398</td><td> 4.18</td></tr>\n",
       "\t<tr><th scope=row>56</th><td>1</td><td>1.011</td><td>6.13</td><td> 364</td><td>10.9</td><td>159</td><td> 3.10</td></tr>\n",
       "\t<tr><th scope=row>57</th><td>1</td><td>1.031</td><td>5.73</td><td> 874</td><td>17.4</td><td>516</td><td> 3.01</td></tr>\n",
       "\t<tr><th scope=row>58</th><td>1</td><td>1.020</td><td>7.94</td><td> 567</td><td>19.7</td><td>212</td><td> 6.81</td></tr>\n",
       "\t<tr><th scope=row>59</th><td>1</td><td>1.040</td><td>6.28</td><td> 838</td><td>14.3</td><td>486</td><td> 8.28</td></tr>\n",
       "\t<tr><th scope=row>60</th><td>1</td><td>1.021</td><td>5.56</td><td> 658</td><td>23.6</td><td>224</td><td> 2.33</td></tr>\n",
       "\t<tr><th scope=row>61</th><td>1</td><td>1.025</td><td>5.71</td><td> 854</td><td>27.0</td><td>385</td><td> 7.18</td></tr>\n",
       "\t<tr><th scope=row>63</th><td>1</td><td>1.034</td><td>5.24</td><td>1236</td><td>27.3</td><td>620</td><td>12.68</td></tr>\n",
       "\t<tr><th scope=row>65</th><td>1</td><td>1.015</td><td>5.98</td><td> 487</td><td>14.8</td><td>198</td><td> 3.16</td></tr>\n",
       "\t<tr><th scope=row>67</th><td>1</td><td>1.014</td><td>5.90</td><td> 456</td><td>17.8</td><td>164</td><td> 6.99</td></tr>\n",
       "\t<tr><th scope=row>69</th><td>1</td><td>1.025</td><td>6.90</td><td> 945</td><td>33.6</td><td>396</td><td> 4.18</td></tr>\n",
       "\t<tr><th scope=row>73</th><td>1</td><td>1.018</td><td>5.14</td><td> 703</td><td>29.0</td><td>272</td><td> 6.63</td></tr>\n",
       "\t<tr><th scope=row>74</th><td>1</td><td>1.022</td><td>5.09</td><td> 736</td><td>19.8</td><td>418</td><td> 8.53</td></tr>\n",
       "\t<tr><th scope=row>75</th><td>1</td><td>1.025</td><td>7.90</td><td> 721</td><td>23.6</td><td>301</td><td> 9.04</td></tr>\n",
       "\t<tr><th scope=row>76</th><td>1</td><td>1.017</td><td>4.81</td><td> 410</td><td>13.3</td><td>195</td><td> 0.58</td></tr>\n",
       "\t<tr><th scope=row>77</th><td>1</td><td>1.024</td><td>5.40</td><td> 803</td><td>21.8</td><td>394</td><td> 7.82</td></tr>\n",
       "\t<tr><th scope=row>79</th><td>1</td><td>1.015</td><td>6.03</td><td> 416</td><td>12.8</td><td>178</td><td> 9.39</td></tr>\n",
       "</tbody>\n",
       "</table>\n"
      ],
      "text/latex": [
       "A data.frame: 50 × 7\n",
       "\\begin{tabular}{r|lllllll}\n",
       "  & pres & gravity & ph & osmo & cond & urea & calc\\\\\n",
       "  & <int> & <dbl> & <dbl> & <int> & <dbl> & <int> & <dbl>\\\\\n",
       "\\hline\n",
       "\t2 & 0 & 1.017 & 5.74 &  577 & 20.0 & 296 &  4.49\\\\\n",
       "\t4 & 0 & 1.011 & 5.51 &  408 & 12.6 & 224 &  2.15\\\\\n",
       "\t5 & 0 & 1.005 & 6.52 &  187 &  7.5 &  91 &  1.16\\\\\n",
       "\t7 & 0 & 1.012 & 5.62 &  461 & 17.4 & 195 &  1.40\\\\\n",
       "\t8 & 0 & 1.029 & 5.67 & 1107 & 35.9 & 550 &  8.48\\\\\n",
       "\t9 & 0 & 1.015 & 5.41 &  543 & 21.9 & 170 &  1.16\\\\\n",
       "\t10 & 0 & 1.021 & 6.13 &  779 & 25.7 & 382 &  2.21\\\\\n",
       "\t12 & 0 & 1.025 & 5.53 &  907 & 28.4 & 448 &  1.27\\\\\n",
       "\t13 & 0 & 1.006 & 7.12 &  242 & 11.3 &  64 &  1.03\\\\\n",
       "\t14 & 0 & 1.007 & 5.35 &  283 &  9.9 & 147 &  1.47\\\\\n",
       "\t16 & 0 & 1.018 & 4.90 &  684 & 26.1 & 284 &  5.09\\\\\n",
       "\t18 & 0 & 1.025 & 6.81 &  947 & 32.6 & 395 &  2.03\\\\\n",
       "\t19 & 0 & 1.008 & 6.88 &  395 & 26.1 &  95 &  7.68\\\\\n",
       "\t20 & 0 & 1.014 & 6.14 &  565 & 23.6 & 214 &  1.45\\\\\n",
       "\t21 & 0 & 1.024 & 6.30 &  874 & 29.9 & 380 &  5.16\\\\\n",
       "\t22 & 0 & 1.019 & 5.47 &  760 & 33.8 & 199 &  0.81\\\\\n",
       "\t23 & 0 & 1.014 & 7.38 &  577 & 30.1 &  87 &  1.32\\\\\n",
       "\t24 & 0 & 1.020 & 5.96 &  631 & 11.2 & 422 &  1.55\\\\\n",
       "\t27 & 0 & 1.017 & 7.61 &  527 & 25.8 &  75 &  2.17\\\\\n",
       "\t29 & 0 & 1.008 & 5.87 &  241 &  5.1 & 159 &  0.83\\\\\n",
       "\t31 & 0 & 1.017 & 7.92 &  680 & 25.3 & 282 &  1.06\\\\\n",
       "\t33 & 0 & 1.017 & 6.56 &  559 & 15.8 & 317 &  5.38\\\\\n",
       "\t34 & 0 & 1.008 & 5.94 &  256 &  8.1 & 130 &  3.53\\\\\n",
       "\t37 & 0 & 1.008 & 6.40 &  341 & 14.6 & 125 &  1.02\\\\\n",
       "\t39 & 0 & 1.009 & 6.37 &  325 & 12.2 &  97 &  1.19\\\\\n",
       "\t40 & 0 & 1.018 & 6.18 &  694 & 23.3 & 311 &  5.64\\\\\n",
       "\t41 & 0 & 1.021 & 5.33 &  815 & 26.0 & 385 &  2.66\\\\\n",
       "\t42 & 0 & 1.009 & 5.64 &  386 & 17.7 & 104 &  1.22\\\\\n",
       "\t47 & 1 & 1.024 & 5.77 &  698 & 19.5 & 354 & 13.00\\\\\n",
       "\t48 & 1 & 1.024 & 5.60 &  866 & 29.5 & 360 &  5.54\\\\\n",
       "\t49 & 1 & 1.021 & 5.53 &  775 & 31.2 & 302 &  6.19\\\\\n",
       "\t50 & 1 & 1.024 & 5.36 &  853 & 27.6 & 364 &  7.31\\\\\n",
       "\t51 & 1 & 1.026 & 5.16 &  822 & 26.0 & 301 & 14.34\\\\\n",
       "\t55 & 1 & 1.022 & 6.21 &   NA & 20.6 & 398 &  4.18\\\\\n",
       "\t56 & 1 & 1.011 & 6.13 &  364 & 10.9 & 159 &  3.10\\\\\n",
       "\t57 & 1 & 1.031 & 5.73 &  874 & 17.4 & 516 &  3.01\\\\\n",
       "\t58 & 1 & 1.020 & 7.94 &  567 & 19.7 & 212 &  6.81\\\\\n",
       "\t59 & 1 & 1.040 & 6.28 &  838 & 14.3 & 486 &  8.28\\\\\n",
       "\t60 & 1 & 1.021 & 5.56 &  658 & 23.6 & 224 &  2.33\\\\\n",
       "\t61 & 1 & 1.025 & 5.71 &  854 & 27.0 & 385 &  7.18\\\\\n",
       "\t63 & 1 & 1.034 & 5.24 & 1236 & 27.3 & 620 & 12.68\\\\\n",
       "\t65 & 1 & 1.015 & 5.98 &  487 & 14.8 & 198 &  3.16\\\\\n",
       "\t67 & 1 & 1.014 & 5.90 &  456 & 17.8 & 164 &  6.99\\\\\n",
       "\t69 & 1 & 1.025 & 6.90 &  945 & 33.6 & 396 &  4.18\\\\\n",
       "\t73 & 1 & 1.018 & 5.14 &  703 & 29.0 & 272 &  6.63\\\\\n",
       "\t74 & 1 & 1.022 & 5.09 &  736 & 19.8 & 418 &  8.53\\\\\n",
       "\t75 & 1 & 1.025 & 7.90 &  721 & 23.6 & 301 &  9.04\\\\\n",
       "\t76 & 1 & 1.017 & 4.81 &  410 & 13.3 & 195 &  0.58\\\\\n",
       "\t77 & 1 & 1.024 & 5.40 &  803 & 21.8 & 394 &  7.82\\\\\n",
       "\t79 & 1 & 1.015 & 6.03 &  416 & 12.8 & 178 &  9.39\\\\\n",
       "\\end{tabular}\n"
      ],
      "text/markdown": [
       "\n",
       "A data.frame: 50 × 7\n",
       "\n",
       "| <!--/--> | pres &lt;int&gt; | gravity &lt;dbl&gt; | ph &lt;dbl&gt; | osmo &lt;int&gt; | cond &lt;dbl&gt; | urea &lt;int&gt; | calc &lt;dbl&gt; |\n",
       "|---|---|---|---|---|---|---|---|\n",
       "| 2 | 0 | 1.017 | 5.74 |  577 | 20.0 | 296 |  4.49 |\n",
       "| 4 | 0 | 1.011 | 5.51 |  408 | 12.6 | 224 |  2.15 |\n",
       "| 5 | 0 | 1.005 | 6.52 |  187 |  7.5 |  91 |  1.16 |\n",
       "| 7 | 0 | 1.012 | 5.62 |  461 | 17.4 | 195 |  1.40 |\n",
       "| 8 | 0 | 1.029 | 5.67 | 1107 | 35.9 | 550 |  8.48 |\n",
       "| 9 | 0 | 1.015 | 5.41 |  543 | 21.9 | 170 |  1.16 |\n",
       "| 10 | 0 | 1.021 | 6.13 |  779 | 25.7 | 382 |  2.21 |\n",
       "| 12 | 0 | 1.025 | 5.53 |  907 | 28.4 | 448 |  1.27 |\n",
       "| 13 | 0 | 1.006 | 7.12 |  242 | 11.3 |  64 |  1.03 |\n",
       "| 14 | 0 | 1.007 | 5.35 |  283 |  9.9 | 147 |  1.47 |\n",
       "| 16 | 0 | 1.018 | 4.90 |  684 | 26.1 | 284 |  5.09 |\n",
       "| 18 | 0 | 1.025 | 6.81 |  947 | 32.6 | 395 |  2.03 |\n",
       "| 19 | 0 | 1.008 | 6.88 |  395 | 26.1 |  95 |  7.68 |\n",
       "| 20 | 0 | 1.014 | 6.14 |  565 | 23.6 | 214 |  1.45 |\n",
       "| 21 | 0 | 1.024 | 6.30 |  874 | 29.9 | 380 |  5.16 |\n",
       "| 22 | 0 | 1.019 | 5.47 |  760 | 33.8 | 199 |  0.81 |\n",
       "| 23 | 0 | 1.014 | 7.38 |  577 | 30.1 |  87 |  1.32 |\n",
       "| 24 | 0 | 1.020 | 5.96 |  631 | 11.2 | 422 |  1.55 |\n",
       "| 27 | 0 | 1.017 | 7.61 |  527 | 25.8 |  75 |  2.17 |\n",
       "| 29 | 0 | 1.008 | 5.87 |  241 |  5.1 | 159 |  0.83 |\n",
       "| 31 | 0 | 1.017 | 7.92 |  680 | 25.3 | 282 |  1.06 |\n",
       "| 33 | 0 | 1.017 | 6.56 |  559 | 15.8 | 317 |  5.38 |\n",
       "| 34 | 0 | 1.008 | 5.94 |  256 |  8.1 | 130 |  3.53 |\n",
       "| 37 | 0 | 1.008 | 6.40 |  341 | 14.6 | 125 |  1.02 |\n",
       "| 39 | 0 | 1.009 | 6.37 |  325 | 12.2 |  97 |  1.19 |\n",
       "| 40 | 0 | 1.018 | 6.18 |  694 | 23.3 | 311 |  5.64 |\n",
       "| 41 | 0 | 1.021 | 5.33 |  815 | 26.0 | 385 |  2.66 |\n",
       "| 42 | 0 | 1.009 | 5.64 |  386 | 17.7 | 104 |  1.22 |\n",
       "| 47 | 1 | 1.024 | 5.77 |  698 | 19.5 | 354 | 13.00 |\n",
       "| 48 | 1 | 1.024 | 5.60 |  866 | 29.5 | 360 |  5.54 |\n",
       "| 49 | 1 | 1.021 | 5.53 |  775 | 31.2 | 302 |  6.19 |\n",
       "| 50 | 1 | 1.024 | 5.36 |  853 | 27.6 | 364 |  7.31 |\n",
       "| 51 | 1 | 1.026 | 5.16 |  822 | 26.0 | 301 | 14.34 |\n",
       "| 55 | 1 | 1.022 | 6.21 |   NA | 20.6 | 398 |  4.18 |\n",
       "| 56 | 1 | 1.011 | 6.13 |  364 | 10.9 | 159 |  3.10 |\n",
       "| 57 | 1 | 1.031 | 5.73 |  874 | 17.4 | 516 |  3.01 |\n",
       "| 58 | 1 | 1.020 | 7.94 |  567 | 19.7 | 212 |  6.81 |\n",
       "| 59 | 1 | 1.040 | 6.28 |  838 | 14.3 | 486 |  8.28 |\n",
       "| 60 | 1 | 1.021 | 5.56 |  658 | 23.6 | 224 |  2.33 |\n",
       "| 61 | 1 | 1.025 | 5.71 |  854 | 27.0 | 385 |  7.18 |\n",
       "| 63 | 1 | 1.034 | 5.24 | 1236 | 27.3 | 620 | 12.68 |\n",
       "| 65 | 1 | 1.015 | 5.98 |  487 | 14.8 | 198 |  3.16 |\n",
       "| 67 | 1 | 1.014 | 5.90 |  456 | 17.8 | 164 |  6.99 |\n",
       "| 69 | 1 | 1.025 | 6.90 |  945 | 33.6 | 396 |  4.18 |\n",
       "| 73 | 1 | 1.018 | 5.14 |  703 | 29.0 | 272 |  6.63 |\n",
       "| 74 | 1 | 1.022 | 5.09 |  736 | 19.8 | 418 |  8.53 |\n",
       "| 75 | 1 | 1.025 | 7.90 |  721 | 23.6 | 301 |  9.04 |\n",
       "| 76 | 1 | 1.017 | 4.81 |  410 | 13.3 | 195 |  0.58 |\n",
       "| 77 | 1 | 1.024 | 5.40 |  803 | 21.8 | 394 |  7.82 |\n",
       "| 79 | 1 | 1.015 | 6.03 |  416 | 12.8 | 178 |  9.39 |\n",
       "\n"
      ],
      "text/plain": [
       "   pres gravity ph   osmo cond urea calc \n",
       "2  0    1.017   5.74  577 20.0 296   4.49\n",
       "4  0    1.011   5.51  408 12.6 224   2.15\n",
       "5  0    1.005   6.52  187  7.5  91   1.16\n",
       "7  0    1.012   5.62  461 17.4 195   1.40\n",
       "8  0    1.029   5.67 1107 35.9 550   8.48\n",
       "9  0    1.015   5.41  543 21.9 170   1.16\n",
       "10 0    1.021   6.13  779 25.7 382   2.21\n",
       "12 0    1.025   5.53  907 28.4 448   1.27\n",
       "13 0    1.006   7.12  242 11.3  64   1.03\n",
       "14 0    1.007   5.35  283  9.9 147   1.47\n",
       "16 0    1.018   4.90  684 26.1 284   5.09\n",
       "18 0    1.025   6.81  947 32.6 395   2.03\n",
       "19 0    1.008   6.88  395 26.1  95   7.68\n",
       "20 0    1.014   6.14  565 23.6 214   1.45\n",
       "21 0    1.024   6.30  874 29.9 380   5.16\n",
       "22 0    1.019   5.47  760 33.8 199   0.81\n",
       "23 0    1.014   7.38  577 30.1  87   1.32\n",
       "24 0    1.020   5.96  631 11.2 422   1.55\n",
       "27 0    1.017   7.61  527 25.8  75   2.17\n",
       "29 0    1.008   5.87  241  5.1 159   0.83\n",
       "31 0    1.017   7.92  680 25.3 282   1.06\n",
       "33 0    1.017   6.56  559 15.8 317   5.38\n",
       "34 0    1.008   5.94  256  8.1 130   3.53\n",
       "37 0    1.008   6.40  341 14.6 125   1.02\n",
       "39 0    1.009   6.37  325 12.2  97   1.19\n",
       "40 0    1.018   6.18  694 23.3 311   5.64\n",
       "41 0    1.021   5.33  815 26.0 385   2.66\n",
       "42 0    1.009   5.64  386 17.7 104   1.22\n",
       "47 1    1.024   5.77  698 19.5 354  13.00\n",
       "48 1    1.024   5.60  866 29.5 360   5.54\n",
       "49 1    1.021   5.53  775 31.2 302   6.19\n",
       "50 1    1.024   5.36  853 27.6 364   7.31\n",
       "51 1    1.026   5.16  822 26.0 301  14.34\n",
       "55 1    1.022   6.21   NA 20.6 398   4.18\n",
       "56 1    1.011   6.13  364 10.9 159   3.10\n",
       "57 1    1.031   5.73  874 17.4 516   3.01\n",
       "58 1    1.020   7.94  567 19.7 212   6.81\n",
       "59 1    1.040   6.28  838 14.3 486   8.28\n",
       "60 1    1.021   5.56  658 23.6 224   2.33\n",
       "61 1    1.025   5.71  854 27.0 385   7.18\n",
       "63 1    1.034   5.24 1236 27.3 620  12.68\n",
       "65 1    1.015   5.98  487 14.8 198   3.16\n",
       "67 1    1.014   5.90  456 17.8 164   6.99\n",
       "69 1    1.025   6.90  945 33.6 396   4.18\n",
       "73 1    1.018   5.14  703 29.0 272   6.63\n",
       "74 1    1.022   5.09  736 19.8 418   8.53\n",
       "75 1    1.025   7.90  721 23.6 301   9.04\n",
       "76 1    1.017   4.81  410 13.3 195   0.58\n",
       "77 1    1.024   5.40  803 21.8 394   7.82\n",
       "79 1    1.015   6.03  416 12.8 178   9.39"
      ]
     },
     "metadata": {},
     "output_type": "display_data"
    }
   ],
   "source": [
    "# przygotowanie i wyswietlenie podzbioru uczacego\n",
    "podzbior_uczacy_7 = mocz[losowe_obserwacje_7, -1]\n",
    "podzbior_uczacy_7"
   ]
  },
  {
   "cell_type": "code",
   "execution_count": 19,
   "metadata": {},
   "outputs": [
    {
     "data": {
      "text/html": [
       "<table class=\"dataframe\">\n",
       "<caption>A data.frame: 29 × 7</caption>\n",
       "<thead>\n",
       "\t<tr><th></th><th scope=col>pres</th><th scope=col>gravity</th><th scope=col>ph</th><th scope=col>osmo</th><th scope=col>cond</th><th scope=col>urea</th><th scope=col>calc</th></tr>\n",
       "\t<tr><th></th><th scope=col>&lt;int&gt;</th><th scope=col>&lt;dbl&gt;</th><th scope=col>&lt;dbl&gt;</th><th scope=col>&lt;int&gt;</th><th scope=col>&lt;dbl&gt;</th><th scope=col>&lt;int&gt;</th><th scope=col>&lt;dbl&gt;</th></tr>\n",
       "</thead>\n",
       "<tbody>\n",
       "\t<tr><th scope=row>1</th><td>0</td><td>1.021</td><td>4.91</td><td> 725</td><td>  NA</td><td>443</td><td> 2.45</td></tr>\n",
       "\t<tr><th scope=row>3</th><td>0</td><td>1.008</td><td>7.20</td><td> 321</td><td>14.9</td><td>101</td><td> 2.36</td></tr>\n",
       "\t<tr><th scope=row>6</th><td>0</td><td>1.020</td><td>5.27</td><td> 668</td><td>25.3</td><td>252</td><td> 3.34</td></tr>\n",
       "\t<tr><th scope=row>11</th><td>0</td><td>1.011</td><td>6.19</td><td> 345</td><td>11.5</td><td>152</td><td> 1.93</td></tr>\n",
       "\t<tr><th scope=row>15</th><td>0</td><td>1.011</td><td>5.21</td><td> 450</td><td>17.9</td><td>161</td><td> 1.53</td></tr>\n",
       "\t<tr><th scope=row>17</th><td>0</td><td>1.007</td><td>6.63</td><td> 253</td><td> 8.4</td><td>133</td><td> 1.05</td></tr>\n",
       "\t<tr><th scope=row>25</th><td>0</td><td>1.023</td><td>5.68</td><td> 749</td><td>29.0</td><td>239</td><td> 1.52</td></tr>\n",
       "\t<tr><th scope=row>26</th><td>0</td><td>1.017</td><td>6.76</td><td> 455</td><td> 8.8</td><td>270</td><td> 0.77</td></tr>\n",
       "\t<tr><th scope=row>28</th><td>0</td><td>1.010</td><td>6.61</td><td> 225</td><td> 9.8</td><td> 72</td><td> 0.17</td></tr>\n",
       "\t<tr><th scope=row>30</th><td>0</td><td>1.020</td><td>5.44</td><td> 781</td><td>29.0</td><td>349</td><td> 3.04</td></tr>\n",
       "\t<tr><th scope=row>32</th><td>0</td><td>1.019</td><td>5.98</td><td> 579</td><td>15.5</td><td>297</td><td> 3.93</td></tr>\n",
       "\t<tr><th scope=row>35</th><td>0</td><td>1.023</td><td>5.85</td><td> 970</td><td>38.0</td><td>362</td><td> 4.54</td></tr>\n",
       "\t<tr><th scope=row>36</th><td>0</td><td>1.020</td><td>5.66</td><td> 702</td><td>23.6</td><td>330</td><td> 3.98</td></tr>\n",
       "\t<tr><th scope=row>38</th><td>0</td><td>1.020</td><td>6.35</td><td> 704</td><td>24.5</td><td>260</td><td> 3.46</td></tr>\n",
       "\t<tr><th scope=row>43</th><td>0</td><td>1.015</td><td>6.79</td><td> 541</td><td>20.9</td><td>187</td><td> 2.64</td></tr>\n",
       "\t<tr><th scope=row>44</th><td>0</td><td>1.010</td><td>5.97</td><td> 343</td><td>13.4</td><td>126</td><td> 2.31</td></tr>\n",
       "\t<tr><th scope=row>45</th><td>0</td><td>1.020</td><td>5.68</td><td> 876</td><td>35.8</td><td>308</td><td> 4.49</td></tr>\n",
       "\t<tr><th scope=row>46</th><td>1</td><td>1.021</td><td>5.94</td><td> 774</td><td>27.9</td><td>325</td><td> 6.96</td></tr>\n",
       "\t<tr><th scope=row>52</th><td>1</td><td>1.013</td><td>5.86</td><td> 531</td><td>21.4</td><td>197</td><td> 4.74</td></tr>\n",
       "\t<tr><th scope=row>53</th><td>1</td><td>1.010</td><td>6.27</td><td> 371</td><td>11.2</td><td>188</td><td> 2.50</td></tr>\n",
       "\t<tr><th scope=row>54</th><td>1</td><td>1.011</td><td>7.01</td><td> 443</td><td>21.4</td><td>124</td><td> 1.27</td></tr>\n",
       "\t<tr><th scope=row>62</th><td>1</td><td>1.026</td><td>6.19</td><td> 956</td><td>27.6</td><td>473</td><td> 5.67</td></tr>\n",
       "\t<tr><th scope=row>64</th><td>1</td><td>1.033</td><td>5.58</td><td>1032</td><td>29.1</td><td>430</td><td> 8.94</td></tr>\n",
       "\t<tr><th scope=row>66</th><td>1</td><td>1.013</td><td>5.58</td><td> 516</td><td>20.8</td><td>184</td><td> 3.30</td></tr>\n",
       "\t<tr><th scope=row>68</th><td>1</td><td>1.012</td><td>6.75</td><td> 251</td><td> 5.1</td><td>141</td><td> 0.65</td></tr>\n",
       "\t<tr><th scope=row>70</th><td>1</td><td>1.026</td><td>6.29</td><td> 833</td><td>22.2</td><td>457</td><td> 4.45</td></tr>\n",
       "\t<tr><th scope=row>71</th><td>1</td><td>1.028</td><td>4.76</td><td> 312</td><td>12.4</td><td> 10</td><td> 0.27</td></tr>\n",
       "\t<tr><th scope=row>72</th><td>1</td><td>1.027</td><td>5.40</td><td> 840</td><td>24.5</td><td>395</td><td> 7.64</td></tr>\n",
       "\t<tr><th scope=row>78</th><td>1</td><td>1.016</td><td>6.81</td><td> 594</td><td>21.4</td><td>255</td><td>12.20</td></tr>\n",
       "</tbody>\n",
       "</table>\n"
      ],
      "text/latex": [
       "A data.frame: 29 × 7\n",
       "\\begin{tabular}{r|lllllll}\n",
       "  & pres & gravity & ph & osmo & cond & urea & calc\\\\\n",
       "  & <int> & <dbl> & <dbl> & <int> & <dbl> & <int> & <dbl>\\\\\n",
       "\\hline\n",
       "\t1 & 0 & 1.021 & 4.91 &  725 &   NA & 443 &  2.45\\\\\n",
       "\t3 & 0 & 1.008 & 7.20 &  321 & 14.9 & 101 &  2.36\\\\\n",
       "\t6 & 0 & 1.020 & 5.27 &  668 & 25.3 & 252 &  3.34\\\\\n",
       "\t11 & 0 & 1.011 & 6.19 &  345 & 11.5 & 152 &  1.93\\\\\n",
       "\t15 & 0 & 1.011 & 5.21 &  450 & 17.9 & 161 &  1.53\\\\\n",
       "\t17 & 0 & 1.007 & 6.63 &  253 &  8.4 & 133 &  1.05\\\\\n",
       "\t25 & 0 & 1.023 & 5.68 &  749 & 29.0 & 239 &  1.52\\\\\n",
       "\t26 & 0 & 1.017 & 6.76 &  455 &  8.8 & 270 &  0.77\\\\\n",
       "\t28 & 0 & 1.010 & 6.61 &  225 &  9.8 &  72 &  0.17\\\\\n",
       "\t30 & 0 & 1.020 & 5.44 &  781 & 29.0 & 349 &  3.04\\\\\n",
       "\t32 & 0 & 1.019 & 5.98 &  579 & 15.5 & 297 &  3.93\\\\\n",
       "\t35 & 0 & 1.023 & 5.85 &  970 & 38.0 & 362 &  4.54\\\\\n",
       "\t36 & 0 & 1.020 & 5.66 &  702 & 23.6 & 330 &  3.98\\\\\n",
       "\t38 & 0 & 1.020 & 6.35 &  704 & 24.5 & 260 &  3.46\\\\\n",
       "\t43 & 0 & 1.015 & 6.79 &  541 & 20.9 & 187 &  2.64\\\\\n",
       "\t44 & 0 & 1.010 & 5.97 &  343 & 13.4 & 126 &  2.31\\\\\n",
       "\t45 & 0 & 1.020 & 5.68 &  876 & 35.8 & 308 &  4.49\\\\\n",
       "\t46 & 1 & 1.021 & 5.94 &  774 & 27.9 & 325 &  6.96\\\\\n",
       "\t52 & 1 & 1.013 & 5.86 &  531 & 21.4 & 197 &  4.74\\\\\n",
       "\t53 & 1 & 1.010 & 6.27 &  371 & 11.2 & 188 &  2.50\\\\\n",
       "\t54 & 1 & 1.011 & 7.01 &  443 & 21.4 & 124 &  1.27\\\\\n",
       "\t62 & 1 & 1.026 & 6.19 &  956 & 27.6 & 473 &  5.67\\\\\n",
       "\t64 & 1 & 1.033 & 5.58 & 1032 & 29.1 & 430 &  8.94\\\\\n",
       "\t66 & 1 & 1.013 & 5.58 &  516 & 20.8 & 184 &  3.30\\\\\n",
       "\t68 & 1 & 1.012 & 6.75 &  251 &  5.1 & 141 &  0.65\\\\\n",
       "\t70 & 1 & 1.026 & 6.29 &  833 & 22.2 & 457 &  4.45\\\\\n",
       "\t71 & 1 & 1.028 & 4.76 &  312 & 12.4 &  10 &  0.27\\\\\n",
       "\t72 & 1 & 1.027 & 5.40 &  840 & 24.5 & 395 &  7.64\\\\\n",
       "\t78 & 1 & 1.016 & 6.81 &  594 & 21.4 & 255 & 12.20\\\\\n",
       "\\end{tabular}\n"
      ],
      "text/markdown": [
       "\n",
       "A data.frame: 29 × 7\n",
       "\n",
       "| <!--/--> | pres &lt;int&gt; | gravity &lt;dbl&gt; | ph &lt;dbl&gt; | osmo &lt;int&gt; | cond &lt;dbl&gt; | urea &lt;int&gt; | calc &lt;dbl&gt; |\n",
       "|---|---|---|---|---|---|---|---|\n",
       "| 1 | 0 | 1.021 | 4.91 |  725 |   NA | 443 |  2.45 |\n",
       "| 3 | 0 | 1.008 | 7.20 |  321 | 14.9 | 101 |  2.36 |\n",
       "| 6 | 0 | 1.020 | 5.27 |  668 | 25.3 | 252 |  3.34 |\n",
       "| 11 | 0 | 1.011 | 6.19 |  345 | 11.5 | 152 |  1.93 |\n",
       "| 15 | 0 | 1.011 | 5.21 |  450 | 17.9 | 161 |  1.53 |\n",
       "| 17 | 0 | 1.007 | 6.63 |  253 |  8.4 | 133 |  1.05 |\n",
       "| 25 | 0 | 1.023 | 5.68 |  749 | 29.0 | 239 |  1.52 |\n",
       "| 26 | 0 | 1.017 | 6.76 |  455 |  8.8 | 270 |  0.77 |\n",
       "| 28 | 0 | 1.010 | 6.61 |  225 |  9.8 |  72 |  0.17 |\n",
       "| 30 | 0 | 1.020 | 5.44 |  781 | 29.0 | 349 |  3.04 |\n",
       "| 32 | 0 | 1.019 | 5.98 |  579 | 15.5 | 297 |  3.93 |\n",
       "| 35 | 0 | 1.023 | 5.85 |  970 | 38.0 | 362 |  4.54 |\n",
       "| 36 | 0 | 1.020 | 5.66 |  702 | 23.6 | 330 |  3.98 |\n",
       "| 38 | 0 | 1.020 | 6.35 |  704 | 24.5 | 260 |  3.46 |\n",
       "| 43 | 0 | 1.015 | 6.79 |  541 | 20.9 | 187 |  2.64 |\n",
       "| 44 | 0 | 1.010 | 5.97 |  343 | 13.4 | 126 |  2.31 |\n",
       "| 45 | 0 | 1.020 | 5.68 |  876 | 35.8 | 308 |  4.49 |\n",
       "| 46 | 1 | 1.021 | 5.94 |  774 | 27.9 | 325 |  6.96 |\n",
       "| 52 | 1 | 1.013 | 5.86 |  531 | 21.4 | 197 |  4.74 |\n",
       "| 53 | 1 | 1.010 | 6.27 |  371 | 11.2 | 188 |  2.50 |\n",
       "| 54 | 1 | 1.011 | 7.01 |  443 | 21.4 | 124 |  1.27 |\n",
       "| 62 | 1 | 1.026 | 6.19 |  956 | 27.6 | 473 |  5.67 |\n",
       "| 64 | 1 | 1.033 | 5.58 | 1032 | 29.1 | 430 |  8.94 |\n",
       "| 66 | 1 | 1.013 | 5.58 |  516 | 20.8 | 184 |  3.30 |\n",
       "| 68 | 1 | 1.012 | 6.75 |  251 |  5.1 | 141 |  0.65 |\n",
       "| 70 | 1 | 1.026 | 6.29 |  833 | 22.2 | 457 |  4.45 |\n",
       "| 71 | 1 | 1.028 | 4.76 |  312 | 12.4 |  10 |  0.27 |\n",
       "| 72 | 1 | 1.027 | 5.40 |  840 | 24.5 | 395 |  7.64 |\n",
       "| 78 | 1 | 1.016 | 6.81 |  594 | 21.4 | 255 | 12.20 |\n",
       "\n"
      ],
      "text/plain": [
       "   pres gravity ph   osmo cond urea calc \n",
       "1  0    1.021   4.91  725   NA 443   2.45\n",
       "3  0    1.008   7.20  321 14.9 101   2.36\n",
       "6  0    1.020   5.27  668 25.3 252   3.34\n",
       "11 0    1.011   6.19  345 11.5 152   1.93\n",
       "15 0    1.011   5.21  450 17.9 161   1.53\n",
       "17 0    1.007   6.63  253  8.4 133   1.05\n",
       "25 0    1.023   5.68  749 29.0 239   1.52\n",
       "26 0    1.017   6.76  455  8.8 270   0.77\n",
       "28 0    1.010   6.61  225  9.8  72   0.17\n",
       "30 0    1.020   5.44  781 29.0 349   3.04\n",
       "32 0    1.019   5.98  579 15.5 297   3.93\n",
       "35 0    1.023   5.85  970 38.0 362   4.54\n",
       "36 0    1.020   5.66  702 23.6 330   3.98\n",
       "38 0    1.020   6.35  704 24.5 260   3.46\n",
       "43 0    1.015   6.79  541 20.9 187   2.64\n",
       "44 0    1.010   5.97  343 13.4 126   2.31\n",
       "45 0    1.020   5.68  876 35.8 308   4.49\n",
       "46 1    1.021   5.94  774 27.9 325   6.96\n",
       "52 1    1.013   5.86  531 21.4 197   4.74\n",
       "53 1    1.010   6.27  371 11.2 188   2.50\n",
       "54 1    1.011   7.01  443 21.4 124   1.27\n",
       "62 1    1.026   6.19  956 27.6 473   5.67\n",
       "64 1    1.033   5.58 1032 29.1 430   8.94\n",
       "66 1    1.013   5.58  516 20.8 184   3.30\n",
       "68 1    1.012   6.75  251  5.1 141   0.65\n",
       "70 1    1.026   6.29  833 22.2 457   4.45\n",
       "71 1    1.028   4.76  312 12.4  10   0.27\n",
       "72 1    1.027   5.40  840 24.5 395   7.64\n",
       "78 1    1.016   6.81  594 21.4 255  12.20"
      ]
     },
     "metadata": {},
     "output_type": "display_data"
    }
   ],
   "source": [
    "# przygotowanie i wyswietlenie podzbioru testowego\n",
    "podzbior_testowy_7 = mocz[-losowe_obserwacje_7, -1]\n",
    "podzbior_testowy_7"
   ]
  },
  {
   "cell_type": "markdown",
   "metadata": {},
   "source": [
    "#### ii) Dopasuj model regresji logistycznej bazując na podzbiorze uczącym."
   ]
  },
  {
   "cell_type": "code",
   "execution_count": 20,
   "metadata": {},
   "outputs": [
    {
     "data": {
      "text/plain": [
       "\n",
       "Call:\n",
       "glm(formula = pres ~ ., family = binomial(), data = podzbior_uczacy_7)\n",
       "\n",
       "Deviance Residuals: \n",
       "     Min        1Q    Median        3Q       Max  \n",
       "-1.17314  -0.29638  -0.04275   0.09328   2.68829  \n",
       "\n",
       "Coefficients:\n",
       "              Estimate Std. Error z value Pr(>|z|)  \n",
       "(Intercept) -856.29153  443.73769  -1.930   0.0536 .\n",
       "gravity      862.02417  443.59754   1.943   0.0520 .\n",
       "ph            -1.90207    1.06194  -1.791   0.0733 .\n",
       "osmo           0.03585    0.03678   0.975   0.3296  \n",
       "cond          -0.84893    0.55348  -1.534   0.1251  \n",
       "urea          -0.06953    0.03711  -1.873   0.0610 .\n",
       "calc           1.06000    0.48077   2.205   0.0275 *\n",
       "---\n",
       "Signif. codes:  0 ‘***’ 0.001 ‘**’ 0.01 ‘*’ 0.05 ‘.’ 0.1 ‘ ’ 1\n",
       "\n",
       "(Dispersion parameter for binomial family taken to be 1)\n",
       "\n",
       "    Null deviance: 66.925  on 48  degrees of freedom\n",
       "Residual deviance: 19.830  on 42  degrees of freedom\n",
       "  (1 obserwacja została skasowana z uwagi na braki w niej zawarte)\n",
       "AIC: 33.83\n",
       "\n",
       "Number of Fisher Scoring iterations: 8\n"
      ]
     },
     "metadata": {},
     "output_type": "display_data"
    }
   ],
   "source": [
    "# wykonanie modelu regresji logistycznej\n",
    "model_log_7_1 = glm(pres ~ ., data = podzbior_uczacy_7, family = binomial())\n",
    "# podsumowanie modelu regresji logistycznej\n",
    "summary(model_log_7_1)"
   ]
  },
  {
   "cell_type": "markdown",
   "metadata": {},
   "source": [
    "##### Otrzymany model regresji logistycznej:\n",
    "$\\textrm{pres} = {1 \\over 1 + exp(-(-856.29153 + 862.02417 \\cdot \\textrm{gravity} - 1.90207 \\cdot \\textrm{ph} + 0.03585 \\cdot \\textrm{osmo} - 0.84893 \\cdot \\textrm{cond} - 0.06953 \\cdot \\textrm{urea} + 1.06000 \\cdot \\textrm{calc}))}$"
   ]
  },
  {
   "cell_type": "markdown",
   "metadata": {},
   "source": [
    "#### iii) Stosując krokową procedurę wyboru modelu zdecyduj, które zmienne powinny pozostać w modelu."
   ]
  },
  {
   "cell_type": "markdown",
   "metadata": {},
   "source": [
    "Najwyższą nieistotną statystycznie p-wartość statystyki testowej ma zmienna $osmo$, którą usuwamy z modelu."
   ]
  },
  {
   "cell_type": "code",
   "execution_count": 21,
   "metadata": {},
   "outputs": [
    {
     "data": {
      "text/plain": [
       "\n",
       "Call:\n",
       "glm(formula = pres ~ . - osmo, family = binomial(), data = podzbior_uczacy_7)\n",
       "\n",
       "Deviance Residuals: \n",
       "    Min       1Q   Median       3Q      Max  \n",
       "-1.3083  -0.2372  -0.0656   0.1686   2.6513  \n",
       "\n",
       "Coefficients:\n",
       "              Estimate Std. Error z value Pr(>|z|)   \n",
       "(Intercept) -1.120e+03  4.284e+02  -2.615  0.00892 **\n",
       "gravity      1.124e+03  4.300e+02   2.615  0.00892 **\n",
       "ph          -1.598e+00  1.008e+00  -1.585  0.11290   \n",
       "cond        -3.747e-01  1.779e-01  -2.106  0.03519 * \n",
       "urea        -3.989e-02  1.454e-02  -2.744  0.00607 **\n",
       "calc         9.010e-01  4.261e-01   2.114  0.03449 * \n",
       "---\n",
       "Signif. codes:  0 ‘***’ 0.001 ‘**’ 0.01 ‘*’ 0.05 ‘.’ 0.1 ‘ ’ 1\n",
       "\n",
       "(Dispersion parameter for binomial family taken to be 1)\n",
       "\n",
       "    Null deviance: 66.925  on 48  degrees of freedom\n",
       "Residual deviance: 20.915  on 43  degrees of freedom\n",
       "  (1 obserwacja została skasowana z uwagi na braki w niej zawarte)\n",
       "AIC: 32.915\n",
       "\n",
       "Number of Fisher Scoring iterations: 8\n"
      ]
     },
     "metadata": {},
     "output_type": "display_data"
    }
   ],
   "source": [
    "# wykonanie modelu regresji logistycznej bez zmiennej osmo\n",
    "model_log_7_2 = glm(pres ~ . -osmo, data = podzbior_uczacy_7, family = binomial())\n",
    "# podsumowanie modelu regresji logistycznej bez zmiennej osmo\n",
    "summary(model_log_7_2)"
   ]
  },
  {
   "cell_type": "markdown",
   "metadata": {},
   "source": [
    "Najwyższą nieistotną statystycznie p-wartość statystyki testowej ma zmienna $ph$, którą usuwamy z modelu."
   ]
  },
  {
   "cell_type": "code",
   "execution_count": 22,
   "metadata": {},
   "outputs": [
    {
     "data": {
      "text/plain": [
       "\n",
       "Call:\n",
       "glm(formula = pres ~ . - ph - osmo, family = binomial(), data = podzbior_uczacy_7)\n",
       "\n",
       "Deviance Residuals: \n",
       "    Min       1Q   Median       3Q      Max  \n",
       "-2.1070  -0.2887  -0.0961   0.1434   1.9123  \n",
       "\n",
       "Coefficients:\n",
       "              Estimate Std. Error z value Pr(>|z|)   \n",
       "(Intercept) -986.43984  326.13949  -3.025  0.00249 **\n",
       "gravity      981.15670  324.72275   3.022  0.00252 **\n",
       "cond          -0.33621    0.13409  -2.507  0.01217 * \n",
       "urea          -0.03345    0.01253  -2.669  0.00761 **\n",
       "calc           0.87141    0.37295   2.337  0.01946 * \n",
       "---\n",
       "Signif. codes:  0 ‘***’ 0.001 ‘**’ 0.01 ‘*’ 0.05 ‘.’ 0.1 ‘ ’ 1\n",
       "\n",
       "(Dispersion parameter for binomial family taken to be 1)\n",
       "\n",
       "    Null deviance: 66.925  on 48  degrees of freedom\n",
       "Residual deviance: 24.095  on 44  degrees of freedom\n",
       "  (1 obserwacja została skasowana z uwagi na braki w niej zawarte)\n",
       "AIC: 34.095\n",
       "\n",
       "Number of Fisher Scoring iterations: 7\n"
      ]
     },
     "metadata": {},
     "output_type": "display_data"
    }
   ],
   "source": [
    "# wykonanie modelu regresji logistycznej bez zmiennej ph\n",
    "model_log_7_3 = glm(pres ~ . -ph -osmo, data = podzbior_uczacy_7, family = binomial())\n",
    "# podsumowanie modelu regresji logistycznej bez zmiennej ph\n",
    "summary(model_log_7_3)"
   ]
  },
  {
   "cell_type": "markdown",
   "metadata": {},
   "source": [
    "Wszystkie pozostałe zmienne: $gravity$, $cond$, $urea$ i $calc$ (a także wyraz wolny $(Intercept)$) są istotne statystycznie."
   ]
  },
  {
   "cell_type": "markdown",
   "metadata": {},
   "source": [
    "#### iv) Skonstruuj klasyfikator w oparciu o próbę uczącą. Przedstaw na rysunku klasyfikację dokonaną przez klasyfikator. Wyznacz błąd klasyfikacji na próbie testowej."
   ]
  },
  {
   "cell_type": "markdown",
   "metadata": {},
   "source": [
    "##### Otrzymany model regresji logistycznej po zastosowaniu krokowej procedury wyboru modelu - klasyfikator:\n",
    "$\\textrm{pres} = {1 \\over 1 + exp(-(-986.43984 + 981.15670 \\cdot \\textrm{gravity} - 0.33621 \\cdot \\textrm{cond} - 0.03345 \\cdot \\textrm{urea} + 0.87141 \\cdot \\textrm{calc}))}$"
   ]
  },
  {
   "cell_type": "code",
   "execution_count": 23,
   "metadata": {
    "scrolled": false
   },
   "outputs": [
    {
     "data": {
      "text/html": [
       "<style>\n",
       ".dl-inline {width: auto; margin:0; padding: 0}\n",
       ".dl-inline>dt, .dl-inline>dd {float: none; width: auto; display: inline-block}\n",
       ".dl-inline>dt::after {content: \":\\0020\"; padding-right: .5ex}\n",
       ".dl-inline>dt:not(:first-of-type) {padding-left: .5ex}\n",
       "</style><dl class=dl-inline><dt>2</dt><dd>0.211599403678772</dd><dt>4</dt><dd>0.0128024637526755</dd><dt>5</dt><dd>0.0071621446097302</dd><dt>7</dt><dd>0.00936414082522868</dd><dt>8</dt><dd>0.523546969258993</dd><dt>9</dt><dd>0.0688890752312841</dd><dt>10</dt><dd>0.0152123510258533</dd><dt>12</dt><dd>0.0150668380352882</dd><dt>13</dt><dd>0.0116768773579855</dd><dt>14</dt><dd>0.00459016941183987</dd><dt>16</dt><dd>0.188344230391228</dd><dt>18</dt><dd>0.0408092336235612</dd><dt>19</dt><dd>0.0633322455223148</dd><dt>20</dt><dd>0.00460705035526573</dd><dt>21</dt><dd>0.499658351647737</dd><dt>22</dt><dd>0.0187972468259271</dd><dt>23</dt><dd>0.0314804613780773</dd><dt>24</dt><dd>0.100698129443351</dd><dt>27</dt><dd>0.891370602745846</dd><dt>29</dt><dd>0.023127009480422</dd><dt>31</dt><dd>0.00361919247670745</dd><dt>33</dt><dd>0.542378511707444</dd><dt>34</dt><dd>0.193222105427784</dd><dt>37</dt><dd>0.00355956655410516</dd><dt>39</dt><dd>0.0594213463495737</dd><dt>40</dt><dd>0.280249955561989</dd><dt>41</dt><dd>0.0183539207187479</dd><dt>42</dt><dd>0.00801045793595501</dd><dt>47</dt><dd>0.999986280061472</dd><dt>48</dt><dd>0.75642748622246</dd><dt>49</dt><dd>0.531088458483356</dd><dt>50</dt><dd>0.960097246037089</dd><dt>51</dt><dd>0.999999093793753</dd><dt>55</dt><dd>0.427272932437222</dd><dt>56</dt><dd>0.316092891244039</dd><dt>57</dt><dd>0.990500644574834</dd><dt>58</dt><dd>0.998586454119195</dd><dt>59</dt><dd>0.999999998163439</dd><dt>60</dt><dd>0.87268565138277</dd><dt>61</dt><dd>0.972017621633239</dd><dt>63</dt><dd>0.999899979984526</dd><dt>65</dt><dd>0.643247071551834</dd><dt>67</dt><dd>0.955824454200688</dd><dt>69</dt><dd>0.160662508109152</dd><dt>73</dt><dd>0.333483737414938</dd><dt>74</dt><dd>0.956796328941462</dd><dt>75</dt><dd>0.999890696412116</dd><dt>76</dt><dd>0.712634931326893</dd><dt>77</dt><dd>0.989764391830139</dd><dt>79</dt><dd>0.999364024313661</dd></dl>\n"
      ],
      "text/latex": [
       "\\begin{description*}\n",
       "\\item[2] 0.211599403678772\n",
       "\\item[4] 0.0128024637526755\n",
       "\\item[5] 0.0071621446097302\n",
       "\\item[7] 0.00936414082522868\n",
       "\\item[8] 0.523546969258993\n",
       "\\item[9] 0.0688890752312841\n",
       "\\item[10] 0.0152123510258533\n",
       "\\item[12] 0.0150668380352882\n",
       "\\item[13] 0.0116768773579855\n",
       "\\item[14] 0.00459016941183987\n",
       "\\item[16] 0.188344230391228\n",
       "\\item[18] 0.0408092336235612\n",
       "\\item[19] 0.0633322455223148\n",
       "\\item[20] 0.00460705035526573\n",
       "\\item[21] 0.499658351647737\n",
       "\\item[22] 0.0187972468259271\n",
       "\\item[23] 0.0314804613780773\n",
       "\\item[24] 0.100698129443351\n",
       "\\item[27] 0.891370602745846\n",
       "\\item[29] 0.023127009480422\n",
       "\\item[31] 0.00361919247670745\n",
       "\\item[33] 0.542378511707444\n",
       "\\item[34] 0.193222105427784\n",
       "\\item[37] 0.00355956655410516\n",
       "\\item[39] 0.0594213463495737\n",
       "\\item[40] 0.280249955561989\n",
       "\\item[41] 0.0183539207187479\n",
       "\\item[42] 0.00801045793595501\n",
       "\\item[47] 0.999986280061472\n",
       "\\item[48] 0.75642748622246\n",
       "\\item[49] 0.531088458483356\n",
       "\\item[50] 0.960097246037089\n",
       "\\item[51] 0.999999093793753\n",
       "\\item[55] 0.427272932437222\n",
       "\\item[56] 0.316092891244039\n",
       "\\item[57] 0.990500644574834\n",
       "\\item[58] 0.998586454119195\n",
       "\\item[59] 0.999999998163439\n",
       "\\item[60] 0.87268565138277\n",
       "\\item[61] 0.972017621633239\n",
       "\\item[63] 0.999899979984526\n",
       "\\item[65] 0.643247071551834\n",
       "\\item[67] 0.955824454200688\n",
       "\\item[69] 0.160662508109152\n",
       "\\item[73] 0.333483737414938\n",
       "\\item[74] 0.956796328941462\n",
       "\\item[75] 0.999890696412116\n",
       "\\item[76] 0.712634931326893\n",
       "\\item[77] 0.989764391830139\n",
       "\\item[79] 0.999364024313661\n",
       "\\end{description*}\n"
      ],
      "text/markdown": [
       "2\n",
       ":   0.2115994036787724\n",
       ":   0.01280246375267555\n",
       ":   0.00716214460973027\n",
       ":   0.009364140825228688\n",
       ":   0.5235469692589939\n",
       ":   0.068889075231284110\n",
       ":   0.015212351025853312\n",
       ":   0.015066838035288213\n",
       ":   0.011676877357985514\n",
       ":   0.0045901694118398716\n",
       ":   0.18834423039122818\n",
       ":   0.040809233623561219\n",
       ":   0.063332245522314820\n",
       ":   0.0046070503552657321\n",
       ":   0.49965835164773722\n",
       ":   0.018797246825927123\n",
       ":   0.031480461378077324\n",
       ":   0.10069812944335127\n",
       ":   0.89137060274584629\n",
       ":   0.02312700948042231\n",
       ":   0.0036191924767074533\n",
       ":   0.54237851170744434\n",
       ":   0.19322210542778437\n",
       ":   0.0035595665541051639\n",
       ":   0.059421346349573740\n",
       ":   0.28024995556198941\n",
       ":   0.018353920718747942\n",
       ":   0.0080104579359550147\n",
       ":   0.99998628006147248\n",
       ":   0.7564274862224649\n",
       ":   0.53108845848335650\n",
       ":   0.96009724603708951\n",
       ":   0.99999909379375355\n",
       ":   0.42727293243722256\n",
       ":   0.31609289124403957\n",
       ":   0.99050064457483458\n",
       ":   0.99858645411919559\n",
       ":   0.99999999816343960\n",
       ":   0.8726856513827761\n",
       ":   0.97201762163323963\n",
       ":   0.99989997998452665\n",
       ":   0.64324707155183467\n",
       ":   0.95582445420068869\n",
       ":   0.16066250810915273\n",
       ":   0.33348373741493874\n",
       ":   0.95679632894146275\n",
       ":   0.99989069641211676\n",
       ":   0.71263493132689377\n",
       ":   0.98976439183013979\n",
       ":   0.999364024313661\n",
       "\n"
      ],
      "text/plain": [
       "          2           4           5           7           8           9 \n",
       "0.211599404 0.012802464 0.007162145 0.009364141 0.523546969 0.068889075 \n",
       "         10          12          13          14          16          18 \n",
       "0.015212351 0.015066838 0.011676877 0.004590169 0.188344230 0.040809234 \n",
       "         19          20          21          22          23          24 \n",
       "0.063332246 0.004607050 0.499658352 0.018797247 0.031480461 0.100698129 \n",
       "         27          29          31          33          34          37 \n",
       "0.891370603 0.023127009 0.003619192 0.542378512 0.193222105 0.003559567 \n",
       "         39          40          41          42          47          48 \n",
       "0.059421346 0.280249956 0.018353921 0.008010458 0.999986280 0.756427486 \n",
       "         49          50          51          55          56          57 \n",
       "0.531088458 0.960097246 0.999999094 0.427272932 0.316092891 0.990500645 \n",
       "         58          59          60          61          63          65 \n",
       "0.998586454 0.999999998 0.872685651 0.972017622 0.999899980 0.643247072 \n",
       "         67          69          73          74          75          76 \n",
       "0.955824454 0.160662508 0.333483737 0.956796329 0.999890696 0.712634931 \n",
       "         77          79 \n",
       "0.989764392 0.999364024 "
      ]
     },
     "metadata": {},
     "output_type": "display_data"
    }
   ],
   "source": [
    "# wykonanie predykcji prawdopodobienstwa dla podzbioru uczacego na podstawie wygenerowanego modelu regresji logistycznej\n",
    "predykcja_log_podzbior_uczacy_7 = predict(model_log_7_3, newdata = podzbior_uczacy_7, type = \"response\")\n",
    "predykcja_log_podzbior_uczacy_7"
   ]
  },
  {
   "cell_type": "code",
   "execution_count": 24,
   "metadata": {},
   "outputs": [
    {
     "data": {
      "text/html": [
       "50"
      ],
      "text/latex": [
       "50"
      ],
      "text/markdown": [
       "50"
      ],
      "text/plain": [
       "[1] 50"
      ]
     },
     "metadata": {},
     "output_type": "display_data"
    }
   ],
   "source": [
    "# liczba obserwacji z podzioru uczacego, dla ktorych dokonalismy predykcji\n",
    "liczba_predykcji_log_podzbior_uczacy_7 = length(predykcja_log_podzbior_uczacy_7)\n",
    "liczba_predykcji_log_podzbior_uczacy_7"
   ]
  },
  {
   "cell_type": "code",
   "execution_count": 25,
   "metadata": {},
   "outputs": [],
   "source": [
    "# przygotowanie pustego wektora predykcji dla podzbioru uczacego\n",
    "wektor_predykcji_log_podzbior_uczacy_7 = rep(0, liczba_predykcji_log_podzbior_uczacy_7)"
   ]
  },
  {
   "cell_type": "code",
   "execution_count": 26,
   "metadata": {},
   "outputs": [
    {
     "data": {
      "text/html": [
       "<style>\n",
       ".list-inline {list-style: none; margin:0; padding: 0}\n",
       ".list-inline>li {display: inline-block}\n",
       ".list-inline>li:not(:last-child)::after {content: \"\\00b7\"; padding: 0 .5ex}\n",
       "</style>\n",
       "<ol class=list-inline><li>0</li><li>0</li><li>0</li><li>0</li><li>1</li><li>0</li><li>0</li><li>0</li><li>0</li><li>0</li><li>0</li><li>0</li><li>0</li><li>0</li><li>0</li><li>0</li><li>0</li><li>0</li><li>1</li><li>0</li><li>0</li><li>1</li><li>0</li><li>0</li><li>0</li><li>0</li><li>0</li><li>0</li><li>1</li><li>1</li><li>1</li><li>1</li><li>1</li><li>0</li><li>0</li><li>1</li><li>1</li><li>1</li><li>1</li><li>1</li><li>1</li><li>1</li><li>1</li><li>0</li><li>0</li><li>1</li><li>1</li><li>1</li><li>1</li><li>1</li></ol>\n"
      ],
      "text/latex": [
       "\\begin{enumerate*}\n",
       "\\item 0\n",
       "\\item 0\n",
       "\\item 0\n",
       "\\item 0\n",
       "\\item 1\n",
       "\\item 0\n",
       "\\item 0\n",
       "\\item 0\n",
       "\\item 0\n",
       "\\item 0\n",
       "\\item 0\n",
       "\\item 0\n",
       "\\item 0\n",
       "\\item 0\n",
       "\\item 0\n",
       "\\item 0\n",
       "\\item 0\n",
       "\\item 0\n",
       "\\item 1\n",
       "\\item 0\n",
       "\\item 0\n",
       "\\item 1\n",
       "\\item 0\n",
       "\\item 0\n",
       "\\item 0\n",
       "\\item 0\n",
       "\\item 0\n",
       "\\item 0\n",
       "\\item 1\n",
       "\\item 1\n",
       "\\item 1\n",
       "\\item 1\n",
       "\\item 1\n",
       "\\item 0\n",
       "\\item 0\n",
       "\\item 1\n",
       "\\item 1\n",
       "\\item 1\n",
       "\\item 1\n",
       "\\item 1\n",
       "\\item 1\n",
       "\\item 1\n",
       "\\item 1\n",
       "\\item 0\n",
       "\\item 0\n",
       "\\item 1\n",
       "\\item 1\n",
       "\\item 1\n",
       "\\item 1\n",
       "\\item 1\n",
       "\\end{enumerate*}\n"
      ],
      "text/markdown": [
       "1. 0\n",
       "2. 0\n",
       "3. 0\n",
       "4. 0\n",
       "5. 1\n",
       "6. 0\n",
       "7. 0\n",
       "8. 0\n",
       "9. 0\n",
       "10. 0\n",
       "11. 0\n",
       "12. 0\n",
       "13. 0\n",
       "14. 0\n",
       "15. 0\n",
       "16. 0\n",
       "17. 0\n",
       "18. 0\n",
       "19. 1\n",
       "20. 0\n",
       "21. 0\n",
       "22. 1\n",
       "23. 0\n",
       "24. 0\n",
       "25. 0\n",
       "26. 0\n",
       "27. 0\n",
       "28. 0\n",
       "29. 1\n",
       "30. 1\n",
       "31. 1\n",
       "32. 1\n",
       "33. 1\n",
       "34. 0\n",
       "35. 0\n",
       "36. 1\n",
       "37. 1\n",
       "38. 1\n",
       "39. 1\n",
       "40. 1\n",
       "41. 1\n",
       "42. 1\n",
       "43. 1\n",
       "44. 0\n",
       "45. 0\n",
       "46. 1\n",
       "47. 1\n",
       "48. 1\n",
       "49. 1\n",
       "50. 1\n",
       "\n",
       "\n"
      ],
      "text/plain": [
       " [1] 0 0 0 0 1 0 0 0 0 0 0 0 0 0 0 0 0 0 1 0 0 1 0 0 0 0 0 0 1 1 1 1 1 0 0 1 1 1\n",
       "[39] 1 1 1 1 1 0 0 1 1 1 1 1"
      ]
     },
     "metadata": {},
     "output_type": "display_data"
    }
   ],
   "source": [
    "# zmiany wartosci w wektorze predykcji dla podzbioru uczacego na okreslone wartosci prawdopodobienstwa\n",
    "wektor_predykcji_log_podzbior_uczacy_7[predykcja_log_podzbior_uczacy_7 > 0.5] = 1\n",
    "wektor_predykcji_log_podzbior_uczacy_7"
   ]
  },
  {
   "cell_type": "code",
   "execution_count": 27,
   "metadata": {},
   "outputs": [
    {
     "data": {
      "text/plain": [
       "    Predicted\n",
       "True  0  1\n",
       "   0 25  3\n",
       "   1  4 18"
      ]
     },
     "metadata": {},
     "output_type": "display_data"
    }
   ],
   "source": [
    "# tabela predykcji dla podzbioru uczacego\n",
    "tabela_predykcji_log_podzbior_uczacy_7 = table(True = podzbior_uczacy_7$pres, Predicted = wektor_predykcji_log_podzbior_uczacy_7)\n",
    "tabela_predykcji_log_podzbior_uczacy_7"
   ]
  },
  {
   "cell_type": "code",
   "execution_count": 28,
   "metadata": {},
   "outputs": [
    {
     "data": {
      "image/png": "[encoded data removed]",
      "text/plain": [
       "plot without title"
      ]
     },
     "metadata": {
      "image/png": {
       "height": 420,
       "width": 420
      }
     },
     "output_type": "display_data"
    }
   ],
   "source": [
    "# wykres klasyfikacji obserwacji z podzbioru uczacego\n",
    "plot(predykcja_log_podzbior_uczacy_7, pch = podzbior_uczacy_7$pres, col = wektor_predykcji_log_podzbior_uczacy_7 + 1, xlab = \"probka moczu\", ylab = \"prawdopodobienstwo obecnosci krysztalow\")\n",
    "# dodanie legendy do wykresu\n",
    "legend(\"topleft\", c(\"TN\", \"FN\", \"FP\", \"TP\"), pch = c(0, 1, 0, 1), col = c(1, 1, 2, 2))"
   ]
  },
  {
   "cell_type": "markdown",
   "metadata": {},
   "source": [
    "Na powyższym wykresie na osi OX przedstawiono określone próbki moczu, a na osi OY prawdopodobieństwo obecności kryształów w moczu.\n",
    "Znaczenie legendy:\n",
    "- TN (czarny kwadrat) - próbki moczu bez kryształów zakwalifikowane poprawnie jako próbki moczu bez kryształów\n",
    "- FN (czarne koło) - próbki moczu z kryształami zakwalifikowane niepoprawnie jako próbki moczu bez kryształów\n",
    "- FP (czerwony kwadrat) - próbki moczu bez kryształów zakwalifikowane niepoprawnie jako próbki moczu z kryształami\n",
    "- TP (czerwone koło) - próbki moczu z kryształami zakwalifikowane poprawnie jako próbki moczu z kryształami"
   ]
  },
  {
   "cell_type": "code",
   "execution_count": 29,
   "metadata": {},
   "outputs": [
    {
     "data": {
      "text/html": [
       "<style>\n",
       ".dl-inline {width: auto; margin:0; padding: 0}\n",
       ".dl-inline>dt, .dl-inline>dd {float: none; width: auto; display: inline-block}\n",
       ".dl-inline>dt::after {content: \":\\0020\"; padding-right: .5ex}\n",
       ".dl-inline>dt:not(:first-of-type) {padding-left: .5ex}\n",
       "</style><dl class=dl-inline><dt>1</dt><dd>&lt;NA&gt;</dd><dt>3</dt><dd>0.0226431095430687</dd><dt>6</dt><dd>0.578303739425233</dd><dt>11</dt><dd>0.146924582340256</dd><dt>15</dt><dd>0.0103513090938609</dd><dt>17</dt><dd>0.00838690980991568</dd><dt>25</dt><dd>0.703530719595119</dd><dt>26</dt><dd>0.519536309607101</dd><dt>28</dt><dd>0.263772901855049</dd><dt>30</dt><dd>0.0117285040001649</dd><dt>32</dt><dd>0.837330118154816</dd><dt>35</dt><dd>0.0254807072941151</dd><dt>36</dt><dd>0.237977050378371</dd><dt>38</dt><dd>0.603907167100032</dd><dt>43</dt><dd>0.175579415630311</dd><dt>44</dt><dd>0.101732649162724</dd><dt>45</dt><dd>0.0165404292463539</dd><dt>46</dt><dd>0.75688903341297</dd><dt>52</dt><dd>0.101422446414263</dd><dt>53</dt><dd>0.0340062252387593</dd><dt>54</dt><dd>0.00878412963829609</dd><dt>62</dt><dd>0.517009855165193</dd><dt>64</dt><dd>0.999977892711341</dd><dt>66</dt><dd>0.0573343683714865</dd><dt>68</dt><dd>0.651687356981952</dd><dt>70</dt><dd>0.795046123028234</dd><dt>71</dt><dd>0.999999983519544</dd><dt>72</dt><dd>0.998369124685722</dd><dt>78</dt><dd>0.995144281305315</dd></dl>\n"
      ],
      "text/latex": [
       "\\begin{description*}\n",
       "\\item[1] <NA>\n",
       "\\item[3] 0.0226431095430687\n",
       "\\item[6] 0.578303739425233\n",
       "\\item[11] 0.146924582340256\n",
       "\\item[15] 0.0103513090938609\n",
       "\\item[17] 0.00838690980991568\n",
       "\\item[25] 0.703530719595119\n",
       "\\item[26] 0.519536309607101\n",
       "\\item[28] 0.263772901855049\n",
       "\\item[30] 0.0117285040001649\n",
       "\\item[32] 0.837330118154816\n",
       "\\item[35] 0.0254807072941151\n",
       "\\item[36] 0.237977050378371\n",
       "\\item[38] 0.603907167100032\n",
       "\\item[43] 0.175579415630311\n",
       "\\item[44] 0.101732649162724\n",
       "\\item[45] 0.0165404292463539\n",
       "\\item[46] 0.75688903341297\n",
       "\\item[52] 0.101422446414263\n",
       "\\item[53] 0.0340062252387593\n",
       "\\item[54] 0.00878412963829609\n",
       "\\item[62] 0.517009855165193\n",
       "\\item[64] 0.999977892711341\n",
       "\\item[66] 0.0573343683714865\n",
       "\\item[68] 0.651687356981952\n",
       "\\item[70] 0.795046123028234\n",
       "\\item[71] 0.999999983519544\n",
       "\\item[72] 0.998369124685722\n",
       "\\item[78] 0.995144281305315\n",
       "\\end{description*}\n"
      ],
      "text/markdown": [
       "1\n",
       ":   &lt;NA&gt;3\n",
       ":   0.02264310954306876\n",
       ":   0.57830373942523311\n",
       ":   0.14692458234025615\n",
       ":   0.010351309093860917\n",
       ":   0.0083869098099156825\n",
       ":   0.70353071959511926\n",
       ":   0.51953630960710128\n",
       ":   0.26377290185504930\n",
       ":   0.011728504000164932\n",
       ":   0.83733011815481635\n",
       ":   0.025480707294115136\n",
       ":   0.23797705037837138\n",
       ":   0.60390716710003243\n",
       ":   0.17557941563031144\n",
       ":   0.10173264916272445\n",
       ":   0.016540429246353946\n",
       ":   0.7568890334129752\n",
       ":   0.10142244641426353\n",
       ":   0.034006225238759354\n",
       ":   0.0087841296382960962\n",
       ":   0.51700985516519364\n",
       ":   0.99997789271134166\n",
       ":   0.057334368371486568\n",
       ":   0.65168735698195270\n",
       ":   0.79504612302823471\n",
       ":   0.99999998351954472\n",
       ":   0.99836912468572278\n",
       ":   0.995144281305315\n",
       "\n"
      ],
      "text/plain": [
       "         1          3          6         11         15         17         25 \n",
       "        NA 0.02264311 0.57830374 0.14692458 0.01035131 0.00838691 0.70353072 \n",
       "        26         28         30         32         35         36         38 \n",
       "0.51953631 0.26377290 0.01172850 0.83733012 0.02548071 0.23797705 0.60390717 \n",
       "        43         44         45         46         52         53         54 \n",
       "0.17557942 0.10173265 0.01654043 0.75688903 0.10142245 0.03400623 0.00878413 \n",
       "        62         64         66         68         70         71         72 \n",
       "0.51700986 0.99997789 0.05733437 0.65168736 0.79504612 0.99999998 0.99836912 \n",
       "        78 \n",
       "0.99514428 "
      ]
     },
     "metadata": {},
     "output_type": "display_data"
    }
   ],
   "source": [
    "# wykonanie predykcji prawdopodobienstwa dla podzbioru testowego na podstawie wygenerowanego modelu regresji logistycznej\n",
    "predykcja_log_podzbior_testowy_7 = predict(model_log_7_3, newdata = podzbior_testowy_7, type = \"response\")\n",
    "predykcja_log_podzbior_testowy_7"
   ]
  },
  {
   "cell_type": "code",
   "execution_count": 30,
   "metadata": {},
   "outputs": [
    {
     "data": {
      "text/html": [
       "29"
      ],
      "text/latex": [
       "29"
      ],
      "text/markdown": [
       "29"
      ],
      "text/plain": [
       "[1] 29"
      ]
     },
     "metadata": {},
     "output_type": "display_data"
    }
   ],
   "source": [
    "# liczba obserwacji z podzioru testowego, dla ktorych dokonalismy predykcji\n",
    "liczba_predykcji_log_podzbior_testowy_7 = length(predykcja_log_podzbior_testowy_7)\n",
    "liczba_predykcji_log_podzbior_testowy_7"
   ]
  },
  {
   "cell_type": "code",
   "execution_count": 31,
   "metadata": {},
   "outputs": [],
   "source": [
    "# przygotowanie pustego wektora predykcji dla podzbioru testowego\n",
    "wektor_predykcji_log_podzbior_testowy_7 = rep(0, liczba_predykcji_log_podzbior_testowy_7)"
   ]
  },
  {
   "cell_type": "code",
   "execution_count": 32,
   "metadata": {},
   "outputs": [
    {
     "data": {
      "text/html": [
       "<style>\n",
       ".list-inline {list-style: none; margin:0; padding: 0}\n",
       ".list-inline>li {display: inline-block}\n",
       ".list-inline>li:not(:last-child)::after {content: \"\\00b7\"; padding: 0 .5ex}\n",
       "</style>\n",
       "<ol class=list-inline><li>0</li><li>0</li><li>1</li><li>0</li><li>0</li><li>0</li><li>1</li><li>1</li><li>0</li><li>0</li><li>1</li><li>0</li><li>0</li><li>1</li><li>0</li><li>0</li><li>0</li><li>1</li><li>0</li><li>0</li><li>0</li><li>1</li><li>1</li><li>0</li><li>1</li><li>1</li><li>1</li><li>1</li><li>1</li></ol>\n"
      ],
      "text/latex": [
       "\\begin{enumerate*}\n",
       "\\item 0\n",
       "\\item 0\n",
       "\\item 1\n",
       "\\item 0\n",
       "\\item 0\n",
       "\\item 0\n",
       "\\item 1\n",
       "\\item 1\n",
       "\\item 0\n",
       "\\item 0\n",
       "\\item 1\n",
       "\\item 0\n",
       "\\item 0\n",
       "\\item 1\n",
       "\\item 0\n",
       "\\item 0\n",
       "\\item 0\n",
       "\\item 1\n",
       "\\item 0\n",
       "\\item 0\n",
       "\\item 0\n",
       "\\item 1\n",
       "\\item 1\n",
       "\\item 0\n",
       "\\item 1\n",
       "\\item 1\n",
       "\\item 1\n",
       "\\item 1\n",
       "\\item 1\n",
       "\\end{enumerate*}\n"
      ],
      "text/markdown": [
       "1. 0\n",
       "2. 0\n",
       "3. 1\n",
       "4. 0\n",
       "5. 0\n",
       "6. 0\n",
       "7. 1\n",
       "8. 1\n",
       "9. 0\n",
       "10. 0\n",
       "11. 1\n",
       "12. 0\n",
       "13. 0\n",
       "14. 1\n",
       "15. 0\n",
       "16. 0\n",
       "17. 0\n",
       "18. 1\n",
       "19. 0\n",
       "20. 0\n",
       "21. 0\n",
       "22. 1\n",
       "23. 1\n",
       "24. 0\n",
       "25. 1\n",
       "26. 1\n",
       "27. 1\n",
       "28. 1\n",
       "29. 1\n",
       "\n",
       "\n"
      ],
      "text/plain": [
       " [1] 0 0 1 0 0 0 1 1 0 0 1 0 0 1 0 0 0 1 0 0 0 1 1 0 1 1 1 1 1"
      ]
     },
     "metadata": {},
     "output_type": "display_data"
    }
   ],
   "source": [
    "# zmiany wartosci w wektorze predykcji dla podzbioru testowego na okreslone wartosci prawdopodobienstwa\n",
    "wektor_predykcji_log_podzbior_testowy_7[predykcja_log_podzbior_testowy_7 > 0.5] = 1\n",
    "wektor_predykcji_log_podzbior_testowy_7"
   ]
  },
  {
   "cell_type": "code",
   "execution_count": 33,
   "metadata": {},
   "outputs": [
    {
     "data": {
      "text/plain": [
       "    Predicted\n",
       "True  0  1\n",
       "   0 12  5\n",
       "   1  4  8"
      ]
     },
     "metadata": {},
     "output_type": "display_data"
    }
   ],
   "source": [
    "# tabela predykcji dla podzbioru testowego\n",
    "tabela_predykcji_log_podzbior_testowy_7 = table(True = podzbior_testowy_7$pres, Predicted = wektor_predykcji_log_podzbior_testowy_7)\n",
    "tabela_predykcji_log_podzbior_testowy_7"
   ]
  },
  {
   "cell_type": "code",
   "execution_count": 34,
   "metadata": {},
   "outputs": [
    {
     "data": {
      "text/html": [
       "31.0344827586207"
      ],
      "text/latex": [
       "31.0344827586207"
      ],
      "text/markdown": [
       "31.0344827586207"
      ],
      "text/plain": [
       "[1] 31.03448"
      ]
     },
     "metadata": {},
     "output_type": "display_data"
    }
   ],
   "source": [
    "# procent niepoprawnie dopasowanych obserwacji w podzbiorze testowym\n",
    "blad_predykcji_log_podzbior_testowy_7 = (sum(tabela_predykcji_log_podzbior_testowy_7) - sum(diag(tabela_predykcji_log_podzbior_testowy_7))) / sum(tabela_predykcji_log_podzbior_testowy_7) * 100\n",
    "blad_predykcji_log_podzbior_testowy_7"
   ]
  },
  {
   "cell_type": "markdown",
   "metadata": {},
   "source": [
    "Błąd klasyfikacji na próbie testowej wynosi 31.0344827586207%."
   ]
  },
  {
   "cell_type": "markdown",
   "metadata": {},
   "source": [
    "#### v) Skonstruuj klasyfikator w oparciu o metodę LDA bazując na próbie uczącej oraz porównaj jego błąd klasyfikacji na próbie testowej z błędem klasyfikacji klasyfikatora opartego na regresji logistycznej."
   ]
  },
  {
   "cell_type": "code",
   "execution_count": 35,
   "metadata": {},
   "outputs": [],
   "source": [
    "# wczytanie pakietu\n",
    "#library(MASS)"
   ]
  },
  {
   "cell_type": "code",
   "execution_count": 36,
   "metadata": {},
   "outputs": [
    {
     "data": {
      "text/plain": [
       "Call:\n",
       "lda(pres ~ . - ph - osmo, data = podzbior_uczacy_7)\n",
       "\n",
       "Prior probabilities of groups:\n",
       "        0         1 \n",
       "0.5714286 0.4285714 \n",
       "\n",
       "Group means:\n",
       "   gravity     cond     urea     calc\n",
       "0 1.015071 20.63929 236.7143 2.664643\n",
       "1 1.022667 21.92857 323.7619 6.956667\n",
       "\n",
       "Coefficients of linear discriminants:\n",
       "                  LD1\n",
       "gravity 234.122919197\n",
       "cond     -0.069921332\n",
       "urea     -0.008139128\n",
       "calc      0.247040755"
      ]
     },
     "metadata": {},
     "output_type": "display_data"
    }
   ],
   "source": [
    "# wykonanie modelu regresji liniowej\n",
    "model_lda_7 = lda(pres ~ . -ph -osmo, data = podzbior_uczacy_7)\n",
    "model_lda_7"
   ]
  },
  {
   "cell_type": "markdown",
   "metadata": {},
   "source": [
    "##### Otrzymany model regresji liniowej - klasyfikator:\n",
    "$\\textrm{pres} = 234.122919197 \\cdot \\textrm{gravity} - 0.069921332 \\cdot \\textrm{cond} - 0.008139128 \\cdot \\textrm{urea} + 0.247040755 \\cdot \\textrm{calc}$"
   ]
  },
  {
   "cell_type": "code",
   "execution_count": 37,
   "metadata": {},
   "outputs": [
    {
     "data": {
      "text/html": [
       "<dl>\n",
       "\t<dt>$class</dt>\n",
       "\t\t<dd><style>\n",
       ".list-inline {list-style: none; margin:0; padding: 0}\n",
       ".list-inline>li {display: inline-block}\n",
       ".list-inline>li:not(:last-child)::after {content: \"\\00b7\"; padding: 0 .5ex}\n",
       "</style>\n",
       "<ol class=list-inline><li>0</li><li>0</li><li>0</li><li>0</li><li>0</li><li>0</li><li>0</li><li>0</li><li>0</li><li>0</li><li>0</li><li>0</li><li>0</li><li>0</li><li>0</li><li>0</li><li>1</li><li>0</li><li>0</li><li>0</li><li>0</li><li>1</li><li>0</li><li>0</li><li>0</li><li>1</li><li>1</li><li>1</li></ol>\n",
       "\n",
       "<details>\n",
       "\t<summary style=display:list-item;cursor:pointer>\n",
       "\t\t<strong>Levels</strong>:\n",
       "\t</summary>\n",
       "\t<style>\n",
       "\t.list-inline {list-style: none; margin:0; padding: 0}\n",
       "\t.list-inline>li {display: inline-block}\n",
       "\t.list-inline>li:not(:last-child)::after {content: \"\\00b7\"; padding: 0 .5ex}\n",
       "\t</style>\n",
       "\t<ol class=list-inline><li>'0'</li><li>'1'</li></ol>\n",
       "</details></dd>\n",
       "\t<dt>$posterior</dt>\n",
       "\t\t<dd><table class=\"dataframe\">\n",
       "<caption>A matrix: 28 × 2 of type dbl</caption>\n",
       "<thead>\n",
       "\t<tr><th></th><th scope=col>0</th><th scope=col>1</th></tr>\n",
       "</thead>\n",
       "<tbody>\n",
       "\t<tr><th scope=row>3</th><td>0.944123504</td><td>0.05587650</td></tr>\n",
       "\t<tr><th scope=row>6</th><td>0.643974242</td><td>0.35602576</td></tr>\n",
       "\t<tr><th scope=row>11</th><td>0.877917362</td><td>0.12208264</td></tr>\n",
       "\t<tr><th scope=row>15</th><td>0.962192057</td><td>0.03780794</td></tr>\n",
       "\t<tr><th scope=row>17</th><td>0.972589576</td><td>0.02741042</td></tr>\n",
       "\t<tr><th scope=row>25</th><td>0.596033380</td><td>0.40396662</td></tr>\n",
       "\t<tr><th scope=row>26</th><td>0.780048940</td><td>0.21995106</td></tr>\n",
       "\t<tr><th scope=row>28</th><td>0.854041689</td><td>0.14595831</td></tr>\n",
       "\t<tr><th scope=row>30</th><td>0.946951994</td><td>0.05304801</td></tr>\n",
       "\t<tr><th scope=row>32</th><td>0.530526904</td><td>0.46947310</td></tr>\n",
       "\t<tr><th scope=row>35</th><td>0.899611806</td><td>0.10038819</td></tr>\n",
       "\t<tr><th scope=row>36</th><td>0.789628670</td><td>0.21037133</td></tr>\n",
       "\t<tr><th scope=row>38</th><td>0.634344700</td><td>0.36565530</td></tr>\n",
       "\t<tr><th scope=row>43</th><td>0.835698178</td><td>0.16430182</td></tr>\n",
       "\t<tr><th scope=row>44</th><td>0.890734686</td><td>0.10926531</td></tr>\n",
       "\t<tr><th scope=row>45</th><td>0.919865554</td><td>0.08013445</td></tr>\n",
       "\t<tr><th scope=row>46</th><td>0.468462186</td><td>0.53153781</td></tr>\n",
       "\t<tr><th scope=row>52</th><td>0.853311285</td><td>0.14668872</td></tr>\n",
       "\t<tr><th scope=row>53</th><td>0.938086815</td><td>0.06191318</td></tr>\n",
       "\t<tr><th scope=row>54</th><td>0.962767189</td><td>0.03723281</td></tr>\n",
       "\t<tr><th scope=row>62</th><td>0.634199389</td><td>0.36580061</td></tr>\n",
       "\t<tr><th scope=row>64</th><td>0.007099176</td><td>0.99290082</td></tr>\n",
       "\t<tr><th scope=row>66</th><td>0.898899940</td><td>0.10110006</td></tr>\n",
       "\t<tr><th scope=row>68</th><td>0.739781705</td><td>0.26021829</td></tr>\n",
       "\t<tr><th scope=row>70</th><td>0.532259990</td><td>0.46774001</td></tr>\n",
       "\t<tr><th scope=row>71</th><td>0.000531766</td><td>0.99946823</td></tr>\n",
       "\t<tr><th scope=row>72</th><td>0.065544112</td><td>0.93445589</td></tr>\n",
       "\t<tr><th scope=row>78</th><td>0.078108906</td><td>0.92189109</td></tr>\n",
       "</tbody>\n",
       "</table>\n",
       "</dd>\n",
       "\t<dt>$x</dt>\n",
       "\t\t<dd><table class=\"dataframe\">\n",
       "<caption>A matrix: 28 × 1 of type dbl</caption>\n",
       "<thead>\n",
       "\t<tr><th></th><th scope=col>LD1</th></tr>\n",
       "</thead>\n",
       "<tbody>\n",
       "\t<tr><th scope=row>3</th><td>-1.099184099</td></tr>\n",
       "\t<tr><th scope=row>6</th><td>-0.003799381</td></tr>\n",
       "\t<tr><th scope=row>11</th><td>-0.680405891</td></tr>\n",
       "\t<tr><th scope=row>15</th><td>-1.299970873</td></tr>\n",
       "\t<tr><th scope=row>17</th><td>-1.462893863</td></tr>\n",
       "\t<tr><th scope=row>25</th><td> 0.096054946</td></tr>\n",
       "\t<tr><th scope=row>26</th><td>-0.333865218</td></tr>\n",
       "\t<tr><th scope=row>28</th><td>-0.579323995</td></tr>\n",
       "\t<tr><th scope=row>30</th><td>-1.126115999</td></tr>\n",
       "\t<tr><th scope=row>32</th><td> 0.226800013</td></tr>\n",
       "\t<tr><th scope=row>35</th><td>-0.788286765</td></tr>\n",
       "\t<tr><th scope=row>36</th><td>-0.361679057</td></tr>\n",
       "\t<tr><th scope=row>38</th><td> 0.016669547</td></tr>\n",
       "\t<tr><th scope=row>43</th><td>-0.510645294</td></tr>\n",
       "\t<tr><th scope=row>44</th><td>-0.741886513</td></tr>\n",
       "\t<tr><th scope=row>45</th><td>-0.909667692</td></tr>\n",
       "\t<tr><th scope=row>46</th><td> 0.348659227</td></tr>\n",
       "\t<tr><th scope=row>52</th><td>-0.576457499</td></tr>\n",
       "\t<tr><th scope=row>53</th><td>-1.045747807</td></tr>\n",
       "\t<tr><th scope=row>54</th><td>-1.307778375</td></tr>\n",
       "\t<tr><th scope=row>62</th><td> 0.016976632</td></tr>\n",
       "\t<tr><th scope=row>64</th><td> 2.708760861</td></tr>\n",
       "\t<tr><th scope=row>66</th><td>-0.784434716</td></tr>\n",
       "\t<tr><th scope=row>68</th><td>-0.225468202</td></tr>\n",
       "\t<tr><th scope=row>70</th><td> 0.223388159</td></tr>\n",
       "\t<tr><th scope=row>71</th><td> 3.982423130</td></tr>\n",
       "\t<tr><th scope=row>72</th><td> 1.589377988</td></tr>\n",
       "\t<tr><th scope=row>78</th><td> 1.496765835</td></tr>\n",
       "</tbody>\n",
       "</table>\n",
       "</dd>\n",
       "</dl>\n"
      ],
      "text/latex": [
       "\\begin{description}\n",
       "\\item[\\$class] \\begin{enumerate*}\n",
       "\\item 0\n",
       "\\item 0\n",
       "\\item 0\n",
       "\\item 0\n",
       "\\item 0\n",
       "\\item 0\n",
       "\\item 0\n",
       "\\item 0\n",
       "\\item 0\n",
       "\\item 0\n",
       "\\item 0\n",
       "\\item 0\n",
       "\\item 0\n",
       "\\item 0\n",
       "\\item 0\n",
       "\\item 0\n",
       "\\item 1\n",
       "\\item 0\n",
       "\\item 0\n",
       "\\item 0\n",
       "\\item 0\n",
       "\\item 1\n",
       "\\item 0\n",
       "\\item 0\n",
       "\\item 0\n",
       "\\item 1\n",
       "\\item 1\n",
       "\\item 1\n",
       "\\end{enumerate*}\n",
       "\n",
       "\\emph{Levels}: \\begin{enumerate*}\n",
       "\\item '0'\n",
       "\\item '1'\n",
       "\\end{enumerate*}\n",
       "\n",
       "\\item[\\$posterior] A matrix: 28 × 2 of type dbl\n",
       "\\begin{tabular}{r|ll}\n",
       "  & 0 & 1\\\\\n",
       "\\hline\n",
       "\t3 & 0.944123504 & 0.05587650\\\\\n",
       "\t6 & 0.643974242 & 0.35602576\\\\\n",
       "\t11 & 0.877917362 & 0.12208264\\\\\n",
       "\t15 & 0.962192057 & 0.03780794\\\\\n",
       "\t17 & 0.972589576 & 0.02741042\\\\\n",
       "\t25 & 0.596033380 & 0.40396662\\\\\n",
       "\t26 & 0.780048940 & 0.21995106\\\\\n",
       "\t28 & 0.854041689 & 0.14595831\\\\\n",
       "\t30 & 0.946951994 & 0.05304801\\\\\n",
       "\t32 & 0.530526904 & 0.46947310\\\\\n",
       "\t35 & 0.899611806 & 0.10038819\\\\\n",
       "\t36 & 0.789628670 & 0.21037133\\\\\n",
       "\t38 & 0.634344700 & 0.36565530\\\\\n",
       "\t43 & 0.835698178 & 0.16430182\\\\\n",
       "\t44 & 0.890734686 & 0.10926531\\\\\n",
       "\t45 & 0.919865554 & 0.08013445\\\\\n",
       "\t46 & 0.468462186 & 0.53153781\\\\\n",
       "\t52 & 0.853311285 & 0.14668872\\\\\n",
       "\t53 & 0.938086815 & 0.06191318\\\\\n",
       "\t54 & 0.962767189 & 0.03723281\\\\\n",
       "\t62 & 0.634199389 & 0.36580061\\\\\n",
       "\t64 & 0.007099176 & 0.99290082\\\\\n",
       "\t66 & 0.898899940 & 0.10110006\\\\\n",
       "\t68 & 0.739781705 & 0.26021829\\\\\n",
       "\t70 & 0.532259990 & 0.46774001\\\\\n",
       "\t71 & 0.000531766 & 0.99946823\\\\\n",
       "\t72 & 0.065544112 & 0.93445589\\\\\n",
       "\t78 & 0.078108906 & 0.92189109\\\\\n",
       "\\end{tabular}\n",
       "\n",
       "\\item[\\$x] A matrix: 28 × 1 of type dbl\n",
       "\\begin{tabular}{r|l}\n",
       "  & LD1\\\\\n",
       "\\hline\n",
       "\t3 & -1.099184099\\\\\n",
       "\t6 & -0.003799381\\\\\n",
       "\t11 & -0.680405891\\\\\n",
       "\t15 & -1.299970873\\\\\n",
       "\t17 & -1.462893863\\\\\n",
       "\t25 &  0.096054946\\\\\n",
       "\t26 & -0.333865218\\\\\n",
       "\t28 & -0.579323995\\\\\n",
       "\t30 & -1.126115999\\\\\n",
       "\t32 &  0.226800013\\\\\n",
       "\t35 & -0.788286765\\\\\n",
       "\t36 & -0.361679057\\\\\n",
       "\t38 &  0.016669547\\\\\n",
       "\t43 & -0.510645294\\\\\n",
       "\t44 & -0.741886513\\\\\n",
       "\t45 & -0.909667692\\\\\n",
       "\t46 &  0.348659227\\\\\n",
       "\t52 & -0.576457499\\\\\n",
       "\t53 & -1.045747807\\\\\n",
       "\t54 & -1.307778375\\\\\n",
       "\t62 &  0.016976632\\\\\n",
       "\t64 &  2.708760861\\\\\n",
       "\t66 & -0.784434716\\\\\n",
       "\t68 & -0.225468202\\\\\n",
       "\t70 &  0.223388159\\\\\n",
       "\t71 &  3.982423130\\\\\n",
       "\t72 &  1.589377988\\\\\n",
       "\t78 &  1.496765835\\\\\n",
       "\\end{tabular}\n",
       "\n",
       "\\end{description}\n"
      ],
      "text/markdown": [
       "$class\n",
       ":   1. 0\n",
       "2. 0\n",
       "3. 0\n",
       "4. 0\n",
       "5. 0\n",
       "6. 0\n",
       "7. 0\n",
       "8. 0\n",
       "9. 0\n",
       "10. 0\n",
       "11. 0\n",
       "12. 0\n",
       "13. 0\n",
       "14. 0\n",
       "15. 0\n",
       "16. 0\n",
       "17. 1\n",
       "18. 0\n",
       "19. 0\n",
       "20. 0\n",
       "21. 0\n",
       "22. 1\n",
       "23. 0\n",
       "24. 0\n",
       "25. 0\n",
       "26. 1\n",
       "27. 1\n",
       "28. 1\n",
       "\n",
       "\n",
       "\n",
       "**Levels**: 1. '0'\n",
       "2. '1'\n",
       "\n",
       "\n",
       "\n",
       "$posterior\n",
       ":   \n",
       "A matrix: 28 × 2 of type dbl\n",
       "\n",
       "| <!--/--> | 0 | 1 |\n",
       "|---|---|---|\n",
       "| 3 | 0.944123504 | 0.05587650 |\n",
       "| 6 | 0.643974242 | 0.35602576 |\n",
       "| 11 | 0.877917362 | 0.12208264 |\n",
       "| 15 | 0.962192057 | 0.03780794 |\n",
       "| 17 | 0.972589576 | 0.02741042 |\n",
       "| 25 | 0.596033380 | 0.40396662 |\n",
       "| 26 | 0.780048940 | 0.21995106 |\n",
       "| 28 | 0.854041689 | 0.14595831 |\n",
       "| 30 | 0.946951994 | 0.05304801 |\n",
       "| 32 | 0.530526904 | 0.46947310 |\n",
       "| 35 | 0.899611806 | 0.10038819 |\n",
       "| 36 | 0.789628670 | 0.21037133 |\n",
       "| 38 | 0.634344700 | 0.36565530 |\n",
       "| 43 | 0.835698178 | 0.16430182 |\n",
       "| 44 | 0.890734686 | 0.10926531 |\n",
       "| 45 | 0.919865554 | 0.08013445 |\n",
       "| 46 | 0.468462186 | 0.53153781 |\n",
       "| 52 | 0.853311285 | 0.14668872 |\n",
       "| 53 | 0.938086815 | 0.06191318 |\n",
       "| 54 | 0.962767189 | 0.03723281 |\n",
       "| 62 | 0.634199389 | 0.36580061 |\n",
       "| 64 | 0.007099176 | 0.99290082 |\n",
       "| 66 | 0.898899940 | 0.10110006 |\n",
       "| 68 | 0.739781705 | 0.26021829 |\n",
       "| 70 | 0.532259990 | 0.46774001 |\n",
       "| 71 | 0.000531766 | 0.99946823 |\n",
       "| 72 | 0.065544112 | 0.93445589 |\n",
       "| 78 | 0.078108906 | 0.92189109 |\n",
       "\n",
       "\n",
       "$x\n",
       ":   \n",
       "A matrix: 28 × 1 of type dbl\n",
       "\n",
       "| <!--/--> | LD1 |\n",
       "|---|---|\n",
       "| 3 | -1.099184099 |\n",
       "| 6 | -0.003799381 |\n",
       "| 11 | -0.680405891 |\n",
       "| 15 | -1.299970873 |\n",
       "| 17 | -1.462893863 |\n",
       "| 25 |  0.096054946 |\n",
       "| 26 | -0.333865218 |\n",
       "| 28 | -0.579323995 |\n",
       "| 30 | -1.126115999 |\n",
       "| 32 |  0.226800013 |\n",
       "| 35 | -0.788286765 |\n",
       "| 36 | -0.361679057 |\n",
       "| 38 |  0.016669547 |\n",
       "| 43 | -0.510645294 |\n",
       "| 44 | -0.741886513 |\n",
       "| 45 | -0.909667692 |\n",
       "| 46 |  0.348659227 |\n",
       "| 52 | -0.576457499 |\n",
       "| 53 | -1.045747807 |\n",
       "| 54 | -1.307778375 |\n",
       "| 62 |  0.016976632 |\n",
       "| 64 |  2.708760861 |\n",
       "| 66 | -0.784434716 |\n",
       "| 68 | -0.225468202 |\n",
       "| 70 |  0.223388159 |\n",
       "| 71 |  3.982423130 |\n",
       "| 72 |  1.589377988 |\n",
       "| 78 |  1.496765835 |\n",
       "\n",
       "\n",
       "\n",
       "\n"
      ],
      "text/plain": [
       "$class\n",
       " [1] 0 0 0 0 0 0 0 0 0 0 0 0 0 0 0 0 1 0 0 0 0 1 0 0 0 1 1 1\n",
       "Levels: 0 1\n",
       "\n",
       "$posterior\n",
       "             0          1\n",
       "3  0.944123504 0.05587650\n",
       "6  0.643974242 0.35602576\n",
       "11 0.877917362 0.12208264\n",
       "15 0.962192057 0.03780794\n",
       "17 0.972589576 0.02741042\n",
       "25 0.596033380 0.40396662\n",
       "26 0.780048940 0.21995106\n",
       "28 0.854041689 0.14595831\n",
       "30 0.946951994 0.05304801\n",
       "32 0.530526904 0.46947310\n",
       "35 0.899611806 0.10038819\n",
       "36 0.789628670 0.21037133\n",
       "38 0.634344700 0.36565530\n",
       "43 0.835698178 0.16430182\n",
       "44 0.890734686 0.10926531\n",
       "45 0.919865554 0.08013445\n",
       "46 0.468462186 0.53153781\n",
       "52 0.853311285 0.14668872\n",
       "53 0.938086815 0.06191318\n",
       "54 0.962767189 0.03723281\n",
       "62 0.634199389 0.36580061\n",
       "64 0.007099176 0.99290082\n",
       "66 0.898899940 0.10110006\n",
       "68 0.739781705 0.26021829\n",
       "70 0.532259990 0.46774001\n",
       "71 0.000531766 0.99946823\n",
       "72 0.065544112 0.93445589\n",
       "78 0.078108906 0.92189109\n",
       "\n",
       "$x\n",
       "            LD1\n",
       "3  -1.099184099\n",
       "6  -0.003799381\n",
       "11 -0.680405891\n",
       "15 -1.299970873\n",
       "17 -1.462893863\n",
       "25  0.096054946\n",
       "26 -0.333865218\n",
       "28 -0.579323995\n",
       "30 -1.126115999\n",
       "32  0.226800013\n",
       "35 -0.788286765\n",
       "36 -0.361679057\n",
       "38  0.016669547\n",
       "43 -0.510645294\n",
       "44 -0.741886513\n",
       "45 -0.909667692\n",
       "46  0.348659227\n",
       "52 -0.576457499\n",
       "53 -1.045747807\n",
       "54 -1.307778375\n",
       "62  0.016976632\n",
       "64  2.708760861\n",
       "66 -0.784434716\n",
       "68 -0.225468202\n",
       "70  0.223388159\n",
       "71  3.982423130\n",
       "72  1.589377988\n",
       "78  1.496765835\n"
      ]
     },
     "metadata": {},
     "output_type": "display_data"
    }
   ],
   "source": [
    "# wykonanie predykcji prawdopodobienstwa dla podzbioru testowego na podstawie wygenerowanego modelu regresji liniowej\n",
    "predykcja_lda_podzbior_testowy_7 = predict(model_lda_7, newdata = podzbior_testowy_7[-1, ])\n",
    "predykcja_lda_podzbior_testowy_7"
   ]
  },
  {
   "cell_type": "markdown",
   "metadata": {},
   "source": [
    "Z podzbioru testowego usuwamy pierwszą obserwację, dla której wychodzi wartość NA."
   ]
  },
  {
   "cell_type": "code",
   "execution_count": 38,
   "metadata": {},
   "outputs": [
    {
     "data": {
      "text/plain": [
       "    Predicted\n",
       "True  0  1\n",
       "   0 16  0\n",
       "   1  7  5"
      ]
     },
     "metadata": {},
     "output_type": "display_data"
    }
   ],
   "source": [
    "# tabela predykcji dla podzbioru testowego\n",
    "tabela_predykcji_lda_podzbior_testowy_7 = table(True = podzbior_testowy_7$pres[-1], Predicted = predykcja_lda_podzbior_testowy_7$class)\n",
    "tabela_predykcji_lda_podzbior_testowy_7"
   ]
  },
  {
   "cell_type": "code",
   "execution_count": 39,
   "metadata": {
    "scrolled": true
   },
   "outputs": [
    {
     "data": {
      "text/html": [
       "25"
      ],
      "text/latex": [
       "25"
      ],
      "text/markdown": [
       "25"
      ],
      "text/plain": [
       "[1] 25"
      ]
     },
     "metadata": {},
     "output_type": "display_data"
    }
   ],
   "source": [
    "# procent niepoprawnie dopasowanych obserwacji w podzbiorze testowym\n",
    "blad_predykcji_lda_zbior_testowy_7 = (sum(tabela_predykcji_lda_podzbior_testowy_7) - sum(diag(tabela_predykcji_lda_podzbior_testowy_7))) / sum(tabela_predykcji_lda_podzbior_testowy_7) * 100\n",
    "blad_predykcji_lda_zbior_testowy_7"
   ]
  },
  {
   "cell_type": "markdown",
   "metadata": {},
   "source": [
    "Błąd klasyfikacji klasyfikatora opartego na regresji liniowej dla próby testowej jest mniejszy o ponad 6% od błędu klasyfikacji klasyfikatora opartego na regresji logistycznej."
   ]
  },
  {
   "cell_type": "markdown",
   "metadata": {},
   "source": [
    "## Ćwiczenie 8\n",
    "Plik $puls.txt$ zawiera dane dotyczące poziomów tętna spoczynkowego (niskie/wysokie) w grupie 92 pacjentów. W danych znajdują się następujące zmienne:\n",
    "- $TetnoSpocz$ - poziom tętna spoczynkowego (niskie/wysokie)\n",
    "- $Palacz$ - czy pacjent pali papierosy (0 - nie pali, 1 - pali)\n",
    "- $Waga$ - waga w kilogramach"
   ]
  },
  {
   "cell_type": "code",
   "execution_count": 40,
   "metadata": {},
   "outputs": [
    {
     "data": {
      "text/html": [
       "<table class=\"dataframe\">\n",
       "<caption>A data.frame: 6 × 3</caption>\n",
       "<thead>\n",
       "\t<tr><th></th><th scope=col>TetnoSpocz</th><th scope=col>Palacz</th><th scope=col>Waga</th></tr>\n",
       "\t<tr><th></th><th scope=col>&lt;chr&gt;</th><th scope=col>&lt;int&gt;</th><th scope=col>&lt;int&gt;</th></tr>\n",
       "</thead>\n",
       "<tbody>\n",
       "\t<tr><th scope=row>1</th><td>Niskie</td><td>1</td><td>51</td></tr>\n",
       "\t<tr><th scope=row>2</th><td>Niskie</td><td>1</td><td>52</td></tr>\n",
       "\t<tr><th scope=row>3</th><td>Niskie</td><td>1</td><td>57</td></tr>\n",
       "\t<tr><th scope=row>4</th><td>Niskie</td><td>1</td><td>59</td></tr>\n",
       "\t<tr><th scope=row>5</th><td>Niskie</td><td>1</td><td>60</td></tr>\n",
       "\t<tr><th scope=row>6</th><td>Niskie</td><td>1</td><td>66</td></tr>\n",
       "</tbody>\n",
       "</table>\n"
      ],
      "text/latex": [
       "A data.frame: 6 × 3\n",
       "\\begin{tabular}{r|lll}\n",
       "  & TetnoSpocz & Palacz & Waga\\\\\n",
       "  & <chr> & <int> & <int>\\\\\n",
       "\\hline\n",
       "\t1 & Niskie & 1 & 51\\\\\n",
       "\t2 & Niskie & 1 & 52\\\\\n",
       "\t3 & Niskie & 1 & 57\\\\\n",
       "\t4 & Niskie & 1 & 59\\\\\n",
       "\t5 & Niskie & 1 & 60\\\\\n",
       "\t6 & Niskie & 1 & 66\\\\\n",
       "\\end{tabular}\n"
      ],
      "text/markdown": [
       "\n",
       "A data.frame: 6 × 3\n",
       "\n",
       "| <!--/--> | TetnoSpocz &lt;chr&gt; | Palacz &lt;int&gt; | Waga &lt;int&gt; |\n",
       "|---|---|---|---|\n",
       "| 1 | Niskie | 1 | 51 |\n",
       "| 2 | Niskie | 1 | 52 |\n",
       "| 3 | Niskie | 1 | 57 |\n",
       "| 4 | Niskie | 1 | 59 |\n",
       "| 5 | Niskie | 1 | 60 |\n",
       "| 6 | Niskie | 1 | 66 |\n",
       "\n"
      ],
      "text/plain": [
       "  TetnoSpocz Palacz Waga\n",
       "1 Niskie     1      51  \n",
       "2 Niskie     1      52  \n",
       "3 Niskie     1      57  \n",
       "4 Niskie     1      59  \n",
       "5 Niskie     1      60  \n",
       "6 Niskie     1      66  "
      ]
     },
     "metadata": {},
     "output_type": "display_data"
    }
   ],
   "source": [
    "# wczytanie danych z naglowkami\n",
    "puls = read.table(\"puls.txt\", header = TRUE, sep = \";\")\n",
    "# wyswietlenie pierwszych wierszy naszych danych\n",
    "head(puls)"
   ]
  },
  {
   "cell_type": "markdown",
   "metadata": {},
   "source": [
    "#### i) Dokonaj podziału obserwacji na podzbiór uczący (75% obserwacji, wybranych w sposób losowy) oraz zbiór testowy (pozostałe)."
   ]
  },
  {
   "cell_type": "code",
   "execution_count": 41,
   "metadata": {},
   "outputs": [
    {
     "data": {
      "text/html": [
       "92"
      ],
      "text/latex": [
       "92"
      ],
      "text/markdown": [
       "92"
      ],
      "text/plain": [
       "[1] 92"
      ]
     },
     "metadata": {},
     "output_type": "display_data"
    }
   ],
   "source": [
    "# liczba obserwacji w zbiorze danych\n",
    "obserwacje_8 = nrow(puls)\n",
    "obserwacje_8"
   ]
  },
  {
   "cell_type": "code",
   "execution_count": 42,
   "metadata": {},
   "outputs": [
    {
     "data": {
      "text/html": [
       "69"
      ],
      "text/latex": [
       "69"
      ],
      "text/markdown": [
       "69"
      ],
      "text/plain": [
       "[1] 69"
      ]
     },
     "metadata": {},
     "output_type": "display_data"
    }
   ],
   "source": [
    "# liczba obserwacji w podzbiorze uczacym\n",
    "obserwacje_podzbior_uczacy = obserwacje_8 * 0.75\n",
    "obserwacje_podzbior_uczacy"
   ]
  },
  {
   "cell_type": "code",
   "execution_count": 43,
   "metadata": {},
   "outputs": [],
   "source": [
    "# wybranie losowych 69 obserwacji\n",
    "#losowe_obserwacje_8 = sort(sample(1:92, 69, replace = FALSE))"
   ]
  },
  {
   "cell_type": "markdown",
   "metadata": {},
   "source": [
    "Obserwacje zostały wylosowane wcześniej, aby przy każdym puszczaniu gotowego kodu próby ucząca i testowa miały identyczną zawartość, która wpływa na kolejne, wykonane poniżej kroki."
   ]
  },
  {
   "cell_type": "code",
   "execution_count": 44,
   "metadata": {},
   "outputs": [],
   "source": [
    "# wektor losowych obserwacji\n",
    "losowe_obserwacje_8 = c(1, 2, 3, 4, 5, 7, 8, 9, 10, 11, 12, 13, 14, 15, 16, 17, 18, 19, 21, 22, 23, 24, 25, 26, 27, 28, 29, 30, 31, 34, 36, 38, 39, 40, 41, 42, 43, 44, 46, 47, 48, 49, 52, 55, 56, 58, 59, 63, 66, 67, 68, 70, 71, 72, 73, 74, 75, 77, 79, 81, 82, 84, 85, 86, 87, 88, 89, 90, 92)"
   ]
  },
  {
   "cell_type": "code",
   "execution_count": 45,
   "metadata": {},
   "outputs": [
    {
     "data": {
      "text/html": [
       "<table class=\"dataframe\">\n",
       "<caption>A data.frame: 69 × 3</caption>\n",
       "<thead>\n",
       "\t<tr><th></th><th scope=col>TetnoSpocz</th><th scope=col>Palacz</th><th scope=col>Waga</th></tr>\n",
       "\t<tr><th></th><th scope=col>&lt;chr&gt;</th><th scope=col>&lt;int&gt;</th><th scope=col>&lt;int&gt;</th></tr>\n",
       "</thead>\n",
       "<tbody>\n",
       "\t<tr><th scope=row>1</th><td>Niskie</td><td>1</td><td>51</td></tr>\n",
       "\t<tr><th scope=row>2</th><td>Niskie</td><td>1</td><td>52</td></tr>\n",
       "\t<tr><th scope=row>3</th><td>Niskie</td><td>1</td><td>57</td></tr>\n",
       "\t<tr><th scope=row>4</th><td>Niskie</td><td>1</td><td>59</td></tr>\n",
       "\t<tr><th scope=row>5</th><td>Niskie</td><td>1</td><td>60</td></tr>\n",
       "\t<tr><th scope=row>7</th><td>Niskie</td><td>0</td><td>68</td></tr>\n",
       "\t<tr><th scope=row>8</th><td>Niskie</td><td>0</td><td>68</td></tr>\n",
       "\t<tr><th scope=row>9</th><td>Niskie</td><td>0</td><td>68</td></tr>\n",
       "\t<tr><th scope=row>10</th><td>Niskie</td><td>0</td><td>68</td></tr>\n",
       "\t<tr><th scope=row>11</th><td>Niskie</td><td>1</td><td>68</td></tr>\n",
       "\t<tr><th scope=row>12</th><td>Niskie</td><td>1</td><td>68</td></tr>\n",
       "\t<tr><th scope=row>13</th><td>Niskie</td><td>1</td><td>68</td></tr>\n",
       "\t<tr><th scope=row>14</th><td>Niskie</td><td>0</td><td>69</td></tr>\n",
       "\t<tr><th scope=row>15</th><td>Niskie</td><td>0</td><td>70</td></tr>\n",
       "\t<tr><th scope=row>16</th><td>Niskie</td><td>1</td><td>75</td></tr>\n",
       "\t<tr><th scope=row>17</th><td>Niskie</td><td>1</td><td>75</td></tr>\n",
       "\t<tr><th scope=row>18</th><td>Niskie</td><td>1</td><td>75</td></tr>\n",
       "\t<tr><th scope=row>19</th><td>Niskie</td><td>1</td><td>75</td></tr>\n",
       "\t<tr><th scope=row>21</th><td>Niskie</td><td>0</td><td>77</td></tr>\n",
       "\t<tr><th scope=row>22</th><td>Niskie</td><td>0</td><td>77</td></tr>\n",
       "\t<tr><th scope=row>23</th><td>Niskie</td><td>0</td><td>78</td></tr>\n",
       "\t<tr><th scope=row>24</th><td>Niskie</td><td>0</td><td>78</td></tr>\n",
       "\t<tr><th scope=row>25</th><td>Niskie</td><td>1</td><td>78</td></tr>\n",
       "\t<tr><th scope=row>26</th><td>Niskie</td><td>0</td><td>79</td></tr>\n",
       "\t<tr><th scope=row>27</th><td>Niskie</td><td>0</td><td>79</td></tr>\n",
       "\t<tr><th scope=row>28</th><td>Niskie</td><td>0</td><td>79</td></tr>\n",
       "\t<tr><th scope=row>29</th><td>Niskie</td><td>0</td><td>80</td></tr>\n",
       "\t<tr><th scope=row>30</th><td>Niskie</td><td>0</td><td>82</td></tr>\n",
       "\t<tr><th scope=row>31</th><td>Niskie</td><td>0</td><td>82</td></tr>\n",
       "\t<tr><th scope=row>34</th><td>Niskie</td><td>0</td><td>82</td></tr>\n",
       "\t<tr><th scope=row>⋮</th><td>⋮</td><td>⋮</td><td>⋮</td></tr>\n",
       "\t<tr><th scope=row>47</th><td>Niskie </td><td>0</td><td> 86</td></tr>\n",
       "\t<tr><th scope=row>48</th><td>Niskie </td><td>0</td><td> 86</td></tr>\n",
       "\t<tr><th scope=row>49</th><td>Niskie </td><td>0</td><td> 87</td></tr>\n",
       "\t<tr><th scope=row>52</th><td>Niskie </td><td>0</td><td> 88</td></tr>\n",
       "\t<tr><th scope=row>55</th><td>Niskie </td><td>0</td><td> 88</td></tr>\n",
       "\t<tr><th scope=row>56</th><td>Niskie </td><td>0</td><td> 88</td></tr>\n",
       "\t<tr><th scope=row>58</th><td>Niskie </td><td>1</td><td> 88</td></tr>\n",
       "\t<tr><th scope=row>59</th><td>Niskie </td><td>1</td><td> 90</td></tr>\n",
       "\t<tr><th scope=row>63</th><td>Wysokie</td><td>0</td><td> 91</td></tr>\n",
       "\t<tr><th scope=row>66</th><td>Wysokie</td><td>0</td><td> 93</td></tr>\n",
       "\t<tr><th scope=row>67</th><td>Wysokie</td><td>0</td><td> 93</td></tr>\n",
       "\t<tr><th scope=row>68</th><td>Wysokie</td><td>1</td><td> 93</td></tr>\n",
       "\t<tr><th scope=row>70</th><td>Wysokie</td><td>0</td><td> 94</td></tr>\n",
       "\t<tr><th scope=row>71</th><td>Wysokie</td><td>1</td><td> 95</td></tr>\n",
       "\t<tr><th scope=row>72</th><td>Wysokie</td><td>0</td><td> 95</td></tr>\n",
       "\t<tr><th scope=row>73</th><td>Wysokie</td><td>1</td><td> 95</td></tr>\n",
       "\t<tr><th scope=row>74</th><td>Wysokie</td><td>0</td><td> 98</td></tr>\n",
       "\t<tr><th scope=row>75</th><td>Wysokie</td><td>1</td><td>100</td></tr>\n",
       "\t<tr><th scope=row>77</th><td>Wysokie</td><td>1</td><td>102</td></tr>\n",
       "\t<tr><th scope=row>79</th><td>Wysokie</td><td>1</td><td>108</td></tr>\n",
       "\t<tr><th scope=row>81</th><td>Wysokie</td><td>0</td><td>111</td></tr>\n",
       "\t<tr><th scope=row>82</th><td>Wysokie</td><td>0</td><td>113</td></tr>\n",
       "\t<tr><th scope=row>84</th><td>Wysokie</td><td>0</td><td>118</td></tr>\n",
       "\t<tr><th scope=row>85</th><td>Wysokie</td><td>0</td><td> 48</td></tr>\n",
       "\t<tr><th scope=row>86</th><td>Wysokie</td><td>0</td><td> 54</td></tr>\n",
       "\t<tr><th scope=row>87</th><td>Wysokie</td><td>0</td><td> 55</td></tr>\n",
       "\t<tr><th scope=row>88</th><td>Wysokie</td><td>0</td><td> 59</td></tr>\n",
       "\t<tr><th scope=row>89</th><td>Wysokie</td><td>0</td><td> 64</td></tr>\n",
       "\t<tr><th scope=row>90</th><td>Wysokie</td><td>1</td><td> 82</td></tr>\n",
       "\t<tr><th scope=row>92</th><td>Wysokie</td><td>1</td><td>113</td></tr>\n",
       "</tbody>\n",
       "</table>\n"
      ],
      "text/latex": [
       "A data.frame: 69 × 3\n",
       "\\begin{tabular}{r|lll}\n",
       "  & TetnoSpocz & Palacz & Waga\\\\\n",
       "  & <chr> & <int> & <int>\\\\\n",
       "\\hline\n",
       "\t1 & Niskie & 1 & 51\\\\\n",
       "\t2 & Niskie & 1 & 52\\\\\n",
       "\t3 & Niskie & 1 & 57\\\\\n",
       "\t4 & Niskie & 1 & 59\\\\\n",
       "\t5 & Niskie & 1 & 60\\\\\n",
       "\t7 & Niskie & 0 & 68\\\\\n",
       "\t8 & Niskie & 0 & 68\\\\\n",
       "\t9 & Niskie & 0 & 68\\\\\n",
       "\t10 & Niskie & 0 & 68\\\\\n",
       "\t11 & Niskie & 1 & 68\\\\\n",
       "\t12 & Niskie & 1 & 68\\\\\n",
       "\t13 & Niskie & 1 & 68\\\\\n",
       "\t14 & Niskie & 0 & 69\\\\\n",
       "\t15 & Niskie & 0 & 70\\\\\n",
       "\t16 & Niskie & 1 & 75\\\\\n",
       "\t17 & Niskie & 1 & 75\\\\\n",
       "\t18 & Niskie & 1 & 75\\\\\n",
       "\t19 & Niskie & 1 & 75\\\\\n",
       "\t21 & Niskie & 0 & 77\\\\\n",
       "\t22 & Niskie & 0 & 77\\\\\n",
       "\t23 & Niskie & 0 & 78\\\\\n",
       "\t24 & Niskie & 0 & 78\\\\\n",
       "\t25 & Niskie & 1 & 78\\\\\n",
       "\t26 & Niskie & 0 & 79\\\\\n",
       "\t27 & Niskie & 0 & 79\\\\\n",
       "\t28 & Niskie & 0 & 79\\\\\n",
       "\t29 & Niskie & 0 & 80\\\\\n",
       "\t30 & Niskie & 0 & 82\\\\\n",
       "\t31 & Niskie & 0 & 82\\\\\n",
       "\t34 & Niskie & 0 & 82\\\\\n",
       "\t⋮ & ⋮ & ⋮ & ⋮\\\\\n",
       "\t47 & Niskie  & 0 &  86\\\\\n",
       "\t48 & Niskie  & 0 &  86\\\\\n",
       "\t49 & Niskie  & 0 &  87\\\\\n",
       "\t52 & Niskie  & 0 &  88\\\\\n",
       "\t55 & Niskie  & 0 &  88\\\\\n",
       "\t56 & Niskie  & 0 &  88\\\\\n",
       "\t58 & Niskie  & 1 &  88\\\\\n",
       "\t59 & Niskie  & 1 &  90\\\\\n",
       "\t63 & Wysokie & 0 &  91\\\\\n",
       "\t66 & Wysokie & 0 &  93\\\\\n",
       "\t67 & Wysokie & 0 &  93\\\\\n",
       "\t68 & Wysokie & 1 &  93\\\\\n",
       "\t70 & Wysokie & 0 &  94\\\\\n",
       "\t71 & Wysokie & 1 &  95\\\\\n",
       "\t72 & Wysokie & 0 &  95\\\\\n",
       "\t73 & Wysokie & 1 &  95\\\\\n",
       "\t74 & Wysokie & 0 &  98\\\\\n",
       "\t75 & Wysokie & 1 & 100\\\\\n",
       "\t77 & Wysokie & 1 & 102\\\\\n",
       "\t79 & Wysokie & 1 & 108\\\\\n",
       "\t81 & Wysokie & 0 & 111\\\\\n",
       "\t82 & Wysokie & 0 & 113\\\\\n",
       "\t84 & Wysokie & 0 & 118\\\\\n",
       "\t85 & Wysokie & 0 &  48\\\\\n",
       "\t86 & Wysokie & 0 &  54\\\\\n",
       "\t87 & Wysokie & 0 &  55\\\\\n",
       "\t88 & Wysokie & 0 &  59\\\\\n",
       "\t89 & Wysokie & 0 &  64\\\\\n",
       "\t90 & Wysokie & 1 &  82\\\\\n",
       "\t92 & Wysokie & 1 & 113\\\\\n",
       "\\end{tabular}\n"
      ],
      "text/markdown": [
       "\n",
       "A data.frame: 69 × 3\n",
       "\n",
       "| <!--/--> | TetnoSpocz &lt;chr&gt; | Palacz &lt;int&gt; | Waga &lt;int&gt; |\n",
       "|---|---|---|---|\n",
       "| 1 | Niskie | 1 | 51 |\n",
       "| 2 | Niskie | 1 | 52 |\n",
       "| 3 | Niskie | 1 | 57 |\n",
       "| 4 | Niskie | 1 | 59 |\n",
       "| 5 | Niskie | 1 | 60 |\n",
       "| 7 | Niskie | 0 | 68 |\n",
       "| 8 | Niskie | 0 | 68 |\n",
       "| 9 | Niskie | 0 | 68 |\n",
       "| 10 | Niskie | 0 | 68 |\n",
       "| 11 | Niskie | 1 | 68 |\n",
       "| 12 | Niskie | 1 | 68 |\n",
       "| 13 | Niskie | 1 | 68 |\n",
       "| 14 | Niskie | 0 | 69 |\n",
       "| 15 | Niskie | 0 | 70 |\n",
       "| 16 | Niskie | 1 | 75 |\n",
       "| 17 | Niskie | 1 | 75 |\n",
       "| 18 | Niskie | 1 | 75 |\n",
       "| 19 | Niskie | 1 | 75 |\n",
       "| 21 | Niskie | 0 | 77 |\n",
       "| 22 | Niskie | 0 | 77 |\n",
       "| 23 | Niskie | 0 | 78 |\n",
       "| 24 | Niskie | 0 | 78 |\n",
       "| 25 | Niskie | 1 | 78 |\n",
       "| 26 | Niskie | 0 | 79 |\n",
       "| 27 | Niskie | 0 | 79 |\n",
       "| 28 | Niskie | 0 | 79 |\n",
       "| 29 | Niskie | 0 | 80 |\n",
       "| 30 | Niskie | 0 | 82 |\n",
       "| 31 | Niskie | 0 | 82 |\n",
       "| 34 | Niskie | 0 | 82 |\n",
       "| ⋮ | ⋮ | ⋮ | ⋮ |\n",
       "| 47 | Niskie  | 0 |  86 |\n",
       "| 48 | Niskie  | 0 |  86 |\n",
       "| 49 | Niskie  | 0 |  87 |\n",
       "| 52 | Niskie  | 0 |  88 |\n",
       "| 55 | Niskie  | 0 |  88 |\n",
       "| 56 | Niskie  | 0 |  88 |\n",
       "| 58 | Niskie  | 1 |  88 |\n",
       "| 59 | Niskie  | 1 |  90 |\n",
       "| 63 | Wysokie | 0 |  91 |\n",
       "| 66 | Wysokie | 0 |  93 |\n",
       "| 67 | Wysokie | 0 |  93 |\n",
       "| 68 | Wysokie | 1 |  93 |\n",
       "| 70 | Wysokie | 0 |  94 |\n",
       "| 71 | Wysokie | 1 |  95 |\n",
       "| 72 | Wysokie | 0 |  95 |\n",
       "| 73 | Wysokie | 1 |  95 |\n",
       "| 74 | Wysokie | 0 |  98 |\n",
       "| 75 | Wysokie | 1 | 100 |\n",
       "| 77 | Wysokie | 1 | 102 |\n",
       "| 79 | Wysokie | 1 | 108 |\n",
       "| 81 | Wysokie | 0 | 111 |\n",
       "| 82 | Wysokie | 0 | 113 |\n",
       "| 84 | Wysokie | 0 | 118 |\n",
       "| 85 | Wysokie | 0 |  48 |\n",
       "| 86 | Wysokie | 0 |  54 |\n",
       "| 87 | Wysokie | 0 |  55 |\n",
       "| 88 | Wysokie | 0 |  59 |\n",
       "| 89 | Wysokie | 0 |  64 |\n",
       "| 90 | Wysokie | 1 |  82 |\n",
       "| 92 | Wysokie | 1 | 113 |\n",
       "\n"
      ],
      "text/plain": [
       "   TetnoSpocz Palacz Waga\n",
       "1  Niskie     1      51  \n",
       "2  Niskie     1      52  \n",
       "3  Niskie     1      57  \n",
       "4  Niskie     1      59  \n",
       "5  Niskie     1      60  \n",
       "7  Niskie     0      68  \n",
       "8  Niskie     0      68  \n",
       "9  Niskie     0      68  \n",
       "10 Niskie     0      68  \n",
       "11 Niskie     1      68  \n",
       "12 Niskie     1      68  \n",
       "13 Niskie     1      68  \n",
       "14 Niskie     0      69  \n",
       "15 Niskie     0      70  \n",
       "16 Niskie     1      75  \n",
       "17 Niskie     1      75  \n",
       "18 Niskie     1      75  \n",
       "19 Niskie     1      75  \n",
       "21 Niskie     0      77  \n",
       "22 Niskie     0      77  \n",
       "23 Niskie     0      78  \n",
       "24 Niskie     0      78  \n",
       "25 Niskie     1      78  \n",
       "26 Niskie     0      79  \n",
       "27 Niskie     0      79  \n",
       "28 Niskie     0      79  \n",
       "29 Niskie     0      80  \n",
       "30 Niskie     0      82  \n",
       "31 Niskie     0      82  \n",
       "34 Niskie     0      82  \n",
       "⋮  ⋮          ⋮      ⋮   \n",
       "47 Niskie     0       86 \n",
       "48 Niskie     0       86 \n",
       "49 Niskie     0       87 \n",
       "52 Niskie     0       88 \n",
       "55 Niskie     0       88 \n",
       "56 Niskie     0       88 \n",
       "58 Niskie     1       88 \n",
       "59 Niskie     1       90 \n",
       "63 Wysokie    0       91 \n",
       "66 Wysokie    0       93 \n",
       "67 Wysokie    0       93 \n",
       "68 Wysokie    1       93 \n",
       "70 Wysokie    0       94 \n",
       "71 Wysokie    1       95 \n",
       "72 Wysokie    0       95 \n",
       "73 Wysokie    1       95 \n",
       "74 Wysokie    0       98 \n",
       "75 Wysokie    1      100 \n",
       "77 Wysokie    1      102 \n",
       "79 Wysokie    1      108 \n",
       "81 Wysokie    0      111 \n",
       "82 Wysokie    0      113 \n",
       "84 Wysokie    0      118 \n",
       "85 Wysokie    0       48 \n",
       "86 Wysokie    0       54 \n",
       "87 Wysokie    0       55 \n",
       "88 Wysokie    0       59 \n",
       "89 Wysokie    0       64 \n",
       "90 Wysokie    1       82 \n",
       "92 Wysokie    1      113 "
      ]
     },
     "metadata": {},
     "output_type": "display_data"
    }
   ],
   "source": [
    "# przygotowanie podzbioru uczacego\n",
    "podzbior_uczacy_8 = puls[losowe_obserwacje_8, ]\n",
    "podzbior_uczacy_8"
   ]
  },
  {
   "cell_type": "code",
   "execution_count": 46,
   "metadata": {},
   "outputs": [
    {
     "data": {
      "text/html": [
       "<table class=\"dataframe\">\n",
       "<caption>A data.frame: 23 × 3</caption>\n",
       "<thead>\n",
       "\t<tr><th></th><th scope=col>TetnoSpocz</th><th scope=col>Palacz</th><th scope=col>Waga</th></tr>\n",
       "\t<tr><th></th><th scope=col>&lt;chr&gt;</th><th scope=col>&lt;int&gt;</th><th scope=col>&lt;int&gt;</th></tr>\n",
       "</thead>\n",
       "<tbody>\n",
       "\t<tr><th scope=row>6</th><td>Niskie </td><td>1</td><td> 66</td></tr>\n",
       "\t<tr><th scope=row>20</th><td>Niskie </td><td>0</td><td> 76</td></tr>\n",
       "\t<tr><th scope=row>32</th><td>Niskie </td><td>0</td><td> 82</td></tr>\n",
       "\t<tr><th scope=row>33</th><td>Niskie </td><td>0</td><td> 82</td></tr>\n",
       "\t<tr><th scope=row>35</th><td>Niskie </td><td>0</td><td> 82</td></tr>\n",
       "\t<tr><th scope=row>37</th><td>Niskie </td><td>0</td><td> 83</td></tr>\n",
       "\t<tr><th scope=row>45</th><td>Niskie </td><td>0</td><td> 85</td></tr>\n",
       "\t<tr><th scope=row>50</th><td>Niskie </td><td>0</td><td> 87</td></tr>\n",
       "\t<tr><th scope=row>51</th><td>Niskie </td><td>0</td><td> 88</td></tr>\n",
       "\t<tr><th scope=row>53</th><td>Niskie </td><td>0</td><td> 88</td></tr>\n",
       "\t<tr><th scope=row>54</th><td>Niskie </td><td>0</td><td> 88</td></tr>\n",
       "\t<tr><th scope=row>57</th><td>Niskie </td><td>0</td><td> 88</td></tr>\n",
       "\t<tr><th scope=row>60</th><td>Niskie </td><td>1</td><td> 91</td></tr>\n",
       "\t<tr><th scope=row>61</th><td>Niskie </td><td>1</td><td> 91</td></tr>\n",
       "\t<tr><th scope=row>62</th><td>Wysokie</td><td>0</td><td> 91</td></tr>\n",
       "\t<tr><th scope=row>64</th><td>Wysokie</td><td>0</td><td> 91</td></tr>\n",
       "\t<tr><th scope=row>65</th><td>Wysokie</td><td>1</td><td> 91</td></tr>\n",
       "\t<tr><th scope=row>69</th><td>Wysokie</td><td>0</td><td> 94</td></tr>\n",
       "\t<tr><th scope=row>76</th><td>Wysokie</td><td>0</td><td>102</td></tr>\n",
       "\t<tr><th scope=row>78</th><td>Wysokie</td><td>0</td><td>104</td></tr>\n",
       "\t<tr><th scope=row>80</th><td>Wysokie</td><td>0</td><td>111</td></tr>\n",
       "\t<tr><th scope=row>83</th><td>Wysokie</td><td>0</td><td>118</td></tr>\n",
       "\t<tr><th scope=row>91</th><td>Wysokie</td><td>1</td><td> 84</td></tr>\n",
       "</tbody>\n",
       "</table>\n"
      ],
      "text/latex": [
       "A data.frame: 23 × 3\n",
       "\\begin{tabular}{r|lll}\n",
       "  & TetnoSpocz & Palacz & Waga\\\\\n",
       "  & <chr> & <int> & <int>\\\\\n",
       "\\hline\n",
       "\t6 & Niskie  & 1 &  66\\\\\n",
       "\t20 & Niskie  & 0 &  76\\\\\n",
       "\t32 & Niskie  & 0 &  82\\\\\n",
       "\t33 & Niskie  & 0 &  82\\\\\n",
       "\t35 & Niskie  & 0 &  82\\\\\n",
       "\t37 & Niskie  & 0 &  83\\\\\n",
       "\t45 & Niskie  & 0 &  85\\\\\n",
       "\t50 & Niskie  & 0 &  87\\\\\n",
       "\t51 & Niskie  & 0 &  88\\\\\n",
       "\t53 & Niskie  & 0 &  88\\\\\n",
       "\t54 & Niskie  & 0 &  88\\\\\n",
       "\t57 & Niskie  & 0 &  88\\\\\n",
       "\t60 & Niskie  & 1 &  91\\\\\n",
       "\t61 & Niskie  & 1 &  91\\\\\n",
       "\t62 & Wysokie & 0 &  91\\\\\n",
       "\t64 & Wysokie & 0 &  91\\\\\n",
       "\t65 & Wysokie & 1 &  91\\\\\n",
       "\t69 & Wysokie & 0 &  94\\\\\n",
       "\t76 & Wysokie & 0 & 102\\\\\n",
       "\t78 & Wysokie & 0 & 104\\\\\n",
       "\t80 & Wysokie & 0 & 111\\\\\n",
       "\t83 & Wysokie & 0 & 118\\\\\n",
       "\t91 & Wysokie & 1 &  84\\\\\n",
       "\\end{tabular}\n"
      ],
      "text/markdown": [
       "\n",
       "A data.frame: 23 × 3\n",
       "\n",
       "| <!--/--> | TetnoSpocz &lt;chr&gt; | Palacz &lt;int&gt; | Waga &lt;int&gt; |\n",
       "|---|---|---|---|\n",
       "| 6 | Niskie  | 1 |  66 |\n",
       "| 20 | Niskie  | 0 |  76 |\n",
       "| 32 | Niskie  | 0 |  82 |\n",
       "| 33 | Niskie  | 0 |  82 |\n",
       "| 35 | Niskie  | 0 |  82 |\n",
       "| 37 | Niskie  | 0 |  83 |\n",
       "| 45 | Niskie  | 0 |  85 |\n",
       "| 50 | Niskie  | 0 |  87 |\n",
       "| 51 | Niskie  | 0 |  88 |\n",
       "| 53 | Niskie  | 0 |  88 |\n",
       "| 54 | Niskie  | 0 |  88 |\n",
       "| 57 | Niskie  | 0 |  88 |\n",
       "| 60 | Niskie  | 1 |  91 |\n",
       "| 61 | Niskie  | 1 |  91 |\n",
       "| 62 | Wysokie | 0 |  91 |\n",
       "| 64 | Wysokie | 0 |  91 |\n",
       "| 65 | Wysokie | 1 |  91 |\n",
       "| 69 | Wysokie | 0 |  94 |\n",
       "| 76 | Wysokie | 0 | 102 |\n",
       "| 78 | Wysokie | 0 | 104 |\n",
       "| 80 | Wysokie | 0 | 111 |\n",
       "| 83 | Wysokie | 0 | 118 |\n",
       "| 91 | Wysokie | 1 |  84 |\n",
       "\n"
      ],
      "text/plain": [
       "   TetnoSpocz Palacz Waga\n",
       "6  Niskie     1       66 \n",
       "20 Niskie     0       76 \n",
       "32 Niskie     0       82 \n",
       "33 Niskie     0       82 \n",
       "35 Niskie     0       82 \n",
       "37 Niskie     0       83 \n",
       "45 Niskie     0       85 \n",
       "50 Niskie     0       87 \n",
       "51 Niskie     0       88 \n",
       "53 Niskie     0       88 \n",
       "54 Niskie     0       88 \n",
       "57 Niskie     0       88 \n",
       "60 Niskie     1       91 \n",
       "61 Niskie     1       91 \n",
       "62 Wysokie    0       91 \n",
       "64 Wysokie    0       91 \n",
       "65 Wysokie    1       91 \n",
       "69 Wysokie    0       94 \n",
       "76 Wysokie    0      102 \n",
       "78 Wysokie    0      104 \n",
       "80 Wysokie    0      111 \n",
       "83 Wysokie    0      118 \n",
       "91 Wysokie    1       84 "
      ]
     },
     "metadata": {},
     "output_type": "display_data"
    }
   ],
   "source": [
    "# przygotowanie podzbioru testowego\n",
    "podzbior_testowy_8 = puls[-losowe_obserwacje_8, ]\n",
    "podzbior_testowy_8"
   ]
  },
  {
   "cell_type": "markdown",
   "metadata": {},
   "source": [
    "#### ii) Dopasuj model regresji logistycznej bazując na podzbiorze uczącym, przyjmując za zmienną objaśnianą $TetnoSpocz$."
   ]
  },
  {
   "cell_type": "markdown",
   "metadata": {},
   "source": [
    "Przed wykonaniem modelu regresji logistycznej musimy zamienić wartości dla zmiennej objaśnianej $TetnoSpocz$ następująco:\n",
    "- Niskie jako: 0\n",
    "- Wysokie jako: 1"
   ]
  },
  {
   "cell_type": "markdown",
   "metadata": {},
   "source": [
    "Musimy także zmienić typ kolumny z tekstowego $<chr>$ na numeryczny $<int>$."
   ]
  },
  {
   "cell_type": "code",
   "execution_count": 47,
   "metadata": {},
   "outputs": [
    {
     "data": {
      "text/html": [
       "<table class=\"dataframe\">\n",
       "<caption>A data.frame: 69 × 3</caption>\n",
       "<thead>\n",
       "\t<tr><th></th><th scope=col>TetnoSpocz</th><th scope=col>Palacz</th><th scope=col>Waga</th></tr>\n",
       "\t<tr><th></th><th scope=col>&lt;int&gt;</th><th scope=col>&lt;int&gt;</th><th scope=col>&lt;int&gt;</th></tr>\n",
       "</thead>\n",
       "<tbody>\n",
       "\t<tr><th scope=row>1</th><td>0</td><td>1</td><td>51</td></tr>\n",
       "\t<tr><th scope=row>2</th><td>0</td><td>1</td><td>52</td></tr>\n",
       "\t<tr><th scope=row>3</th><td>0</td><td>1</td><td>57</td></tr>\n",
       "\t<tr><th scope=row>4</th><td>0</td><td>1</td><td>59</td></tr>\n",
       "\t<tr><th scope=row>5</th><td>0</td><td>1</td><td>60</td></tr>\n",
       "\t<tr><th scope=row>7</th><td>0</td><td>0</td><td>68</td></tr>\n",
       "\t<tr><th scope=row>8</th><td>0</td><td>0</td><td>68</td></tr>\n",
       "\t<tr><th scope=row>9</th><td>0</td><td>0</td><td>68</td></tr>\n",
       "\t<tr><th scope=row>10</th><td>0</td><td>0</td><td>68</td></tr>\n",
       "\t<tr><th scope=row>11</th><td>0</td><td>1</td><td>68</td></tr>\n",
       "\t<tr><th scope=row>12</th><td>0</td><td>1</td><td>68</td></tr>\n",
       "\t<tr><th scope=row>13</th><td>0</td><td>1</td><td>68</td></tr>\n",
       "\t<tr><th scope=row>14</th><td>0</td><td>0</td><td>69</td></tr>\n",
       "\t<tr><th scope=row>15</th><td>0</td><td>0</td><td>70</td></tr>\n",
       "\t<tr><th scope=row>16</th><td>0</td><td>1</td><td>75</td></tr>\n",
       "\t<tr><th scope=row>17</th><td>0</td><td>1</td><td>75</td></tr>\n",
       "\t<tr><th scope=row>18</th><td>0</td><td>1</td><td>75</td></tr>\n",
       "\t<tr><th scope=row>19</th><td>0</td><td>1</td><td>75</td></tr>\n",
       "\t<tr><th scope=row>21</th><td>0</td><td>0</td><td>77</td></tr>\n",
       "\t<tr><th scope=row>22</th><td>0</td><td>0</td><td>77</td></tr>\n",
       "\t<tr><th scope=row>23</th><td>0</td><td>0</td><td>78</td></tr>\n",
       "\t<tr><th scope=row>24</th><td>0</td><td>0</td><td>78</td></tr>\n",
       "\t<tr><th scope=row>25</th><td>0</td><td>1</td><td>78</td></tr>\n",
       "\t<tr><th scope=row>26</th><td>0</td><td>0</td><td>79</td></tr>\n",
       "\t<tr><th scope=row>27</th><td>0</td><td>0</td><td>79</td></tr>\n",
       "\t<tr><th scope=row>28</th><td>0</td><td>0</td><td>79</td></tr>\n",
       "\t<tr><th scope=row>29</th><td>0</td><td>0</td><td>80</td></tr>\n",
       "\t<tr><th scope=row>30</th><td>0</td><td>0</td><td>82</td></tr>\n",
       "\t<tr><th scope=row>31</th><td>0</td><td>0</td><td>82</td></tr>\n",
       "\t<tr><th scope=row>34</th><td>0</td><td>0</td><td>82</td></tr>\n",
       "\t<tr><th scope=row>⋮</th><td>⋮</td><td>⋮</td><td>⋮</td></tr>\n",
       "\t<tr><th scope=row>47</th><td>0</td><td>0</td><td> 86</td></tr>\n",
       "\t<tr><th scope=row>48</th><td>0</td><td>0</td><td> 86</td></tr>\n",
       "\t<tr><th scope=row>49</th><td>0</td><td>0</td><td> 87</td></tr>\n",
       "\t<tr><th scope=row>52</th><td>0</td><td>0</td><td> 88</td></tr>\n",
       "\t<tr><th scope=row>55</th><td>0</td><td>0</td><td> 88</td></tr>\n",
       "\t<tr><th scope=row>56</th><td>0</td><td>0</td><td> 88</td></tr>\n",
       "\t<tr><th scope=row>58</th><td>0</td><td>1</td><td> 88</td></tr>\n",
       "\t<tr><th scope=row>59</th><td>0</td><td>1</td><td> 90</td></tr>\n",
       "\t<tr><th scope=row>63</th><td>1</td><td>0</td><td> 91</td></tr>\n",
       "\t<tr><th scope=row>66</th><td>1</td><td>0</td><td> 93</td></tr>\n",
       "\t<tr><th scope=row>67</th><td>1</td><td>0</td><td> 93</td></tr>\n",
       "\t<tr><th scope=row>68</th><td>1</td><td>1</td><td> 93</td></tr>\n",
       "\t<tr><th scope=row>70</th><td>1</td><td>0</td><td> 94</td></tr>\n",
       "\t<tr><th scope=row>71</th><td>1</td><td>1</td><td> 95</td></tr>\n",
       "\t<tr><th scope=row>72</th><td>1</td><td>0</td><td> 95</td></tr>\n",
       "\t<tr><th scope=row>73</th><td>1</td><td>1</td><td> 95</td></tr>\n",
       "\t<tr><th scope=row>74</th><td>1</td><td>0</td><td> 98</td></tr>\n",
       "\t<tr><th scope=row>75</th><td>1</td><td>1</td><td>100</td></tr>\n",
       "\t<tr><th scope=row>77</th><td>1</td><td>1</td><td>102</td></tr>\n",
       "\t<tr><th scope=row>79</th><td>1</td><td>1</td><td>108</td></tr>\n",
       "\t<tr><th scope=row>81</th><td>1</td><td>0</td><td>111</td></tr>\n",
       "\t<tr><th scope=row>82</th><td>1</td><td>0</td><td>113</td></tr>\n",
       "\t<tr><th scope=row>84</th><td>1</td><td>0</td><td>118</td></tr>\n",
       "\t<tr><th scope=row>85</th><td>1</td><td>0</td><td> 48</td></tr>\n",
       "\t<tr><th scope=row>86</th><td>1</td><td>0</td><td> 54</td></tr>\n",
       "\t<tr><th scope=row>87</th><td>1</td><td>0</td><td> 55</td></tr>\n",
       "\t<tr><th scope=row>88</th><td>1</td><td>0</td><td> 59</td></tr>\n",
       "\t<tr><th scope=row>89</th><td>1</td><td>0</td><td> 64</td></tr>\n",
       "\t<tr><th scope=row>90</th><td>1</td><td>1</td><td> 82</td></tr>\n",
       "\t<tr><th scope=row>92</th><td>1</td><td>1</td><td>113</td></tr>\n",
       "</tbody>\n",
       "</table>\n"
      ],
      "text/latex": [
       "A data.frame: 69 × 3\n",
       "\\begin{tabular}{r|lll}\n",
       "  & TetnoSpocz & Palacz & Waga\\\\\n",
       "  & <int> & <int> & <int>\\\\\n",
       "\\hline\n",
       "\t1 & 0 & 1 & 51\\\\\n",
       "\t2 & 0 & 1 & 52\\\\\n",
       "\t3 & 0 & 1 & 57\\\\\n",
       "\t4 & 0 & 1 & 59\\\\\n",
       "\t5 & 0 & 1 & 60\\\\\n",
       "\t7 & 0 & 0 & 68\\\\\n",
       "\t8 & 0 & 0 & 68\\\\\n",
       "\t9 & 0 & 0 & 68\\\\\n",
       "\t10 & 0 & 0 & 68\\\\\n",
       "\t11 & 0 & 1 & 68\\\\\n",
       "\t12 & 0 & 1 & 68\\\\\n",
       "\t13 & 0 & 1 & 68\\\\\n",
       "\t14 & 0 & 0 & 69\\\\\n",
       "\t15 & 0 & 0 & 70\\\\\n",
       "\t16 & 0 & 1 & 75\\\\\n",
       "\t17 & 0 & 1 & 75\\\\\n",
       "\t18 & 0 & 1 & 75\\\\\n",
       "\t19 & 0 & 1 & 75\\\\\n",
       "\t21 & 0 & 0 & 77\\\\\n",
       "\t22 & 0 & 0 & 77\\\\\n",
       "\t23 & 0 & 0 & 78\\\\\n",
       "\t24 & 0 & 0 & 78\\\\\n",
       "\t25 & 0 & 1 & 78\\\\\n",
       "\t26 & 0 & 0 & 79\\\\\n",
       "\t27 & 0 & 0 & 79\\\\\n",
       "\t28 & 0 & 0 & 79\\\\\n",
       "\t29 & 0 & 0 & 80\\\\\n",
       "\t30 & 0 & 0 & 82\\\\\n",
       "\t31 & 0 & 0 & 82\\\\\n",
       "\t34 & 0 & 0 & 82\\\\\n",
       "\t⋮ & ⋮ & ⋮ & ⋮\\\\\n",
       "\t47 & 0 & 0 &  86\\\\\n",
       "\t48 & 0 & 0 &  86\\\\\n",
       "\t49 & 0 & 0 &  87\\\\\n",
       "\t52 & 0 & 0 &  88\\\\\n",
       "\t55 & 0 & 0 &  88\\\\\n",
       "\t56 & 0 & 0 &  88\\\\\n",
       "\t58 & 0 & 1 &  88\\\\\n",
       "\t59 & 0 & 1 &  90\\\\\n",
       "\t63 & 1 & 0 &  91\\\\\n",
       "\t66 & 1 & 0 &  93\\\\\n",
       "\t67 & 1 & 0 &  93\\\\\n",
       "\t68 & 1 & 1 &  93\\\\\n",
       "\t70 & 1 & 0 &  94\\\\\n",
       "\t71 & 1 & 1 &  95\\\\\n",
       "\t72 & 1 & 0 &  95\\\\\n",
       "\t73 & 1 & 1 &  95\\\\\n",
       "\t74 & 1 & 0 &  98\\\\\n",
       "\t75 & 1 & 1 & 100\\\\\n",
       "\t77 & 1 & 1 & 102\\\\\n",
       "\t79 & 1 & 1 & 108\\\\\n",
       "\t81 & 1 & 0 & 111\\\\\n",
       "\t82 & 1 & 0 & 113\\\\\n",
       "\t84 & 1 & 0 & 118\\\\\n",
       "\t85 & 1 & 0 &  48\\\\\n",
       "\t86 & 1 & 0 &  54\\\\\n",
       "\t87 & 1 & 0 &  55\\\\\n",
       "\t88 & 1 & 0 &  59\\\\\n",
       "\t89 & 1 & 0 &  64\\\\\n",
       "\t90 & 1 & 1 &  82\\\\\n",
       "\t92 & 1 & 1 & 113\\\\\n",
       "\\end{tabular}\n"
      ],
      "text/markdown": [
       "\n",
       "A data.frame: 69 × 3\n",
       "\n",
       "| <!--/--> | TetnoSpocz &lt;int&gt; | Palacz &lt;int&gt; | Waga &lt;int&gt; |\n",
       "|---|---|---|---|\n",
       "| 1 | 0 | 1 | 51 |\n",
       "| 2 | 0 | 1 | 52 |\n",
       "| 3 | 0 | 1 | 57 |\n",
       "| 4 | 0 | 1 | 59 |\n",
       "| 5 | 0 | 1 | 60 |\n",
       "| 7 | 0 | 0 | 68 |\n",
       "| 8 | 0 | 0 | 68 |\n",
       "| 9 | 0 | 0 | 68 |\n",
       "| 10 | 0 | 0 | 68 |\n",
       "| 11 | 0 | 1 | 68 |\n",
       "| 12 | 0 | 1 | 68 |\n",
       "| 13 | 0 | 1 | 68 |\n",
       "| 14 | 0 | 0 | 69 |\n",
       "| 15 | 0 | 0 | 70 |\n",
       "| 16 | 0 | 1 | 75 |\n",
       "| 17 | 0 | 1 | 75 |\n",
       "| 18 | 0 | 1 | 75 |\n",
       "| 19 | 0 | 1 | 75 |\n",
       "| 21 | 0 | 0 | 77 |\n",
       "| 22 | 0 | 0 | 77 |\n",
       "| 23 | 0 | 0 | 78 |\n",
       "| 24 | 0 | 0 | 78 |\n",
       "| 25 | 0 | 1 | 78 |\n",
       "| 26 | 0 | 0 | 79 |\n",
       "| 27 | 0 | 0 | 79 |\n",
       "| 28 | 0 | 0 | 79 |\n",
       "| 29 | 0 | 0 | 80 |\n",
       "| 30 | 0 | 0 | 82 |\n",
       "| 31 | 0 | 0 | 82 |\n",
       "| 34 | 0 | 0 | 82 |\n",
       "| ⋮ | ⋮ | ⋮ | ⋮ |\n",
       "| 47 | 0 | 0 |  86 |\n",
       "| 48 | 0 | 0 |  86 |\n",
       "| 49 | 0 | 0 |  87 |\n",
       "| 52 | 0 | 0 |  88 |\n",
       "| 55 | 0 | 0 |  88 |\n",
       "| 56 | 0 | 0 |  88 |\n",
       "| 58 | 0 | 1 |  88 |\n",
       "| 59 | 0 | 1 |  90 |\n",
       "| 63 | 1 | 0 |  91 |\n",
       "| 66 | 1 | 0 |  93 |\n",
       "| 67 | 1 | 0 |  93 |\n",
       "| 68 | 1 | 1 |  93 |\n",
       "| 70 | 1 | 0 |  94 |\n",
       "| 71 | 1 | 1 |  95 |\n",
       "| 72 | 1 | 0 |  95 |\n",
       "| 73 | 1 | 1 |  95 |\n",
       "| 74 | 1 | 0 |  98 |\n",
       "| 75 | 1 | 1 | 100 |\n",
       "| 77 | 1 | 1 | 102 |\n",
       "| 79 | 1 | 1 | 108 |\n",
       "| 81 | 1 | 0 | 111 |\n",
       "| 82 | 1 | 0 | 113 |\n",
       "| 84 | 1 | 0 | 118 |\n",
       "| 85 | 1 | 0 |  48 |\n",
       "| 86 | 1 | 0 |  54 |\n",
       "| 87 | 1 | 0 |  55 |\n",
       "| 88 | 1 | 0 |  59 |\n",
       "| 89 | 1 | 0 |  64 |\n",
       "| 90 | 1 | 1 |  82 |\n",
       "| 92 | 1 | 1 | 113 |\n",
       "\n"
      ],
      "text/plain": [
       "   TetnoSpocz Palacz Waga\n",
       "1  0          1      51  \n",
       "2  0          1      52  \n",
       "3  0          1      57  \n",
       "4  0          1      59  \n",
       "5  0          1      60  \n",
       "7  0          0      68  \n",
       "8  0          0      68  \n",
       "9  0          0      68  \n",
       "10 0          0      68  \n",
       "11 0          1      68  \n",
       "12 0          1      68  \n",
       "13 0          1      68  \n",
       "14 0          0      69  \n",
       "15 0          0      70  \n",
       "16 0          1      75  \n",
       "17 0          1      75  \n",
       "18 0          1      75  \n",
       "19 0          1      75  \n",
       "21 0          0      77  \n",
       "22 0          0      77  \n",
       "23 0          0      78  \n",
       "24 0          0      78  \n",
       "25 0          1      78  \n",
       "26 0          0      79  \n",
       "27 0          0      79  \n",
       "28 0          0      79  \n",
       "29 0          0      80  \n",
       "30 0          0      82  \n",
       "31 0          0      82  \n",
       "34 0          0      82  \n",
       "⋮  ⋮          ⋮      ⋮   \n",
       "47 0          0       86 \n",
       "48 0          0       86 \n",
       "49 0          0       87 \n",
       "52 0          0       88 \n",
       "55 0          0       88 \n",
       "56 0          0       88 \n",
       "58 0          1       88 \n",
       "59 0          1       90 \n",
       "63 1          0       91 \n",
       "66 1          0       93 \n",
       "67 1          0       93 \n",
       "68 1          1       93 \n",
       "70 1          0       94 \n",
       "71 1          1       95 \n",
       "72 1          0       95 \n",
       "73 1          1       95 \n",
       "74 1          0       98 \n",
       "75 1          1      100 \n",
       "77 1          1      102 \n",
       "79 1          1      108 \n",
       "81 1          0      111 \n",
       "82 1          0      113 \n",
       "84 1          0      118 \n",
       "85 1          0       48 \n",
       "86 1          0       54 \n",
       "87 1          0       55 \n",
       "88 1          0       59 \n",
       "89 1          0       64 \n",
       "90 1          1       82 \n",
       "92 1          1      113 "
      ]
     },
     "metadata": {},
     "output_type": "display_data"
    }
   ],
   "source": [
    "podzbior_uczacy_8[podzbior_uczacy_8 == \"Niskie\"] <- 0\n",
    "podzbior_uczacy_8[podzbior_uczacy_8 == \"Wysokie\"] <- 1\n",
    "podzbior_uczacy_8$TetnoSpocz <- as.integer(podzbior_uczacy_8$TetnoSpocz)\n",
    "podzbior_uczacy_8"
   ]
  },
  {
   "cell_type": "code",
   "execution_count": 48,
   "metadata": {},
   "outputs": [
    {
     "data": {
      "text/html": [
       "<table class=\"dataframe\">\n",
       "<caption>A data.frame: 23 × 3</caption>\n",
       "<thead>\n",
       "\t<tr><th></th><th scope=col>TetnoSpocz</th><th scope=col>Palacz</th><th scope=col>Waga</th></tr>\n",
       "\t<tr><th></th><th scope=col>&lt;int&gt;</th><th scope=col>&lt;int&gt;</th><th scope=col>&lt;int&gt;</th></tr>\n",
       "</thead>\n",
       "<tbody>\n",
       "\t<tr><th scope=row>6</th><td>0</td><td>1</td><td> 66</td></tr>\n",
       "\t<tr><th scope=row>20</th><td>0</td><td>0</td><td> 76</td></tr>\n",
       "\t<tr><th scope=row>32</th><td>0</td><td>0</td><td> 82</td></tr>\n",
       "\t<tr><th scope=row>33</th><td>0</td><td>0</td><td> 82</td></tr>\n",
       "\t<tr><th scope=row>35</th><td>0</td><td>0</td><td> 82</td></tr>\n",
       "\t<tr><th scope=row>37</th><td>0</td><td>0</td><td> 83</td></tr>\n",
       "\t<tr><th scope=row>45</th><td>0</td><td>0</td><td> 85</td></tr>\n",
       "\t<tr><th scope=row>50</th><td>0</td><td>0</td><td> 87</td></tr>\n",
       "\t<tr><th scope=row>51</th><td>0</td><td>0</td><td> 88</td></tr>\n",
       "\t<tr><th scope=row>53</th><td>0</td><td>0</td><td> 88</td></tr>\n",
       "\t<tr><th scope=row>54</th><td>0</td><td>0</td><td> 88</td></tr>\n",
       "\t<tr><th scope=row>57</th><td>0</td><td>0</td><td> 88</td></tr>\n",
       "\t<tr><th scope=row>60</th><td>0</td><td>1</td><td> 91</td></tr>\n",
       "\t<tr><th scope=row>61</th><td>0</td><td>1</td><td> 91</td></tr>\n",
       "\t<tr><th scope=row>62</th><td>1</td><td>0</td><td> 91</td></tr>\n",
       "\t<tr><th scope=row>64</th><td>1</td><td>0</td><td> 91</td></tr>\n",
       "\t<tr><th scope=row>65</th><td>1</td><td>1</td><td> 91</td></tr>\n",
       "\t<tr><th scope=row>69</th><td>1</td><td>0</td><td> 94</td></tr>\n",
       "\t<tr><th scope=row>76</th><td>1</td><td>0</td><td>102</td></tr>\n",
       "\t<tr><th scope=row>78</th><td>1</td><td>0</td><td>104</td></tr>\n",
       "\t<tr><th scope=row>80</th><td>1</td><td>0</td><td>111</td></tr>\n",
       "\t<tr><th scope=row>83</th><td>1</td><td>0</td><td>118</td></tr>\n",
       "\t<tr><th scope=row>91</th><td>1</td><td>1</td><td> 84</td></tr>\n",
       "</tbody>\n",
       "</table>\n"
      ],
      "text/latex": [
       "A data.frame: 23 × 3\n",
       "\\begin{tabular}{r|lll}\n",
       "  & TetnoSpocz & Palacz & Waga\\\\\n",
       "  & <int> & <int> & <int>\\\\\n",
       "\\hline\n",
       "\t6 & 0 & 1 &  66\\\\\n",
       "\t20 & 0 & 0 &  76\\\\\n",
       "\t32 & 0 & 0 &  82\\\\\n",
       "\t33 & 0 & 0 &  82\\\\\n",
       "\t35 & 0 & 0 &  82\\\\\n",
       "\t37 & 0 & 0 &  83\\\\\n",
       "\t45 & 0 & 0 &  85\\\\\n",
       "\t50 & 0 & 0 &  87\\\\\n",
       "\t51 & 0 & 0 &  88\\\\\n",
       "\t53 & 0 & 0 &  88\\\\\n",
       "\t54 & 0 & 0 &  88\\\\\n",
       "\t57 & 0 & 0 &  88\\\\\n",
       "\t60 & 0 & 1 &  91\\\\\n",
       "\t61 & 0 & 1 &  91\\\\\n",
       "\t62 & 1 & 0 &  91\\\\\n",
       "\t64 & 1 & 0 &  91\\\\\n",
       "\t65 & 1 & 1 &  91\\\\\n",
       "\t69 & 1 & 0 &  94\\\\\n",
       "\t76 & 1 & 0 & 102\\\\\n",
       "\t78 & 1 & 0 & 104\\\\\n",
       "\t80 & 1 & 0 & 111\\\\\n",
       "\t83 & 1 & 0 & 118\\\\\n",
       "\t91 & 1 & 1 &  84\\\\\n",
       "\\end{tabular}\n"
      ],
      "text/markdown": [
       "\n",
       "A data.frame: 23 × 3\n",
       "\n",
       "| <!--/--> | TetnoSpocz &lt;int&gt; | Palacz &lt;int&gt; | Waga &lt;int&gt; |\n",
       "|---|---|---|---|\n",
       "| 6 | 0 | 1 |  66 |\n",
       "| 20 | 0 | 0 |  76 |\n",
       "| 32 | 0 | 0 |  82 |\n",
       "| 33 | 0 | 0 |  82 |\n",
       "| 35 | 0 | 0 |  82 |\n",
       "| 37 | 0 | 0 |  83 |\n",
       "| 45 | 0 | 0 |  85 |\n",
       "| 50 | 0 | 0 |  87 |\n",
       "| 51 | 0 | 0 |  88 |\n",
       "| 53 | 0 | 0 |  88 |\n",
       "| 54 | 0 | 0 |  88 |\n",
       "| 57 | 0 | 0 |  88 |\n",
       "| 60 | 0 | 1 |  91 |\n",
       "| 61 | 0 | 1 |  91 |\n",
       "| 62 | 1 | 0 |  91 |\n",
       "| 64 | 1 | 0 |  91 |\n",
       "| 65 | 1 | 1 |  91 |\n",
       "| 69 | 1 | 0 |  94 |\n",
       "| 76 | 1 | 0 | 102 |\n",
       "| 78 | 1 | 0 | 104 |\n",
       "| 80 | 1 | 0 | 111 |\n",
       "| 83 | 1 | 0 | 118 |\n",
       "| 91 | 1 | 1 |  84 |\n",
       "\n"
      ],
      "text/plain": [
       "   TetnoSpocz Palacz Waga\n",
       "6  0          1       66 \n",
       "20 0          0       76 \n",
       "32 0          0       82 \n",
       "33 0          0       82 \n",
       "35 0          0       82 \n",
       "37 0          0       83 \n",
       "45 0          0       85 \n",
       "50 0          0       87 \n",
       "51 0          0       88 \n",
       "53 0          0       88 \n",
       "54 0          0       88 \n",
       "57 0          0       88 \n",
       "60 0          1       91 \n",
       "61 0          1       91 \n",
       "62 1          0       91 \n",
       "64 1          0       91 \n",
       "65 1          1       91 \n",
       "69 1          0       94 \n",
       "76 1          0      102 \n",
       "78 1          0      104 \n",
       "80 1          0      111 \n",
       "83 1          0      118 \n",
       "91 1          1       84 "
      ]
     },
     "metadata": {},
     "output_type": "display_data"
    }
   ],
   "source": [
    "podzbior_testowy_8[podzbior_testowy_8 == \"Niskie\"] <- 0\n",
    "podzbior_testowy_8[podzbior_testowy_8 == \"Wysokie\"] <- 1\n",
    "podzbior_testowy_8$TetnoSpocz <- as.integer(podzbior_testowy_8$TetnoSpocz)\n",
    "podzbior_testowy_8"
   ]
  },
  {
   "cell_type": "markdown",
   "metadata": {},
   "source": [
    "Przekazujemy w ten sposób zmienną z dwoma argumentami liczbowymi (0 i 1)."
   ]
  },
  {
   "cell_type": "code",
   "execution_count": 49,
   "metadata": {},
   "outputs": [
    {
     "data": {
      "text/plain": [
       "\n",
       "Call:\n",
       "glm(formula = TetnoSpocz ~ ., family = binomial(), data = podzbior_uczacy_8)\n",
       "\n",
       "Deviance Residuals: \n",
       "    Min       1Q   Median       3Q      Max  \n",
       "-1.0681  -0.8415  -0.5711   0.8091   2.5243  \n",
       "\n",
       "Coefficients:\n",
       "            Estimate Std. Error z value Pr(>|z|)    \n",
       "(Intercept) -6.37350    1.92656  -3.308 0.000939 ***\n",
       "Palacz       0.05535    0.59487   0.093 0.925865    \n",
       "Waga         0.06728    0.02239   3.005 0.002652 ** \n",
       "---\n",
       "Signif. codes:  0 ‘***’ 0.001 ‘**’ 0.01 ‘*’ 0.05 ‘.’ 0.1 ‘ ’ 1\n",
       "\n",
       "(Dispersion parameter for binomial family taken to be 1)\n",
       "\n",
       "    Null deviance: 86.387  on 68  degrees of freedom\n",
       "Residual deviance: 74.422  on 66  degrees of freedom\n",
       "AIC: 80.422\n",
       "\n",
       "Number of Fisher Scoring iterations: 4\n"
      ]
     },
     "metadata": {},
     "output_type": "display_data"
    }
   ],
   "source": [
    "# wykonanie modelu regresji logistycznej\n",
    "model_log_8_1 = glm(TetnoSpocz ~ ., data = podzbior_uczacy_8, family = binomial())\n",
    "# podsumowanie modelu regresji logistycznej\n",
    "summary(model_log_8_1)"
   ]
  },
  {
   "cell_type": "markdown",
   "metadata": {},
   "source": [
    "##### Otrzymany model regresji logistycznej - klasyfikator:\n",
    "$\\textrm{TetnoSpocz} = {1 \\over 1 + exp(-(-6.37350 + 0.05535 \\cdot \\textrm{Palacz} + 0.06728 \\cdot \\textrm{Waga}))}$"
   ]
  },
  {
   "cell_type": "markdown",
   "metadata": {},
   "source": [
    "#### iii) Stosując krokową procedurę wyboru modelu zdecyduj, które zmienne powinny pozostać w modelu."
   ]
  },
  {
   "cell_type": "markdown",
   "metadata": {},
   "source": [
    "Najwyższą nieistotną statystycznie p-wartość statystyki testowej ma zmienna $Palacz$, którą usuwamy z modelu."
   ]
  },
  {
   "cell_type": "code",
   "execution_count": 50,
   "metadata": {},
   "outputs": [
    {
     "data": {
      "text/plain": [
       "\n",
       "Call:\n",
       "glm(formula = TetnoSpocz ~ . - Palacz, family = binomial(), data = podzbior_uczacy_8)\n",
       "\n",
       "Deviance Residuals: \n",
       "    Min       1Q   Median       3Q      Max  \n",
       "-1.0535  -0.8482  -0.5760   0.8214   2.5176  \n",
       "\n",
       "Coefficients:\n",
       "            Estimate Std. Error z value Pr(>|z|)    \n",
       "(Intercept) -6.35801    1.92149  -3.309 0.000937 ***\n",
       "Waga         0.06733    0.02242   3.004 0.002669 ** \n",
       "---\n",
       "Signif. codes:  0 ‘***’ 0.001 ‘**’ 0.01 ‘*’ 0.05 ‘.’ 0.1 ‘ ’ 1\n",
       "\n",
       "(Dispersion parameter for binomial family taken to be 1)\n",
       "\n",
       "    Null deviance: 86.387  on 68  degrees of freedom\n",
       "Residual deviance: 74.431  on 67  degrees of freedom\n",
       "AIC: 78.431\n",
       "\n",
       "Number of Fisher Scoring iterations: 4\n"
      ]
     },
     "metadata": {},
     "output_type": "display_data"
    }
   ],
   "source": [
    "# wykonanie modelu regresji logistycznej bez zmiennej Palacz\n",
    "model_log_8_2 = glm(TetnoSpocz ~ . -Palacz, data = podzbior_uczacy_8, family = binomial())\n",
    "# podsumowanie modelu regresji logistycznej bez zmiennej Palacz\n",
    "summary(model_log_8_2)"
   ]
  },
  {
   "cell_type": "markdown",
   "metadata": {},
   "source": [
    "Pozostała zmienna $Waga$ (oraz wyraz wolny $(Intercept)$) są istotne statystycznie."
   ]
  },
  {
   "cell_type": "markdown",
   "metadata": {},
   "source": [
    "#### iv) Dopasuj model regresji logistycznej bazując na podzbiorze uczącym, uwzględniający interakcję pomiędzy zmiennymi objaśniającymi."
   ]
  },
  {
   "cell_type": "code",
   "execution_count": 51,
   "metadata": {
    "scrolled": false
   },
   "outputs": [
    {
     "data": {
      "text/plain": [
       "\n",
       "Call:\n",
       "glm(formula = TetnoSpocz ~ Palacz * Waga, family = binomial(), \n",
       "    data = podzbior_uczacy_8)\n",
       "\n",
       "Deviance Residuals: \n",
       "    Min       1Q   Median       3Q      Max  \n",
       "-1.3305  -0.8725  -0.2753   0.5390   2.0844  \n",
       "\n",
       "Coefficients:\n",
       "             Estimate Std. Error z value Pr(>|z|)  \n",
       "(Intercept)  -2.74779    1.98890  -1.382    0.167  \n",
       "Palacz      -23.95039   12.37648  -1.935    0.053 .\n",
       "Waga          0.02413    0.02361   1.022    0.307  \n",
       "Palacz:Waga   0.27644    0.13981   1.977    0.048 *\n",
       "---\n",
       "Signif. codes:  0 ‘***’ 0.001 ‘**’ 0.01 ‘*’ 0.05 ‘.’ 0.1 ‘ ’ 1\n",
       "\n",
       "(Dispersion parameter for binomial family taken to be 1)\n",
       "\n",
       "    Null deviance: 86.387  on 68  degrees of freedom\n",
       "Residual deviance: 63.297  on 65  degrees of freedom\n",
       "AIC: 71.297\n",
       "\n",
       "Number of Fisher Scoring iterations: 7\n"
      ]
     },
     "metadata": {},
     "output_type": "display_data"
    }
   ],
   "source": [
    "# wykonanie modelu regresji logistycznej z interakcją pomiędzy zmiennymi\n",
    "model_log_8_3 = glm(TetnoSpocz ~ Palacz * Waga, data = podzbior_uczacy_8, family = binomial())\n",
    "# podsumowanie modelu regresji logistycznej z interakcją pomiędzy zmiennymi\n",
    "summary(model_log_8_3)"
   ]
  },
  {
   "cell_type": "markdown",
   "metadata": {},
   "source": [
    "W modelu regresji logistycznej uwzględniającym interakcję pomiędzy zmiennymi objaśniającymi istotność statystyczną obserwujemy tylko przy zmiennej dotyczącej interakcji zmiennych $Palacz$ oraz $Waga$."
   ]
  },
  {
   "cell_type": "markdown",
   "metadata": {},
   "source": [
    "##### Otrzymany model regresji logistycznej - klasyfikator:\n",
    "$\\textrm{TetnoSpocz} = {1 \\over 1 + exp(-(-2.74779 - 23.95039 \\cdot \\textrm{Palacz} + 0.02413 \\cdot \\textrm{Waga} + 0.27644 \\cdot \\textrm{Palacz} : \\textrm{Waga})}$"
   ]
  },
  {
   "cell_type": "markdown",
   "metadata": {},
   "source": [
    "#### v) Przeanalizuj modele zawierające jako zmienne objaśniające następujące zestawy zmiennych:\n",
    "#### M1: $Palacz$, $Waga$, $Palacz$*$Waga$\n",
    "#### M2: $Waga$, $Palacz$*$Waga$\n",
    "#### M3: $Palacz$, $Palacz$*$Waga$\n",
    "#### M4: $Palacz$*$Waga$\n",
    "#### Który z tych modeli zawiera tylko istotne zmienne objaśniające?"
   ]
  },
  {
   "cell_type": "code",
   "execution_count": 52,
   "metadata": {
    "scrolled": false
   },
   "outputs": [
    {
     "data": {
      "text/plain": [
       "\n",
       "Call:\n",
       "glm(formula = TetnoSpocz ~ Palacz + Waga + Palacz:Waga, family = binomial(), \n",
       "    data = podzbior_uczacy_8)\n",
       "\n",
       "Deviance Residuals: \n",
       "    Min       1Q   Median       3Q      Max  \n",
       "-1.3305  -0.8725  -0.2753   0.5390   2.0844  \n",
       "\n",
       "Coefficients:\n",
       "             Estimate Std. Error z value Pr(>|z|)  \n",
       "(Intercept)  -2.74779    1.98890  -1.382    0.167  \n",
       "Palacz      -23.95039   12.37648  -1.935    0.053 .\n",
       "Waga          0.02413    0.02361   1.022    0.307  \n",
       "Palacz:Waga   0.27644    0.13981   1.977    0.048 *\n",
       "---\n",
       "Signif. codes:  0 ‘***’ 0.001 ‘**’ 0.01 ‘*’ 0.05 ‘.’ 0.1 ‘ ’ 1\n",
       "\n",
       "(Dispersion parameter for binomial family taken to be 1)\n",
       "\n",
       "    Null deviance: 86.387  on 68  degrees of freedom\n",
       "Residual deviance: 63.297  on 65  degrees of freedom\n",
       "AIC: 71.297\n",
       "\n",
       "Number of Fisher Scoring iterations: 7\n"
      ]
     },
     "metadata": {},
     "output_type": "display_data"
    }
   ],
   "source": [
    "# wykonanie modelu regresji logistycznej M1\n",
    "model_log_M1 = glm(TetnoSpocz ~ Palacz + Waga + Palacz:Waga, data = podzbior_uczacy_8, family = binomial())\n",
    "# podsumowanie modelu regresji logistycznej M1\n",
    "summary(model_log_M1)"
   ]
  },
  {
   "cell_type": "code",
   "execution_count": 53,
   "metadata": {
    "scrolled": false
   },
   "outputs": [
    {
     "data": {
      "text/plain": [
       "\n",
       "Call:\n",
       "glm(formula = TetnoSpocz ~ Waga + Palacz:Waga, family = binomial(), \n",
       "    data = podzbior_uczacy_8)\n",
       "\n",
       "Deviance Residuals: \n",
       "    Min       1Q   Median       3Q      Max  \n",
       "-1.1407  -0.8194  -0.6030   0.8038   2.5359  \n",
       "\n",
       "Coefficients:\n",
       "             Estimate Std. Error z value Pr(>|z|)    \n",
       "(Intercept) -6.327490   1.907432  -3.317 0.000909 ***\n",
       "Waga         0.065690   0.022425   2.929 0.003397 ** \n",
       "Waga:Palacz  0.003650   0.006928   0.527 0.598297    \n",
       "---\n",
       "Signif. codes:  0 ‘***’ 0.001 ‘**’ 0.01 ‘*’ 0.05 ‘.’ 0.1 ‘ ’ 1\n",
       "\n",
       "(Dispersion parameter for binomial family taken to be 1)\n",
       "\n",
       "    Null deviance: 86.387  on 68  degrees of freedom\n",
       "Residual deviance: 74.153  on 66  degrees of freedom\n",
       "AIC: 80.153\n",
       "\n",
       "Number of Fisher Scoring iterations: 4\n"
      ]
     },
     "metadata": {},
     "output_type": "display_data"
    }
   ],
   "source": [
    "# wykonanie modelu regresji logistycznej M2\n",
    "model_log_M2 = glm(TetnoSpocz ~ Waga + Palacz:Waga, data = podzbior_uczacy_8, family = binomial())\n",
    "# podsumowanie modelu regresji logistycznej M2\n",
    "summary(model_log_M2)"
   ]
  },
  {
   "cell_type": "code",
   "execution_count": 54,
   "metadata": {
    "scrolled": false
   },
   "outputs": [
    {
     "data": {
      "text/plain": [
       "\n",
       "Call:\n",
       "glm(formula = TetnoSpocz ~ Palacz + Palacz:Waga, family = binomial(), \n",
       "    data = podzbior_uczacy_8)\n",
       "\n",
       "Deviance Residuals: \n",
       "    Min       1Q   Median       3Q      Max  \n",
       "-1.3305  -0.8752  -0.2753   0.5390   2.0844  \n",
       "\n",
       "Coefficients:\n",
       "            Estimate Std. Error z value Pr(>|z|)  \n",
       "(Intercept)  -0.7621     0.3237  -2.355   0.0185 *\n",
       "Palacz      -25.9360    12.2199  -2.122   0.0338 *\n",
       "Palacz:Waga   0.3006     0.1378   2.181   0.0292 *\n",
       "---\n",
       "Signif. codes:  0 ‘***’ 0.001 ‘**’ 0.01 ‘*’ 0.05 ‘.’ 0.1 ‘ ’ 1\n",
       "\n",
       "(Dispersion parameter for binomial family taken to be 1)\n",
       "\n",
       "    Null deviance: 86.387  on 68  degrees of freedom\n",
       "Residual deviance: 64.384  on 66  degrees of freedom\n",
       "AIC: 70.384\n",
       "\n",
       "Number of Fisher Scoring iterations: 7\n"
      ]
     },
     "metadata": {},
     "output_type": "display_data"
    }
   ],
   "source": [
    "# wykonanie modelu regresji logistycznej M3\n",
    "model_log_M3 = glm(TetnoSpocz ~ Palacz + Palacz:Waga, data = podzbior_uczacy_8, family = binomial())\n",
    "# podsumowanie modelu regresji logistycznej M3\n",
    "summary(model_log_M3)"
   ]
  },
  {
   "cell_type": "code",
   "execution_count": 55,
   "metadata": {
    "scrolled": false
   },
   "outputs": [
    {
     "data": {
      "text/plain": [
       "\n",
       "Call:\n",
       "glm(formula = TetnoSpocz ~ Palacz:Waga, family = binomial(), \n",
       "    data = podzbior_uczacy_8)\n",
       "\n",
       "Deviance Residuals: \n",
       "    Min       1Q   Median       3Q      Max  \n",
       "-1.0195  -0.8078  -0.8078   1.3300   1.5992  \n",
       "\n",
       "Coefficients:\n",
       "             Estimate Std. Error z value Pr(>|z|)   \n",
       "(Intercept) -0.952466   0.331679  -2.872  0.00408 **\n",
       "Palacz:Waga  0.006323   0.006394   0.989  0.32271   \n",
       "---\n",
       "Signif. codes:  0 ‘***’ 0.001 ‘**’ 0.01 ‘*’ 0.05 ‘.’ 0.1 ‘ ’ 1\n",
       "\n",
       "(Dispersion parameter for binomial family taken to be 1)\n",
       "\n",
       "    Null deviance: 86.387  on 68  degrees of freedom\n",
       "Residual deviance: 85.416  on 67  degrees of freedom\n",
       "AIC: 89.416\n",
       "\n",
       "Number of Fisher Scoring iterations: 4\n"
      ]
     },
     "metadata": {},
     "output_type": "display_data"
    }
   ],
   "source": [
    "# wykonanie modelu regresji logistycznej M4\n",
    "model_log_M4 = glm(TetnoSpocz ~ Palacz:Waga, data = podzbior_uczacy_8, family = binomial())\n",
    "# podsumowanie modelu regresji logistycznej M4\n",
    "summary(model_log_M4)"
   ]
  },
  {
   "cell_type": "markdown",
   "metadata": {},
   "source": [
    "W modelu regresji logistycznej M1 ze zmiennymi objaśniającymi $Palacz$, $Waga$ oraz ich interakcją nie obserwujemy istotności statystycznej dla wszystkich jego składników (tylko dla interakcji zmiennych $Palacz$ i $Waga$)."
   ]
  },
  {
   "cell_type": "markdown",
   "metadata": {},
   "source": [
    "W modelu regresji logistycznej M2 ze zmiennymi objaśniającymi $Waga$ i interakcją pomiędzy zmiennymi $Palacz$ oraz $Waga$ nie obserwujemy istotności statystycznej dla wszystkich jego składników (brak istotności dla interakcji zmiennych $Palacz$ i $Waga$)."
   ]
  },
  {
   "cell_type": "markdown",
   "metadata": {},
   "source": [
    "W modelu regresji logistycznej M3 ze zmiennymi objaśniającymi $Palacz$ i interakcją pomiędzy zmiennymi $Palacz$ oraz $Waga$ obserwujemy istotność statystyczną dla wszystkich jego składników."
   ]
  },
  {
   "cell_type": "markdown",
   "metadata": {},
   "source": [
    "W modelu regresji logistycznej M4 z interakcją pomiędzy zmiennymi $Palacz$ oraz $Waga$ nie obserwujemy istotności statystycznej dla wszystkich jego składników (brak istotności dla interakcji zmiennych $Palacz$ i $Waga$)."
   ]
  },
  {
   "cell_type": "markdown",
   "metadata": {},
   "source": [
    "Tylko model regresji logistycznej M3 zawiera wszystkie istotne zmienne objaśniające."
   ]
  },
  {
   "cell_type": "markdown",
   "metadata": {},
   "source": [
    "#### vi) Dla pełnego modelu bez interakcji i modelu wskazanego w punkcie v) skonstruuj klasyfikatory w oparciu o próbę uczącą. Przedstaw na rysunku klasyfikację dokonaną przez oba klasyfikatory. Wyznacz błąd klasyfikacji na próbie testowej."
   ]
  },
  {
   "cell_type": "markdown",
   "metadata": {},
   "source": [
    "##### Otrzymany pełny model regresji logistycznej bez interakcji - klasyfikator:\n",
    "$\\textrm{TetnoSpocz} = {1 \\over 1 + exp(-(-6.37350 + 0.05535 \\cdot \\textrm{Palacz} + 0.06728 \\cdot \\textrm{Waga}))}$"
   ]
  },
  {
   "cell_type": "markdown",
   "metadata": {},
   "source": [
    "##### Otrzymany model regresji logistycznej z interakcją wskazany w punkcie v) - klasyfikator:\n",
    "$\\textrm{TetnoSpocz} = {1 \\over 1 + exp(-(-0.7621 - 25.9360 \\cdot \\textrm{Palacz} + 0.3006 \\cdot \\textrm{Palacz:Waga}))}$"
   ]
  },
  {
   "cell_type": "code",
   "execution_count": 56,
   "metadata": {
    "scrolled": false
   },
   "outputs": [
    {
     "data": {
      "text/html": [
       "<style>\n",
       ".dl-inline {width: auto; margin:0; padding: 0}\n",
       ".dl-inline>dt, .dl-inline>dd {float: none; width: auto; display: inline-block}\n",
       ".dl-inline>dt::after {content: \":\\0020\"; padding-right: .5ex}\n",
       ".dl-inline>dt:not(:first-of-type) {padding-left: .5ex}\n",
       "</style><dl class=dl-inline><dt>1</dt><dd>0.0528187104871056</dd><dt>2</dt><dd>0.0562879654021716</dd><dt>3</dt><dd>0.0770644856460369</dd><dt>4</dt><dd>0.0871972179456058</dd><dt>5</dt><dd>0.092703529427772</dd><dt>7</dt><dd>0.142077957719294</dd><dt>8</dt><dd>0.142077957719294</dd><dt>9</dt><dd>0.142077957719294</dd><dt>10</dt><dd>0.142077957719294</dd><dt>11</dt><dd>0.148959517487172</dd><dt>12</dt><dd>0.148959517487172</dd><dt>13</dt><dd>0.148959517487172</dd><dt>14</dt><dd>0.150478551391073</dd><dt>15</dt><dd>0.159283625841693</dd><dt>16</dt><dd>0.218950606873871</dd><dt>17</dt><dd>0.218950606873871</dd><dt>18</dt><dd>0.218950606873871</dd><dt>19</dt><dd>0.218950606873871</dd><dt>21</dt><dd>0.232798709364329</dd><dt>22</dt><dd>0.232798709364329</dd><dt>23</dt><dd>0.24503129992804</dd><dt>24</dt><dd>0.24503129992804</dd><dt>25</dt><dd>0.255414850804335</dd><dt>26</dt><dd>0.25769076492728</dd><dt>27</dt><dd>0.25769076492728</dd><dt>28</dt><dd>0.25769076492728</dd><dt>29</dt><dd>0.270769702991676</dd><dt>30</dt><dd>0.298144026714288</dd><dt>31</dt><dd>0.298144026714288</dd><dt>34</dt><dd>0.298144026714288</dd><dt>36</dt><dd>0.309854560633213</dd><dt>38</dt><dd>0.312412033425817</dd><dt>39</dt><dd>0.327044680855978</dd><dt>40</dt><dd>0.327044680855978</dd><dt>41</dt><dd>0.327044680855978</dd><dt>42</dt><dd>0.339341535928601</dd><dt>43</dt><dd>0.342021774205173</dd><dt>44</dt><dd>0.342021774205173</dd><dt>46</dt><dd>0.357320564228482</dd><dt>47</dt><dd>0.357320564228482</dd><dt>48</dt><dd>0.357320564228482</dd><dt>49</dt><dd>0.372915829759642</dd><dt>52</dt><dd>0.388779997810638</dd><dt>55</dt><dd>0.388779997810638</dd><dt>56</dt><dd>0.388779997810638</dd><dt>58</dt><dd>0.402011427070304</dd><dt>59</dt><dd>0.434743911981206</dd><dt>63</dt><dd>0.437678472571682</dd><dt>66</dt><dd>0.471027531621237</dd><dt>67</dt><dd>0.471027531621237</dd><dt>68</dt><dd>0.484837741914281</dd><dt>70</dt><dd>0.487818625824148</dd><dt>71</dt><dd>0.518467037541142</dd><dt>72</dt><dd>0.504637256845478</dd><dt>73</dt><dd>0.518467037541142</dd><dt>74</dt><dd>0.554878936148135</dd><dt>75</dt><dd>0.601165868556667</dd><dt>77</dt><dd>0.632950304810017</dd><dt>79</dt><dd>0.720834115354712</dd><dt>81</dt><dd>0.749341760578234</dd><dt>82</dt><dd>0.773761538240959</dd><dt>84</dt><dd>0.827226585708073</dd><dt>85</dt><dd>0.0413350305090303</dd><dt>86</dt><dd>0.0606468886309615</dd><dt>87</dt><dd>0.0645952511469686</dd><dt>88</dt><dd>0.0828910161295074</dd><dt>89</dt><dd>0.112318329800719</dd><dt>90</dt><dd>0.309854560633213</dd><dt>92</dt><dd>0.78330415923081</dd></dl>\n"
      ],
      "text/latex": [
       "\\begin{description*}\n",
       "\\item[1] 0.0528187104871056\n",
       "\\item[2] 0.0562879654021716\n",
       "\\item[3] 0.0770644856460369\n",
       "\\item[4] 0.0871972179456058\n",
       "\\item[5] 0.092703529427772\n",
       "\\item[7] 0.142077957719294\n",
       "\\item[8] 0.142077957719294\n",
       "\\item[9] 0.142077957719294\n",
       "\\item[10] 0.142077957719294\n",
       "\\item[11] 0.148959517487172\n",
       "\\item[12] 0.148959517487172\n",
       "\\item[13] 0.148959517487172\n",
       "\\item[14] 0.150478551391073\n",
       "\\item[15] 0.159283625841693\n",
       "\\item[16] 0.218950606873871\n",
       "\\item[17] 0.218950606873871\n",
       "\\item[18] 0.218950606873871\n",
       "\\item[19] 0.218950606873871\n",
       "\\item[21] 0.232798709364329\n",
       "\\item[22] 0.232798709364329\n",
       "\\item[23] 0.24503129992804\n",
       "\\item[24] 0.24503129992804\n",
       "\\item[25] 0.255414850804335\n",
       "\\item[26] 0.25769076492728\n",
       "\\item[27] 0.25769076492728\n",
       "\\item[28] 0.25769076492728\n",
       "\\item[29] 0.270769702991676\n",
       "\\item[30] 0.298144026714288\n",
       "\\item[31] 0.298144026714288\n",
       "\\item[34] 0.298144026714288\n",
       "\\item[36] 0.309854560633213\n",
       "\\item[38] 0.312412033425817\n",
       "\\item[39] 0.327044680855978\n",
       "\\item[40] 0.327044680855978\n",
       "\\item[41] 0.327044680855978\n",
       "\\item[42] 0.339341535928601\n",
       "\\item[43] 0.342021774205173\n",
       "\\item[44] 0.342021774205173\n",
       "\\item[46] 0.357320564228482\n",
       "\\item[47] 0.357320564228482\n",
       "\\item[48] 0.357320564228482\n",
       "\\item[49] 0.372915829759642\n",
       "\\item[52] 0.388779997810638\n",
       "\\item[55] 0.388779997810638\n",
       "\\item[56] 0.388779997810638\n",
       "\\item[58] 0.402011427070304\n",
       "\\item[59] 0.434743911981206\n",
       "\\item[63] 0.437678472571682\n",
       "\\item[66] 0.471027531621237\n",
       "\\item[67] 0.471027531621237\n",
       "\\item[68] 0.484837741914281\n",
       "\\item[70] 0.487818625824148\n",
       "\\item[71] 0.518467037541142\n",
       "\\item[72] 0.504637256845478\n",
       "\\item[73] 0.518467037541142\n",
       "\\item[74] 0.554878936148135\n",
       "\\item[75] 0.601165868556667\n",
       "\\item[77] 0.632950304810017\n",
       "\\item[79] 0.720834115354712\n",
       "\\item[81] 0.749341760578234\n",
       "\\item[82] 0.773761538240959\n",
       "\\item[84] 0.827226585708073\n",
       "\\item[85] 0.0413350305090303\n",
       "\\item[86] 0.0606468886309615\n",
       "\\item[87] 0.0645952511469686\n",
       "\\item[88] 0.0828910161295074\n",
       "\\item[89] 0.112318329800719\n",
       "\\item[90] 0.309854560633213\n",
       "\\item[92] 0.78330415923081\n",
       "\\end{description*}\n"
      ],
      "text/markdown": [
       "1\n",
       ":   0.05281871048710562\n",
       ":   0.05628796540217163\n",
       ":   0.07706448564603694\n",
       ":   0.08719721794560585\n",
       ":   0.0927035294277727\n",
       ":   0.1420779577192948\n",
       ":   0.1420779577192949\n",
       ":   0.14207795771929410\n",
       ":   0.14207795771929411\n",
       ":   0.14895951748717212\n",
       ":   0.14895951748717213\n",
       ":   0.14895951748717214\n",
       ":   0.15047855139107315\n",
       ":   0.15928362584169316\n",
       ":   0.21895060687387117\n",
       ":   0.21895060687387118\n",
       ":   0.21895060687387119\n",
       ":   0.21895060687387121\n",
       ":   0.23279870936432922\n",
       ":   0.23279870936432923\n",
       ":   0.2450312999280424\n",
       ":   0.2450312999280425\n",
       ":   0.25541485080433526\n",
       ":   0.2576907649272827\n",
       ":   0.2576907649272828\n",
       ":   0.2576907649272829\n",
       ":   0.27076970299167630\n",
       ":   0.29814402671428831\n",
       ":   0.29814402671428834\n",
       ":   0.29814402671428836\n",
       ":   0.30985456063321338\n",
       ":   0.31241203342581739\n",
       ":   0.32704468085597840\n",
       ":   0.32704468085597841\n",
       ":   0.32704468085597842\n",
       ":   0.33934153592860143\n",
       ":   0.34202177420517344\n",
       ":   0.34202177420517346\n",
       ":   0.35732056422848247\n",
       ":   0.35732056422848248\n",
       ":   0.35732056422848249\n",
       ":   0.37291582975964252\n",
       ":   0.38877999781063855\n",
       ":   0.38877999781063856\n",
       ":   0.38877999781063858\n",
       ":   0.40201142707030459\n",
       ":   0.43474391198120663\n",
       ":   0.43767847257168266\n",
       ":   0.47102753162123767\n",
       ":   0.47102753162123768\n",
       ":   0.48483774191428170\n",
       ":   0.48781862582414871\n",
       ":   0.51846703754114272\n",
       ":   0.50463725684547873\n",
       ":   0.51846703754114274\n",
       ":   0.55487893614813575\n",
       ":   0.60116586855666777\n",
       ":   0.63295030481001779\n",
       ":   0.72083411535471281\n",
       ":   0.74934176057823482\n",
       ":   0.77376153824095984\n",
       ":   0.82722658570807385\n",
       ":   0.041335030509030386\n",
       ":   0.060646888630961587\n",
       ":   0.064595251146968688\n",
       ":   0.082891016129507489\n",
       ":   0.11231832980071990\n",
       ":   0.30985456063321392\n",
       ":   0.78330415923081\n",
       "\n"
      ],
      "text/plain": [
       "         1          2          3          4          5          7          8 \n",
       "0.05281871 0.05628797 0.07706449 0.08719722 0.09270353 0.14207796 0.14207796 \n",
       "         9         10         11         12         13         14         15 \n",
       "0.14207796 0.14207796 0.14895952 0.14895952 0.14895952 0.15047855 0.15928363 \n",
       "        16         17         18         19         21         22         23 \n",
       "0.21895061 0.21895061 0.21895061 0.21895061 0.23279871 0.23279871 0.24503130 \n",
       "        24         25         26         27         28         29         30 \n",
       "0.24503130 0.25541485 0.25769076 0.25769076 0.25769076 0.27076970 0.29814403 \n",
       "        31         34         36         38         39         40         41 \n",
       "0.29814403 0.29814403 0.30985456 0.31241203 0.32704468 0.32704468 0.32704468 \n",
       "        42         43         44         46         47         48         49 \n",
       "0.33934154 0.34202177 0.34202177 0.35732056 0.35732056 0.35732056 0.37291583 \n",
       "        52         55         56         58         59         63         66 \n",
       "0.38878000 0.38878000 0.38878000 0.40201143 0.43474391 0.43767847 0.47102753 \n",
       "        67         68         70         71         72         73         74 \n",
       "0.47102753 0.48483774 0.48781863 0.51846704 0.50463726 0.51846704 0.55487894 \n",
       "        75         77         79         81         82         84         85 \n",
       "0.60116587 0.63295030 0.72083412 0.74934176 0.77376154 0.82722659 0.04133503 \n",
       "        86         87         88         89         90         92 \n",
       "0.06064689 0.06459525 0.08289102 0.11231833 0.30985456 0.78330416 "
      ]
     },
     "metadata": {},
     "output_type": "display_data"
    }
   ],
   "source": [
    "# wykonanie predykcji prawdopodobienstwa dla podzbioru uczacego na podstawie pelnego modelu regresji logistycznej\n",
    "predykcja_log_podzbior_uczacy_model_pelny_8 = predict(model_log_8_1, newdata = podzbior_uczacy_8, type = \"response\")\n",
    "predykcja_log_podzbior_uczacy_model_pelny_8"
   ]
  },
  {
   "cell_type": "code",
   "execution_count": 57,
   "metadata": {},
   "outputs": [
    {
     "data": {
      "text/html": [
       "69"
      ],
      "text/latex": [
       "69"
      ],
      "text/markdown": [
       "69"
      ],
      "text/plain": [
       "[1] 69"
      ]
     },
     "metadata": {},
     "output_type": "display_data"
    }
   ],
   "source": [
    "# liczba obserwacji z podzioru uczacego, dla ktorych dokonalismy predykcji wzgledem pelnego modelu regresji logistycznej\n",
    "liczba_predykcji_log_podzbior_uczacy_model_pelny_8 = length(predykcja_log_podzbior_uczacy_model_pelny_8)\n",
    "liczba_predykcji_log_podzbior_uczacy_model_pelny_8"
   ]
  },
  {
   "cell_type": "code",
   "execution_count": 58,
   "metadata": {},
   "outputs": [],
   "source": [
    "# przygotowanie pustego wektora predykcji dla podzbioru uczacego wzgledem pelnego modelu regresji logistycznej\n",
    "wektor_predykcji_log_podzbior_uczacy_model_pelny_8 = rep(0, liczba_predykcji_log_podzbior_uczacy_model_pelny_8)"
   ]
  },
  {
   "cell_type": "code",
   "execution_count": 59,
   "metadata": {
    "scrolled": true
   },
   "outputs": [
    {
     "data": {
      "text/html": [
       "<style>\n",
       ".list-inline {list-style: none; margin:0; padding: 0}\n",
       ".list-inline>li {display: inline-block}\n",
       ".list-inline>li:not(:last-child)::after {content: \"\\00b7\"; padding: 0 .5ex}\n",
       "</style>\n",
       "<ol class=list-inline><li>0</li><li>0</li><li>0</li><li>0</li><li>0</li><li>0</li><li>0</li><li>0</li><li>0</li><li>0</li><li>0</li><li>0</li><li>0</li><li>0</li><li>0</li><li>0</li><li>0</li><li>0</li><li>0</li><li>0</li><li>0</li><li>0</li><li>0</li><li>0</li><li>0</li><li>0</li><li>0</li><li>0</li><li>0</li><li>0</li><li>0</li><li>0</li><li>0</li><li>0</li><li>0</li><li>0</li><li>0</li><li>0</li><li>0</li><li>0</li><li>0</li><li>0</li><li>0</li><li>0</li><li>0</li><li>0</li><li>0</li><li>0</li><li>0</li><li>0</li><li>0</li><li>0</li><li>1</li><li>1</li><li>1</li><li>1</li><li>1</li><li>1</li><li>1</li><li>1</li><li>1</li><li>1</li><li>0</li><li>0</li><li>0</li><li>0</li><li>0</li><li>0</li><li>1</li></ol>\n"
      ],
      "text/latex": [
       "\\begin{enumerate*}\n",
       "\\item 0\n",
       "\\item 0\n",
       "\\item 0\n",
       "\\item 0\n",
       "\\item 0\n",
       "\\item 0\n",
       "\\item 0\n",
       "\\item 0\n",
       "\\item 0\n",
       "\\item 0\n",
       "\\item 0\n",
       "\\item 0\n",
       "\\item 0\n",
       "\\item 0\n",
       "\\item 0\n",
       "\\item 0\n",
       "\\item 0\n",
       "\\item 0\n",
       "\\item 0\n",
       "\\item 0\n",
       "\\item 0\n",
       "\\item 0\n",
       "\\item 0\n",
       "\\item 0\n",
       "\\item 0\n",
       "\\item 0\n",
       "\\item 0\n",
       "\\item 0\n",
       "\\item 0\n",
       "\\item 0\n",
       "\\item 0\n",
       "\\item 0\n",
       "\\item 0\n",
       "\\item 0\n",
       "\\item 0\n",
       "\\item 0\n",
       "\\item 0\n",
       "\\item 0\n",
       "\\item 0\n",
       "\\item 0\n",
       "\\item 0\n",
       "\\item 0\n",
       "\\item 0\n",
       "\\item 0\n",
       "\\item 0\n",
       "\\item 0\n",
       "\\item 0\n",
       "\\item 0\n",
       "\\item 0\n",
       "\\item 0\n",
       "\\item 0\n",
       "\\item 0\n",
       "\\item 1\n",
       "\\item 1\n",
       "\\item 1\n",
       "\\item 1\n",
       "\\item 1\n",
       "\\item 1\n",
       "\\item 1\n",
       "\\item 1\n",
       "\\item 1\n",
       "\\item 1\n",
       "\\item 0\n",
       "\\item 0\n",
       "\\item 0\n",
       "\\item 0\n",
       "\\item 0\n",
       "\\item 0\n",
       "\\item 1\n",
       "\\end{enumerate*}\n"
      ],
      "text/markdown": [
       "1. 0\n",
       "2. 0\n",
       "3. 0\n",
       "4. 0\n",
       "5. 0\n",
       "6. 0\n",
       "7. 0\n",
       "8. 0\n",
       "9. 0\n",
       "10. 0\n",
       "11. 0\n",
       "12. 0\n",
       "13. 0\n",
       "14. 0\n",
       "15. 0\n",
       "16. 0\n",
       "17. 0\n",
       "18. 0\n",
       "19. 0\n",
       "20. 0\n",
       "21. 0\n",
       "22. 0\n",
       "23. 0\n",
       "24. 0\n",
       "25. 0\n",
       "26. 0\n",
       "27. 0\n",
       "28. 0\n",
       "29. 0\n",
       "30. 0\n",
       "31. 0\n",
       "32. 0\n",
       "33. 0\n",
       "34. 0\n",
       "35. 0\n",
       "36. 0\n",
       "37. 0\n",
       "38. 0\n",
       "39. 0\n",
       "40. 0\n",
       "41. 0\n",
       "42. 0\n",
       "43. 0\n",
       "44. 0\n",
       "45. 0\n",
       "46. 0\n",
       "47. 0\n",
       "48. 0\n",
       "49. 0\n",
       "50. 0\n",
       "51. 0\n",
       "52. 0\n",
       "53. 1\n",
       "54. 1\n",
       "55. 1\n",
       "56. 1\n",
       "57. 1\n",
       "58. 1\n",
       "59. 1\n",
       "60. 1\n",
       "61. 1\n",
       "62. 1\n",
       "63. 0\n",
       "64. 0\n",
       "65. 0\n",
       "66. 0\n",
       "67. 0\n",
       "68. 0\n",
       "69. 1\n",
       "\n",
       "\n"
      ],
      "text/plain": [
       " [1] 0 0 0 0 0 0 0 0 0 0 0 0 0 0 0 0 0 0 0 0 0 0 0 0 0 0 0 0 0 0 0 0 0 0 0 0 0 0\n",
       "[39] 0 0 0 0 0 0 0 0 0 0 0 0 0 0 1 1 1 1 1 1 1 1 1 1 0 0 0 0 0 0 1"
      ]
     },
     "metadata": {},
     "output_type": "display_data"
    }
   ],
   "source": [
    "# zmiany wartosci w wektorze predykcji dla podzbioru uczacego na okreslone wartosci prawdopodobienstwa wzgledem pelnego modelu regresji logistycznej\n",
    "wektor_predykcji_log_podzbior_uczacy_model_pelny_8[predykcja_log_podzbior_uczacy_model_pelny_8 > 0.5] = 1\n",
    "wektor_predykcji_log_podzbior_uczacy_model_pelny_8"
   ]
  },
  {
   "cell_type": "code",
   "execution_count": 60,
   "metadata": {},
   "outputs": [
    {
     "data": {
      "text/plain": [
       "    Predicted\n",
       "True  0  1\n",
       "   0 47  0\n",
       "   1 11 11"
      ]
     },
     "metadata": {},
     "output_type": "display_data"
    }
   ],
   "source": [
    "# tabela predykcji dla podzbioru uczacego wzgledem pelnego modelu regresji logistycznej\n",
    "tabela_predykcji_log_podzbior_uczacy_model_pelny_8 = table(True = podzbior_uczacy_8$TetnoSpocz, Predicted = wektor_predykcji_log_podzbior_uczacy_model_pelny_8)\n",
    "tabela_predykcji_log_podzbior_uczacy_model_pelny_8"
   ]
  },
  {
   "cell_type": "code",
   "execution_count": 61,
   "metadata": {
    "scrolled": false
   },
   "outputs": [
    {
     "data": {
      "text/html": [
       "<style>\n",
       ".dl-inline {width: auto; margin:0; padding: 0}\n",
       ".dl-inline>dt, .dl-inline>dd {float: none; width: auto; display: inline-block}\n",
       ".dl-inline>dt::after {content: \":\\0020\"; padding-right: .5ex}\n",
       ".dl-inline>dt:not(:first-of-type) {padding-left: .5ex}\n",
       "</style><dl class=dl-inline><dt>1</dt><dd>1.15458221916603e-05</dd><dt>2</dt><dd>1.55940315434755e-05</dd><dt>3</dt><dd>7.00827687109292e-05</dd><dt>4</dt><dd>0.000127837058502597</dd><dt>5</dt><dd>0.000172652393991411</dd><dt>7</dt><dd>0.318181818181818</dd><dt>8</dt><dd>0.318181818181818</dd><dt>9</dt><dd>0.318181818181818</dd><dt>10</dt><dd>0.318181818181818</dd><dt>11</dt><dd>0.00190853595807087</dd><dt>12</dt><dd>0.00190853595807087</dd><dt>13</dt><dd>0.00190853595807087</dd><dt>14</dt><dd>0.318181818181818</dd><dt>15</dt><dd>0.318181818181818</dd><dt>16</dt><dd>0.0154355205255951</dd><dt>17</dt><dd>0.0154355205255951</dd><dt>18</dt><dd>0.0154355205255951</dd><dt>19</dt><dd>0.0154355205255951</dd><dt>21</dt><dd>0.318181818181818</dd><dt>22</dt><dd>0.318181818181818</dd><dt>23</dt><dd>0.318181818181818</dd><dt>24</dt><dd>0.318181818181818</dd><dt>25</dt><dd>0.0371897884920256</dd><dt>26</dt><dd>0.318181818181818</dd><dt>27</dt><dd>0.318181818181818</dd><dt>28</dt><dd>0.318181818181818</dd><dt>29</dt><dd>0.318181818181818</dd><dt>30</dt><dd>0.318181818181818</dd><dt>31</dt><dd>0.318181818181818</dd><dt>34</dt><dd>0.318181818181818</dd><dt>36</dt><dd>0.113896104997269</dd><dt>38</dt><dd>0.318181818181818</dd><dt>39</dt><dd>0.318181818181818</dd><dt>40</dt><dd>0.318181818181818</dd><dt>41</dt><dd>0.318181818181818</dd><dt>42</dt><dd>0.189938435449529</dd><dt>43</dt><dd>0.318181818181818</dd><dt>44</dt><dd>0.318181818181818</dd><dt>46</dt><dd>0.318181818181818</dd><dt>47</dt><dd>0.318181818181818</dd><dt>48</dt><dd>0.318181818181818</dd><dt>49</dt><dd>0.318181818181818</dd><dt>52</dt><dd>0.318181818181818</dd><dt>55</dt><dd>0.318181818181818</dd><dt>56</dt><dd>0.318181818181818</dd><dt>58</dt><dd>0.438282420683251</dd><dt>59</dt><dd>0.587345264954077</dd><dt>63</dt><dd>0.318181818181818</dd><dt>66</dt><dd>0.318181818181818</dd><dt>67</dt><dd>0.318181818181818</dd><dt>68</dt><dd>0.778113688110749</dd><dt>70</dt><dd>0.318181818181818</dd><dt>71</dt><dd>0.864811887639201</dd><dt>72</dt><dd>0.318181818181818</dd><dt>73</dt><dd>0.864811887639201</dd><dt>74</dt><dd>0.318181818181818</dd><dt>75</dt><dd>0.966388185544757</dd><dt>77</dt><dd>0.981290282053442</dd><dt>79</dt><dd>0.996868906882655</dd><dt>81</dt><dd>0.318181818181818</dd><dt>82</dt><dd>0.318181818181818</dd><dt>84</dt><dd>0.318181818181818</dd><dt>85</dt><dd>0.318181818181818</dd><dt>86</dt><dd>0.318181818181818</dd><dt>87</dt><dd>0.318181818181818</dd><dt>88</dt><dd>0.318181818181818</dd><dt>89</dt><dd>0.318181818181818</dd><dt>90</dt><dd>0.113896104997269</dd><dt>92</dt><dd>0.999301642138001</dd></dl>\n"
      ],
      "text/latex": [
       "\\begin{description*}\n",
       "\\item[1] 1.15458221916603e-05\n",
       "\\item[2] 1.55940315434755e-05\n",
       "\\item[3] 7.00827687109292e-05\n",
       "\\item[4] 0.000127837058502597\n",
       "\\item[5] 0.000172652393991411\n",
       "\\item[7] 0.318181818181818\n",
       "\\item[8] 0.318181818181818\n",
       "\\item[9] 0.318181818181818\n",
       "\\item[10] 0.318181818181818\n",
       "\\item[11] 0.00190853595807087\n",
       "\\item[12] 0.00190853595807087\n",
       "\\item[13] 0.00190853595807087\n",
       "\\item[14] 0.318181818181818\n",
       "\\item[15] 0.318181818181818\n",
       "\\item[16] 0.0154355205255951\n",
       "\\item[17] 0.0154355205255951\n",
       "\\item[18] 0.0154355205255951\n",
       "\\item[19] 0.0154355205255951\n",
       "\\item[21] 0.318181818181818\n",
       "\\item[22] 0.318181818181818\n",
       "\\item[23] 0.318181818181818\n",
       "\\item[24] 0.318181818181818\n",
       "\\item[25] 0.0371897884920256\n",
       "\\item[26] 0.318181818181818\n",
       "\\item[27] 0.318181818181818\n",
       "\\item[28] 0.318181818181818\n",
       "\\item[29] 0.318181818181818\n",
       "\\item[30] 0.318181818181818\n",
       "\\item[31] 0.318181818181818\n",
       "\\item[34] 0.318181818181818\n",
       "\\item[36] 0.113896104997269\n",
       "\\item[38] 0.318181818181818\n",
       "\\item[39] 0.318181818181818\n",
       "\\item[40] 0.318181818181818\n",
       "\\item[41] 0.318181818181818\n",
       "\\item[42] 0.189938435449529\n",
       "\\item[43] 0.318181818181818\n",
       "\\item[44] 0.318181818181818\n",
       "\\item[46] 0.318181818181818\n",
       "\\item[47] 0.318181818181818\n",
       "\\item[48] 0.318181818181818\n",
       "\\item[49] 0.318181818181818\n",
       "\\item[52] 0.318181818181818\n",
       "\\item[55] 0.318181818181818\n",
       "\\item[56] 0.318181818181818\n",
       "\\item[58] 0.438282420683251\n",
       "\\item[59] 0.587345264954077\n",
       "\\item[63] 0.318181818181818\n",
       "\\item[66] 0.318181818181818\n",
       "\\item[67] 0.318181818181818\n",
       "\\item[68] 0.778113688110749\n",
       "\\item[70] 0.318181818181818\n",
       "\\item[71] 0.864811887639201\n",
       "\\item[72] 0.318181818181818\n",
       "\\item[73] 0.864811887639201\n",
       "\\item[74] 0.318181818181818\n",
       "\\item[75] 0.966388185544757\n",
       "\\item[77] 0.981290282053442\n",
       "\\item[79] 0.996868906882655\n",
       "\\item[81] 0.318181818181818\n",
       "\\item[82] 0.318181818181818\n",
       "\\item[84] 0.318181818181818\n",
       "\\item[85] 0.318181818181818\n",
       "\\item[86] 0.318181818181818\n",
       "\\item[87] 0.318181818181818\n",
       "\\item[88] 0.318181818181818\n",
       "\\item[89] 0.318181818181818\n",
       "\\item[90] 0.113896104997269\n",
       "\\item[92] 0.999301642138001\n",
       "\\end{description*}\n"
      ],
      "text/markdown": [
       "1\n",
       ":   1.15458221916603e-052\n",
       ":   1.55940315434755e-053\n",
       ":   7.00827687109292e-054\n",
       ":   0.0001278370585025975\n",
       ":   0.0001726523939914117\n",
       ":   0.3181818181818188\n",
       ":   0.3181818181818189\n",
       ":   0.31818181818181810\n",
       ":   0.31818181818181811\n",
       ":   0.0019085359580708712\n",
       ":   0.0019085359580708713\n",
       ":   0.0019085359580708714\n",
       ":   0.31818181818181815\n",
       ":   0.31818181818181816\n",
       ":   0.015435520525595117\n",
       ":   0.015435520525595118\n",
       ":   0.015435520525595119\n",
       ":   0.015435520525595121\n",
       ":   0.31818181818181822\n",
       ":   0.31818181818181823\n",
       ":   0.31818181818181824\n",
       ":   0.31818181818181825\n",
       ":   0.037189788492025626\n",
       ":   0.31818181818181827\n",
       ":   0.31818181818181828\n",
       ":   0.31818181818181829\n",
       ":   0.31818181818181830\n",
       ":   0.31818181818181831\n",
       ":   0.31818181818181834\n",
       ":   0.31818181818181836\n",
       ":   0.11389610499726938\n",
       ":   0.31818181818181839\n",
       ":   0.31818181818181840\n",
       ":   0.31818181818181841\n",
       ":   0.31818181818181842\n",
       ":   0.18993843544952943\n",
       ":   0.31818181818181844\n",
       ":   0.31818181818181846\n",
       ":   0.31818181818181847\n",
       ":   0.31818181818181848\n",
       ":   0.31818181818181849\n",
       ":   0.31818181818181852\n",
       ":   0.31818181818181855\n",
       ":   0.31818181818181856\n",
       ":   0.31818181818181858\n",
       ":   0.43828242068325159\n",
       ":   0.58734526495407763\n",
       ":   0.31818181818181866\n",
       ":   0.31818181818181867\n",
       ":   0.31818181818181868\n",
       ":   0.77811368811074970\n",
       ":   0.31818181818181871\n",
       ":   0.86481188763920172\n",
       ":   0.31818181818181873\n",
       ":   0.86481188763920174\n",
       ":   0.31818181818181875\n",
       ":   0.96638818554475777\n",
       ":   0.98129028205344279\n",
       ":   0.99686890688265581\n",
       ":   0.31818181818181882\n",
       ":   0.31818181818181884\n",
       ":   0.31818181818181885\n",
       ":   0.31818181818181886\n",
       ":   0.31818181818181887\n",
       ":   0.31818181818181888\n",
       ":   0.31818181818181889\n",
       ":   0.31818181818181890\n",
       ":   0.11389610499726992\n",
       ":   0.999301642138001\n",
       "\n"
      ],
      "text/plain": [
       "           1            2            3            4            5            7 \n",
       "1.154582e-05 1.559403e-05 7.008277e-05 1.278371e-04 1.726524e-04 3.181818e-01 \n",
       "           8            9           10           11           12           13 \n",
       "3.181818e-01 3.181818e-01 3.181818e-01 1.908536e-03 1.908536e-03 1.908536e-03 \n",
       "          14           15           16           17           18           19 \n",
       "3.181818e-01 3.181818e-01 1.543552e-02 1.543552e-02 1.543552e-02 1.543552e-02 \n",
       "          21           22           23           24           25           26 \n",
       "3.181818e-01 3.181818e-01 3.181818e-01 3.181818e-01 3.718979e-02 3.181818e-01 \n",
       "          27           28           29           30           31           34 \n",
       "3.181818e-01 3.181818e-01 3.181818e-01 3.181818e-01 3.181818e-01 3.181818e-01 \n",
       "          36           38           39           40           41           42 \n",
       "1.138961e-01 3.181818e-01 3.181818e-01 3.181818e-01 3.181818e-01 1.899384e-01 \n",
       "          43           44           46           47           48           49 \n",
       "3.181818e-01 3.181818e-01 3.181818e-01 3.181818e-01 3.181818e-01 3.181818e-01 \n",
       "          52           55           56           58           59           63 \n",
       "3.181818e-01 3.181818e-01 3.181818e-01 4.382824e-01 5.873453e-01 3.181818e-01 \n",
       "          66           67           68           70           71           72 \n",
       "3.181818e-01 3.181818e-01 7.781137e-01 3.181818e-01 8.648119e-01 3.181818e-01 \n",
       "          73           74           75           77           79           81 \n",
       "8.648119e-01 3.181818e-01 9.663882e-01 9.812903e-01 9.968689e-01 3.181818e-01 \n",
       "          82           84           85           86           87           88 \n",
       "3.181818e-01 3.181818e-01 3.181818e-01 3.181818e-01 3.181818e-01 3.181818e-01 \n",
       "          89           90           92 \n",
       "3.181818e-01 1.138961e-01 9.993016e-01 "
      ]
     },
     "metadata": {},
     "output_type": "display_data"
    }
   ],
   "source": [
    "# wykonanie predykcji prawdopodobienstwa dla podzbioru uczacego na podstawie modelu regresji logistycznej z interakcja\n",
    "predykcja_log_podzbior_uczacy_model_interakcja_8 = predict(model_log_M3, newdata = podzbior_uczacy_8, type = \"response\")\n",
    "predykcja_log_podzbior_uczacy_model_interakcja_8"
   ]
  },
  {
   "cell_type": "code",
   "execution_count": 62,
   "metadata": {},
   "outputs": [
    {
     "data": {
      "text/html": [
       "69"
      ],
      "text/latex": [
       "69"
      ],
      "text/markdown": [
       "69"
      ],
      "text/plain": [
       "[1] 69"
      ]
     },
     "metadata": {},
     "output_type": "display_data"
    }
   ],
   "source": [
    "# liczba obserwacji z podzioru uczacego, dla ktorych dokonalismy predykcji wzgledem modelu regresji logistycznej z interakcja\n",
    "liczba_predykcji_log_podzbior_uczacy_model_interakcja_8 = length(predykcja_log_podzbior_uczacy_model_interakcja_8)\n",
    "liczba_predykcji_log_podzbior_uczacy_model_interakcja_8"
   ]
  },
  {
   "cell_type": "code",
   "execution_count": 63,
   "metadata": {},
   "outputs": [],
   "source": [
    "# przygotowanie pustego wektora predykcji dla podzbioru uczacego wzgledem modelu regresji logistycznej z interakcja\n",
    "wektor_predykcji_log_podzbior_uczacy_model_interakcja_8 = rep(0, liczba_predykcji_log_podzbior_uczacy_model_interakcja_8)"
   ]
  },
  {
   "cell_type": "code",
   "execution_count": 64,
   "metadata": {},
   "outputs": [
    {
     "data": {
      "text/html": [
       "<style>\n",
       ".list-inline {list-style: none; margin:0; padding: 0}\n",
       ".list-inline>li {display: inline-block}\n",
       ".list-inline>li:not(:last-child)::after {content: \"\\00b7\"; padding: 0 .5ex}\n",
       "</style>\n",
       "<ol class=list-inline><li>0</li><li>0</li><li>0</li><li>0</li><li>0</li><li>0</li><li>0</li><li>0</li><li>0</li><li>0</li><li>0</li><li>0</li><li>0</li><li>0</li><li>0</li><li>0</li><li>0</li><li>0</li><li>0</li><li>0</li><li>0</li><li>0</li><li>0</li><li>0</li><li>0</li><li>0</li><li>0</li><li>0</li><li>0</li><li>0</li><li>0</li><li>0</li><li>0</li><li>0</li><li>0</li><li>0</li><li>0</li><li>0</li><li>0</li><li>0</li><li>0</li><li>0</li><li>0</li><li>0</li><li>0</li><li>0</li><li>1</li><li>0</li><li>0</li><li>0</li><li>1</li><li>0</li><li>1</li><li>0</li><li>1</li><li>0</li><li>1</li><li>1</li><li>1</li><li>0</li><li>0</li><li>0</li><li>0</li><li>0</li><li>0</li><li>0</li><li>0</li><li>0</li><li>1</li></ol>\n"
      ],
      "text/latex": [
       "\\begin{enumerate*}\n",
       "\\item 0\n",
       "\\item 0\n",
       "\\item 0\n",
       "\\item 0\n",
       "\\item 0\n",
       "\\item 0\n",
       "\\item 0\n",
       "\\item 0\n",
       "\\item 0\n",
       "\\item 0\n",
       "\\item 0\n",
       "\\item 0\n",
       "\\item 0\n",
       "\\item 0\n",
       "\\item 0\n",
       "\\item 0\n",
       "\\item 0\n",
       "\\item 0\n",
       "\\item 0\n",
       "\\item 0\n",
       "\\item 0\n",
       "\\item 0\n",
       "\\item 0\n",
       "\\item 0\n",
       "\\item 0\n",
       "\\item 0\n",
       "\\item 0\n",
       "\\item 0\n",
       "\\item 0\n",
       "\\item 0\n",
       "\\item 0\n",
       "\\item 0\n",
       "\\item 0\n",
       "\\item 0\n",
       "\\item 0\n",
       "\\item 0\n",
       "\\item 0\n",
       "\\item 0\n",
       "\\item 0\n",
       "\\item 0\n",
       "\\item 0\n",
       "\\item 0\n",
       "\\item 0\n",
       "\\item 0\n",
       "\\item 0\n",
       "\\item 0\n",
       "\\item 1\n",
       "\\item 0\n",
       "\\item 0\n",
       "\\item 0\n",
       "\\item 1\n",
       "\\item 0\n",
       "\\item 1\n",
       "\\item 0\n",
       "\\item 1\n",
       "\\item 0\n",
       "\\item 1\n",
       "\\item 1\n",
       "\\item 1\n",
       "\\item 0\n",
       "\\item 0\n",
       "\\item 0\n",
       "\\item 0\n",
       "\\item 0\n",
       "\\item 0\n",
       "\\item 0\n",
       "\\item 0\n",
       "\\item 0\n",
       "\\item 1\n",
       "\\end{enumerate*}\n"
      ],
      "text/markdown": [
       "1. 0\n",
       "2. 0\n",
       "3. 0\n",
       "4. 0\n",
       "5. 0\n",
       "6. 0\n",
       "7. 0\n",
       "8. 0\n",
       "9. 0\n",
       "10. 0\n",
       "11. 0\n",
       "12. 0\n",
       "13. 0\n",
       "14. 0\n",
       "15. 0\n",
       "16. 0\n",
       "17. 0\n",
       "18. 0\n",
       "19. 0\n",
       "20. 0\n",
       "21. 0\n",
       "22. 0\n",
       "23. 0\n",
       "24. 0\n",
       "25. 0\n",
       "26. 0\n",
       "27. 0\n",
       "28. 0\n",
       "29. 0\n",
       "30. 0\n",
       "31. 0\n",
       "32. 0\n",
       "33. 0\n",
       "34. 0\n",
       "35. 0\n",
       "36. 0\n",
       "37. 0\n",
       "38. 0\n",
       "39. 0\n",
       "40. 0\n",
       "41. 0\n",
       "42. 0\n",
       "43. 0\n",
       "44. 0\n",
       "45. 0\n",
       "46. 0\n",
       "47. 1\n",
       "48. 0\n",
       "49. 0\n",
       "50. 0\n",
       "51. 1\n",
       "52. 0\n",
       "53. 1\n",
       "54. 0\n",
       "55. 1\n",
       "56. 0\n",
       "57. 1\n",
       "58. 1\n",
       "59. 1\n",
       "60. 0\n",
       "61. 0\n",
       "62. 0\n",
       "63. 0\n",
       "64. 0\n",
       "65. 0\n",
       "66. 0\n",
       "67. 0\n",
       "68. 0\n",
       "69. 1\n",
       "\n",
       "\n"
      ],
      "text/plain": [
       " [1] 0 0 0 0 0 0 0 0 0 0 0 0 0 0 0 0 0 0 0 0 0 0 0 0 0 0 0 0 0 0 0 0 0 0 0 0 0 0\n",
       "[39] 0 0 0 0 0 0 0 0 1 0 0 0 1 0 1 0 1 0 1 1 1 0 0 0 0 0 0 0 0 0 1"
      ]
     },
     "metadata": {},
     "output_type": "display_data"
    }
   ],
   "source": [
    "# zmiany wartosci w wektorze predykcji dla podzbioru uczacego na okreslone wartosci prawdopodobienstwa wzgledem modelu regresji logistycznej z interakcja\n",
    "wektor_predykcji_log_podzbior_uczacy_model_interakcja_8[predykcja_log_podzbior_uczacy_model_interakcja_8 > 0.5] = 1\n",
    "wektor_predykcji_log_podzbior_uczacy_model_interakcja_8"
   ]
  },
  {
   "cell_type": "code",
   "execution_count": 65,
   "metadata": {},
   "outputs": [
    {
     "data": {
      "text/plain": [
       "    Predicted\n",
       "True  0  1\n",
       "   0 46  1\n",
       "   1 15  7"
      ]
     },
     "metadata": {},
     "output_type": "display_data"
    }
   ],
   "source": [
    "# tabela predykcji dla podzbioru uczacego wzgledem modelu regresji logistycznej z interakcja\n",
    "tabela_predykcji_log_podzbior_uczacy_model_interakcja_8 = table(True = podzbior_uczacy_8$TetnoSpocz, Predicted = wektor_predykcji_log_podzbior_uczacy_model_interakcja_8)\n",
    "tabela_predykcji_log_podzbior_uczacy_model_interakcja_8"
   ]
  },
  {
   "cell_type": "code",
   "execution_count": 66,
   "metadata": {},
   "outputs": [
    {
     "data": {
      "image/png": "[encoded data removed]",
      "text/plain": [
       "plot without title"
      ]
     },
     "metadata": {
      "image/png": {
       "height": 420,
       "width": 420
      }
     },
     "output_type": "display_data"
    }
   ],
   "source": [
    "# porownanie wykresow klasyfikacji obserwacji z podzbioru uczacego dla obu modeli\n",
    "# przygotowanie powierzchni pod oba wykresy\n",
    "par(mfrow = c(2, 1))\n",
    "\n",
    "# wykres klasyfikacji obserwacji z podzbioru uczacego wzgledem pelnego modelu regresji logistycznej\n",
    "plot(predykcja_log_podzbior_uczacy_model_pelny_8, pch = podzbior_uczacy_8$TetnoSpocz, col = wektor_predykcji_log_podzbior_uczacy_model_pelny_8 + 1, xlab = \"pacjent\", ylab = \"prawd. wysokiego tetna spoczynkowego\")\n",
    "# dodanie legendy do wykresu\n",
    "legend(\"topleft\", c(\"TN\", \"FN\", \"FP\", \"TP\"), pch = c(0, 1, 0, 1), col = c(1, 1, 2, 2))\n",
    "\n",
    "# wykres klasyfikacji obserwacji z podzbioru uczacego wzgledem modelu regresji logistycznej z interakcja\n",
    "plot(predykcja_log_podzbior_uczacy_model_interakcja_8, pch = podzbior_uczacy_8$TetnoSpocz, col = wektor_predykcji_log_podzbior_uczacy_model_interakcja_8 + 1, xlab = \"pacjent\", ylab = \"prawd. wysokiego tetna spoczynkowego\")\n",
    "# dodanie legendy do wykresu\n",
    "legend(\"topleft\", c(\"TN\", \"FN\", \"FP\", \"TP\"), pch = c(0, 1, 0, 1), col = c(1, 1, 2, 2))"
   ]
  },
  {
   "cell_type": "markdown",
   "metadata": {},
   "source": [
    "Na powyższych wykresach na osi OX przedstawiono określonych pacjentów, a na osi OY prawdopodobieństwo wysokiego tętna spoczynkowego.\n",
    "Znaczenie legendy:\n",
    "- TN (czarny kwadrat) - pacjenci z niskim tętnem spoczynkowym zakwalifikowani poprawnie jako pacjenci z niskim tętnem spoczynkowym\n",
    "- FN (czarne koło) - pacjenci z niskim tętnem spoczynkowym zakwalifikowani niepoprawnie jako pacjenci z wysokim tętnem spoczynkowym\n",
    "- FP (czerwony kwadrat) - pacjenci z wysokim tętnem spoczynkowym zakwalifikowani niepoprawnie jako pacjenci z niskim tętnem spoczynkowym\n",
    "- TP (czerwone koło) - pacjenci z wysokim tętnem spoczynkowym zakwalifikowani poprawnie jako pacjenci z wysokim tętnem spoczynkowym"
   ]
  },
  {
   "cell_type": "code",
   "execution_count": 67,
   "metadata": {},
   "outputs": [
    {
     "data": {
      "text/html": [
       "<style>\n",
       ".dl-inline {width: auto; margin:0; padding: 0}\n",
       ".dl-inline>dt, .dl-inline>dd {float: none; width: auto; display: inline-block}\n",
       ".dl-inline>dt::after {content: \":\\0020\"; padding-right: .5ex}\n",
       ".dl-inline>dt:not(:first-of-type) {padding-left: .5ex}\n",
       "</style><dl class=dl-inline><dt>6</dt><dd>0.132693034112054</dd><dt>20</dt><dd>0.220998039247609</dd><dt>32</dt><dd>0.298144026714288</dd><dt>33</dt><dd>0.298144026714288</dd><dt>35</dt><dd>0.298144026714288</dd><dt>37</dt><dd>0.312412033425817</dd><dt>45</dt><dd>0.342021774205173</dd><dt>50</dt><dd>0.372915829759642</dd><dt>51</dt><dd>0.388779997810638</dd><dt>53</dt><dd>0.388779997810638</dd><dt>54</dt><dd>0.388779997810638</dd><dt>57</dt><dd>0.388779997810638</dd><dt>60</dt><dd>0.451345193783698</dd><dt>61</dt><dd>0.451345193783698</dd><dt>62</dt><dd>0.437678472571682</dd><dt>64</dt><dd>0.437678472571682</dd><dt>65</dt><dd>0.451345193783698</dd><dt>69</dt><dd>0.487818625824148</dd><dt>76</dt><dd>0.619998640891526</dd><dt>78</dt><dd>0.651153147395764</dd><dt>80</dt><dd>0.749341760578234</dd><dt>83</dt><dd>0.827226585708073</dd><dt>91</dt><dd>0.339341535928601</dd></dl>\n"
      ],
      "text/latex": [
       "\\begin{description*}\n",
       "\\item[6] 0.132693034112054\n",
       "\\item[20] 0.220998039247609\n",
       "\\item[32] 0.298144026714288\n",
       "\\item[33] 0.298144026714288\n",
       "\\item[35] 0.298144026714288\n",
       "\\item[37] 0.312412033425817\n",
       "\\item[45] 0.342021774205173\n",
       "\\item[50] 0.372915829759642\n",
       "\\item[51] 0.388779997810638\n",
       "\\item[53] 0.388779997810638\n",
       "\\item[54] 0.388779997810638\n",
       "\\item[57] 0.388779997810638\n",
       "\\item[60] 0.451345193783698\n",
       "\\item[61] 0.451345193783698\n",
       "\\item[62] 0.437678472571682\n",
       "\\item[64] 0.437678472571682\n",
       "\\item[65] 0.451345193783698\n",
       "\\item[69] 0.487818625824148\n",
       "\\item[76] 0.619998640891526\n",
       "\\item[78] 0.651153147395764\n",
       "\\item[80] 0.749341760578234\n",
       "\\item[83] 0.827226585708073\n",
       "\\item[91] 0.339341535928601\n",
       "\\end{description*}\n"
      ],
      "text/markdown": [
       "6\n",
       ":   0.13269303411205420\n",
       ":   0.22099803924760932\n",
       ":   0.29814402671428833\n",
       ":   0.29814402671428835\n",
       ":   0.29814402671428837\n",
       ":   0.31241203342581745\n",
       ":   0.34202177420517350\n",
       ":   0.37291582975964251\n",
       ":   0.38877999781063853\n",
       ":   0.38877999781063854\n",
       ":   0.38877999781063857\n",
       ":   0.38877999781063860\n",
       ":   0.45134519378369861\n",
       ":   0.45134519378369862\n",
       ":   0.43767847257168264\n",
       ":   0.43767847257168265\n",
       ":   0.45134519378369869\n",
       ":   0.48781862582414876\n",
       ":   0.61999864089152678\n",
       ":   0.65115314739576480\n",
       ":   0.74934176057823483\n",
       ":   0.82722658570807391\n",
       ":   0.339341535928601\n",
       "\n"
      ],
      "text/plain": [
       "        6        20        32        33        35        37        45        50 \n",
       "0.1326930 0.2209980 0.2981440 0.2981440 0.2981440 0.3124120 0.3420218 0.3729158 \n",
       "       51        53        54        57        60        61        62        64 \n",
       "0.3887800 0.3887800 0.3887800 0.3887800 0.4513452 0.4513452 0.4376785 0.4376785 \n",
       "       65        69        76        78        80        83        91 \n",
       "0.4513452 0.4878186 0.6199986 0.6511531 0.7493418 0.8272266 0.3393415 "
      ]
     },
     "metadata": {},
     "output_type": "display_data"
    }
   ],
   "source": [
    "# wykonanie predykcji prawdopodobienstwa dla podzbioru testowego na podstawie pelnego modelu regresji logistycznej\n",
    "predykcja_log_podzbior_testowy_model_pelny_8 = predict(model_log_8_1, newdata = podzbior_testowy_8, type = \"response\")\n",
    "predykcja_log_podzbior_testowy_model_pelny_8"
   ]
  },
  {
   "cell_type": "code",
   "execution_count": 68,
   "metadata": {},
   "outputs": [
    {
     "data": {
      "text/html": [
       "23"
      ],
      "text/latex": [
       "23"
      ],
      "text/markdown": [
       "23"
      ],
      "text/plain": [
       "[1] 23"
      ]
     },
     "metadata": {},
     "output_type": "display_data"
    }
   ],
   "source": [
    "# liczba obserwacji z podzioru testowego, dla ktorych dokonalismy predykcji wzgledem pelnego modelu regresji logistycznej\n",
    "liczba_predykcji_log_podzbior_testowy_model_pelny_8 = length(predykcja_log_podzbior_testowy_model_pelny_8)\n",
    "liczba_predykcji_log_podzbior_testowy_model_pelny_8"
   ]
  },
  {
   "cell_type": "code",
   "execution_count": 69,
   "metadata": {},
   "outputs": [],
   "source": [
    "# przygotowanie pustego wektora predykcji dla podzbioru testowego wzgledem pelnego modelu regresji logistycznej\n",
    "wektor_predykcji_log_podzbior_testowy_model_pelny_8 = rep(0, liczba_predykcji_log_podzbior_testowy_model_pelny_8)"
   ]
  },
  {
   "cell_type": "code",
   "execution_count": 70,
   "metadata": {
    "scrolled": true
   },
   "outputs": [
    {
     "data": {
      "text/html": [
       "<style>\n",
       ".list-inline {list-style: none; margin:0; padding: 0}\n",
       ".list-inline>li {display: inline-block}\n",
       ".list-inline>li:not(:last-child)::after {content: \"\\00b7\"; padding: 0 .5ex}\n",
       "</style>\n",
       "<ol class=list-inline><li>0</li><li>0</li><li>0</li><li>0</li><li>0</li><li>0</li><li>0</li><li>0</li><li>0</li><li>0</li><li>0</li><li>0</li><li>0</li><li>0</li><li>0</li><li>0</li><li>0</li><li>0</li><li>1</li><li>1</li><li>1</li><li>1</li><li>0</li></ol>\n"
      ],
      "text/latex": [
       "\\begin{enumerate*}\n",
       "\\item 0\n",
       "\\item 0\n",
       "\\item 0\n",
       "\\item 0\n",
       "\\item 0\n",
       "\\item 0\n",
       "\\item 0\n",
       "\\item 0\n",
       "\\item 0\n",
       "\\item 0\n",
       "\\item 0\n",
       "\\item 0\n",
       "\\item 0\n",
       "\\item 0\n",
       "\\item 0\n",
       "\\item 0\n",
       "\\item 0\n",
       "\\item 0\n",
       "\\item 1\n",
       "\\item 1\n",
       "\\item 1\n",
       "\\item 1\n",
       "\\item 0\n",
       "\\end{enumerate*}\n"
      ],
      "text/markdown": [
       "1. 0\n",
       "2. 0\n",
       "3. 0\n",
       "4. 0\n",
       "5. 0\n",
       "6. 0\n",
       "7. 0\n",
       "8. 0\n",
       "9. 0\n",
       "10. 0\n",
       "11. 0\n",
       "12. 0\n",
       "13. 0\n",
       "14. 0\n",
       "15. 0\n",
       "16. 0\n",
       "17. 0\n",
       "18. 0\n",
       "19. 1\n",
       "20. 1\n",
       "21. 1\n",
       "22. 1\n",
       "23. 0\n",
       "\n",
       "\n"
      ],
      "text/plain": [
       " [1] 0 0 0 0 0 0 0 0 0 0 0 0 0 0 0 0 0 0 1 1 1 1 0"
      ]
     },
     "metadata": {},
     "output_type": "display_data"
    }
   ],
   "source": [
    "# zmiany wartosci w wektorze predykcji dla podzbioru testowego na okreslone wartosci prawdopodobienstwa wzgledem pelnego modelu regresji logistycznej\n",
    "wektor_predykcji_log_podzbior_testowy_model_pelny_8[predykcja_log_podzbior_testowy_model_pelny_8 > 0.5] = 1\n",
    "wektor_predykcji_log_podzbior_testowy_model_pelny_8"
   ]
  },
  {
   "cell_type": "code",
   "execution_count": 71,
   "metadata": {},
   "outputs": [
    {
     "data": {
      "text/plain": [
       "    Predicted\n",
       "True  0  1\n",
       "   0 14  0\n",
       "   1  5  4"
      ]
     },
     "metadata": {},
     "output_type": "display_data"
    }
   ],
   "source": [
    "# tabela predykcji dla podzbioru testowego wzgledem pelnego modelu regresji logistycznej\n",
    "tabela_predykcji_log_podzbior_testowy_model_pelny_8 = table(True = podzbior_testowy_8$TetnoSpocz, Predicted = wektor_predykcji_log_podzbior_testowy_model_pelny_8)\n",
    "tabela_predykcji_log_podzbior_testowy_model_pelny_8"
   ]
  },
  {
   "cell_type": "code",
   "execution_count": 72,
   "metadata": {},
   "outputs": [
    {
     "data": {
      "text/html": [
       "21.7391304347826"
      ],
      "text/latex": [
       "21.7391304347826"
      ],
      "text/markdown": [
       "21.7391304347826"
      ],
      "text/plain": [
       "[1] 21.73913"
      ]
     },
     "metadata": {},
     "output_type": "display_data"
    }
   ],
   "source": [
    "# procent niepoprawnie dopasowanych obserwacji w podzbiorze testowym wzgledem pelnego modelu regresji logistycznej\n",
    "blad_predykcji_log_podzbior_testowy_model_pelny_8 = (sum(tabela_predykcji_log_podzbior_testowy_model_pelny_8) - sum(diag(tabela_predykcji_log_podzbior_testowy_model_pelny_8))) / sum(tabela_predykcji_log_podzbior_testowy_model_pelny_8) * 100\n",
    "blad_predykcji_log_podzbior_testowy_model_pelny_8"
   ]
  },
  {
   "cell_type": "markdown",
   "metadata": {},
   "source": [
    "Błąd klasyfikacji na próbie testowej względem pełnego modelu regresji logistycznej wynosi 21.7391304347826%."
   ]
  },
  {
   "cell_type": "code",
   "execution_count": 73,
   "metadata": {},
   "outputs": [
    {
     "data": {
      "text/html": [
       "<style>\n",
       ".dl-inline {width: auto; margin:0; padding: 0}\n",
       ".dl-inline>dt, .dl-inline>dd {float: none; width: auto; display: inline-block}\n",
       ".dl-inline>dt::after {content: \":\\0020\"; padding-right: .5ex}\n",
       ".dl-inline>dt:not(:first-of-type) {padding-left: .5ex}\n",
       "</style><dl class=dl-inline><dt>6</dt><dd>0.00104713915037272</dd><dt>20</dt><dd>0.318181818181818</dd><dt>32</dt><dd>0.318181818181818</dd><dt>33</dt><dd>0.318181818181818</dd><dt>35</dt><dd>0.318181818181818</dd><dt>37</dt><dd>0.318181818181818</dd><dt>45</dt><dd>0.318181818181818</dd><dt>50</dt><dd>0.318181818181818</dd><dt>51</dt><dd>0.318181818181818</dd><dt>53</dt><dd>0.318181818181818</dd><dt>54</dt><dd>0.318181818181818</dd><dt>57</dt><dd>0.318181818181818</dd><dt>60</dt><dd>0.657814552275896</dd><dt>61</dt><dd>0.657814552275896</dd><dt>62</dt><dd>0.318181818181818</dd><dt>64</dt><dd>0.318181818181818</dd><dt>65</dt><dd>0.657814552275896</dd><dt>69</dt><dd>0.318181818181818</dd><dt>76</dt><dd>0.318181818181818</dd><dt>78</dt><dd>0.318181818181818</dd><dt>80</dt><dd>0.318181818181818</dd><dt>83</dt><dd>0.318181818181818</dd><dt>91</dt><dd>0.189938435449529</dd></dl>\n"
      ],
      "text/latex": [
       "\\begin{description*}\n",
       "\\item[6] 0.00104713915037272\n",
       "\\item[20] 0.318181818181818\n",
       "\\item[32] 0.318181818181818\n",
       "\\item[33] 0.318181818181818\n",
       "\\item[35] 0.318181818181818\n",
       "\\item[37] 0.318181818181818\n",
       "\\item[45] 0.318181818181818\n",
       "\\item[50] 0.318181818181818\n",
       "\\item[51] 0.318181818181818\n",
       "\\item[53] 0.318181818181818\n",
       "\\item[54] 0.318181818181818\n",
       "\\item[57] 0.318181818181818\n",
       "\\item[60] 0.657814552275896\n",
       "\\item[61] 0.657814552275896\n",
       "\\item[62] 0.318181818181818\n",
       "\\item[64] 0.318181818181818\n",
       "\\item[65] 0.657814552275896\n",
       "\\item[69] 0.318181818181818\n",
       "\\item[76] 0.318181818181818\n",
       "\\item[78] 0.318181818181818\n",
       "\\item[80] 0.318181818181818\n",
       "\\item[83] 0.318181818181818\n",
       "\\item[91] 0.189938435449529\n",
       "\\end{description*}\n"
      ],
      "text/markdown": [
       "6\n",
       ":   0.0010471391503727220\n",
       ":   0.31818181818181832\n",
       ":   0.31818181818181833\n",
       ":   0.31818181818181835\n",
       ":   0.31818181818181837\n",
       ":   0.31818181818181845\n",
       ":   0.31818181818181850\n",
       ":   0.31818181818181851\n",
       ":   0.31818181818181853\n",
       ":   0.31818181818181854\n",
       ":   0.31818181818181857\n",
       ":   0.31818181818181860\n",
       ":   0.65781455227589661\n",
       ":   0.65781455227589662\n",
       ":   0.31818181818181864\n",
       ":   0.31818181818181865\n",
       ":   0.65781455227589669\n",
       ":   0.31818181818181876\n",
       ":   0.31818181818181878\n",
       ":   0.31818181818181880\n",
       ":   0.31818181818181883\n",
       ":   0.31818181818181891\n",
       ":   0.189938435449529\n",
       "\n"
      ],
      "text/plain": [
       "          6          20          32          33          35          37 \n",
       "0.001047139 0.318181818 0.318181818 0.318181818 0.318181818 0.318181818 \n",
       "         45          50          51          53          54          57 \n",
       "0.318181818 0.318181818 0.318181818 0.318181818 0.318181818 0.318181818 \n",
       "         60          61          62          64          65          69 \n",
       "0.657814552 0.657814552 0.318181818 0.318181818 0.657814552 0.318181818 \n",
       "         76          78          80          83          91 \n",
       "0.318181818 0.318181818 0.318181818 0.318181818 0.189938435 "
      ]
     },
     "metadata": {},
     "output_type": "display_data"
    }
   ],
   "source": [
    "# wykonanie predykcji prawdopodobienstwa dla podzbioru testowego na podstawie modelu regresji logistycznej z interakcja\n",
    "predykcja_log_podzbior_testowy_model_interakcja_8 = predict(model_log_M3, newdata = podzbior_testowy_8, type = \"response\")\n",
    "predykcja_log_podzbior_testowy_model_interakcja_8"
   ]
  },
  {
   "cell_type": "code",
   "execution_count": 74,
   "metadata": {},
   "outputs": [
    {
     "data": {
      "text/html": [
       "23"
      ],
      "text/latex": [
       "23"
      ],
      "text/markdown": [
       "23"
      ],
      "text/plain": [
       "[1] 23"
      ]
     },
     "metadata": {},
     "output_type": "display_data"
    }
   ],
   "source": [
    "# liczba obserwacji z podzioru testowego, dla ktorych dokonalismy predykcji wzgledem modelu regresji logistycznej z interakcja\n",
    "liczba_predykcji_log_podzbior_testowy_model_interakcja_8 = length(predykcja_log_podzbior_testowy_model_interakcja_8)\n",
    "liczba_predykcji_log_podzbior_testowy_model_interakcja_8"
   ]
  },
  {
   "cell_type": "code",
   "execution_count": 75,
   "metadata": {},
   "outputs": [],
   "source": [
    "# przygotowanie pustego wektora predykcji dla podzbioru testowego wzgledem modelu regresji logistycznej z interakcja\n",
    "wektor_predykcji_log_podzbior_testowy_model_interakcja_8 = rep(0, liczba_predykcji_log_podzbior_testowy_model_interakcja_8)"
   ]
  },
  {
   "cell_type": "code",
   "execution_count": 76,
   "metadata": {},
   "outputs": [
    {
     "data": {
      "text/html": [
       "<style>\n",
       ".list-inline {list-style: none; margin:0; padding: 0}\n",
       ".list-inline>li {display: inline-block}\n",
       ".list-inline>li:not(:last-child)::after {content: \"\\00b7\"; padding: 0 .5ex}\n",
       "</style>\n",
       "<ol class=list-inline><li>0</li><li>0</li><li>0</li><li>0</li><li>0</li><li>0</li><li>0</li><li>0</li><li>0</li><li>0</li><li>0</li><li>0</li><li>1</li><li>1</li><li>0</li><li>0</li><li>1</li><li>0</li><li>0</li><li>0</li><li>0</li><li>0</li><li>0</li></ol>\n"
      ],
      "text/latex": [
       "\\begin{enumerate*}\n",
       "\\item 0\n",
       "\\item 0\n",
       "\\item 0\n",
       "\\item 0\n",
       "\\item 0\n",
       "\\item 0\n",
       "\\item 0\n",
       "\\item 0\n",
       "\\item 0\n",
       "\\item 0\n",
       "\\item 0\n",
       "\\item 0\n",
       "\\item 1\n",
       "\\item 1\n",
       "\\item 0\n",
       "\\item 0\n",
       "\\item 1\n",
       "\\item 0\n",
       "\\item 0\n",
       "\\item 0\n",
       "\\item 0\n",
       "\\item 0\n",
       "\\item 0\n",
       "\\end{enumerate*}\n"
      ],
      "text/markdown": [
       "1. 0\n",
       "2. 0\n",
       "3. 0\n",
       "4. 0\n",
       "5. 0\n",
       "6. 0\n",
       "7. 0\n",
       "8. 0\n",
       "9. 0\n",
       "10. 0\n",
       "11. 0\n",
       "12. 0\n",
       "13. 1\n",
       "14. 1\n",
       "15. 0\n",
       "16. 0\n",
       "17. 1\n",
       "18. 0\n",
       "19. 0\n",
       "20. 0\n",
       "21. 0\n",
       "22. 0\n",
       "23. 0\n",
       "\n",
       "\n"
      ],
      "text/plain": [
       " [1] 0 0 0 0 0 0 0 0 0 0 0 0 1 1 0 0 1 0 0 0 0 0 0"
      ]
     },
     "metadata": {},
     "output_type": "display_data"
    }
   ],
   "source": [
    "# zmiany wartosci w wektorze predykcji dla podzbioru testowego na okreslone wartosci prawdopodobienstwa wzgledem modelu regresji logistycznej z interakcja\n",
    "wektor_predykcji_log_podzbior_testowy_model_interakcja_8[predykcja_log_podzbior_testowy_model_interakcja_8 > 0.5] = 1\n",
    "wektor_predykcji_log_podzbior_testowy_model_interakcja_8"
   ]
  },
  {
   "cell_type": "code",
   "execution_count": 77,
   "metadata": {},
   "outputs": [
    {
     "data": {
      "text/plain": [
       "    Predicted\n",
       "True  0  1\n",
       "   0 12  2\n",
       "   1  8  1"
      ]
     },
     "metadata": {},
     "output_type": "display_data"
    }
   ],
   "source": [
    "# tabela predykcji dla podzbioru testowego wzgledem modelu regresji logistycznej z interakcja\n",
    "tabela_predykcji_log_podzbior_testowy_model_interakcja_8 = table(True = podzbior_testowy_8$TetnoSpocz, Predicted = wektor_predykcji_log_podzbior_testowy_model_interakcja_8)\n",
    "tabela_predykcji_log_podzbior_testowy_model_interakcja_8"
   ]
  },
  {
   "cell_type": "code",
   "execution_count": 78,
   "metadata": {},
   "outputs": [
    {
     "data": {
      "text/html": [
       "43.4782608695652"
      ],
      "text/latex": [
       "43.4782608695652"
      ],
      "text/markdown": [
       "43.4782608695652"
      ],
      "text/plain": [
       "[1] 43.47826"
      ]
     },
     "metadata": {},
     "output_type": "display_data"
    }
   ],
   "source": [
    "# procent niepoprawnie dopasowanych obserwacji w podzbiorze testowym wzgledem modelu regresji logistycznej z interakcja\n",
    "blad_predykcji_log_podzbior_testowy_model_interakcja_8 = (sum(tabela_predykcji_log_podzbior_testowy_model_interakcja_8) - sum(diag(tabela_predykcji_log_podzbior_testowy_model_interakcja_8))) / sum(tabela_predykcji_log_podzbior_testowy_model_interakcja_8) * 100\n",
    "blad_predykcji_log_podzbior_testowy_model_interakcja_8"
   ]
  },
  {
   "cell_type": "markdown",
   "metadata": {},
   "source": [
    "Błąd klasyfikacji na próbie testowej względem modelu regresji logistycznej z interakcją wynosi 43.4782608695652%."
   ]
  },
  {
   "cell_type": "markdown",
   "metadata": {},
   "source": [
    "Różnica pomiędzy błędami klasyfikacji na próbie testowej wynosi ponad 21% na korzyść pełnego modelu regresji logistycznej (bez interakcji). Co ciekawe błąd klasyfikacji dotyczący modelu regresji logistycznej z interakcją jest dokładnie 2 razy większy niż pełnego modelu regresji logistycznej."
   ]
  },
  {
   "cell_type": "markdown",
   "metadata": {},
   "source": [
    "#### vii) Skonstruuj klasyfikatory w oparciu o metodę LDA bazując na próbie uczącej oraz porównaj ich błędy klasyfikacji na próbie testowej z błędami klasyfikacji klasyfikatorów opartych na regresji logistycznej. Skomentuj uzyskane wyniki."
   ]
  },
  {
   "cell_type": "code",
   "execution_count": 79,
   "metadata": {},
   "outputs": [],
   "source": [
    "# wczytanie pakietu\n",
    "#library(MASS)"
   ]
  },
  {
   "cell_type": "code",
   "execution_count": 80,
   "metadata": {},
   "outputs": [
    {
     "data": {
      "text/plain": [
       "Call:\n",
       "lda(TetnoSpocz ~ ., data = podzbior_uczacy_8)\n",
       "\n",
       "Prior probabilities of groups:\n",
       "        0         1 \n",
       "0.6811594 0.3188406 \n",
       "\n",
       "Group means:\n",
       "     Palacz     Waga\n",
       "0 0.3617021 76.65957\n",
       "1 0.3636364 89.72727\n",
       "\n",
       "Coefficients of linear discriminants:\n",
       "              LD1\n",
       "Palacz 0.13289485\n",
       "Waga   0.07056895"
      ]
     },
     "metadata": {},
     "output_type": "display_data"
    }
   ],
   "source": [
    "# wykonanie modelu regresji liniowej\n",
    "model_lda_8 = lda(TetnoSpocz ~ ., data = podzbior_uczacy_8)\n",
    "model_lda_8"
   ]
  },
  {
   "cell_type": "markdown",
   "metadata": {},
   "source": [
    "##### Otrzymany model regresji liniowej - klasyfikator:\n",
    "$\\textrm{TetnoSpocz} = 0.13289485 \\cdot \\textrm{Palacz} + 0.07056895 \\cdot \\textrm{Waga}$"
   ]
  },
  {
   "cell_type": "code",
   "execution_count": 81,
   "metadata": {
    "scrolled": false
   },
   "outputs": [
    {
     "data": {
      "text/html": [
       "<dl>\n",
       "\t<dt>$class</dt>\n",
       "\t\t<dd><style>\n",
       ".list-inline {list-style: none; margin:0; padding: 0}\n",
       ".list-inline>li {display: inline-block}\n",
       ".list-inline>li:not(:last-child)::after {content: \"\\00b7\"; padding: 0 .5ex}\n",
       "</style>\n",
       "<ol class=list-inline><li>0</li><li>0</li><li>0</li><li>0</li><li>0</li><li>0</li><li>0</li><li>0</li><li>0</li><li>0</li><li>0</li><li>0</li><li>0</li><li>0</li><li>0</li><li>0</li><li>0</li><li>0</li><li>1</li><li>1</li><li>1</li><li>1</li><li>0</li></ol>\n",
       "\n",
       "<details>\n",
       "\t<summary style=display:list-item;cursor:pointer>\n",
       "\t\t<strong>Levels</strong>:\n",
       "\t</summary>\n",
       "\t<style>\n",
       "\t.list-inline {list-style: none; margin:0; padding: 0}\n",
       "\t.list-inline>li {display: inline-block}\n",
       "\t.list-inline>li:not(:last-child)::after {content: \"\\00b7\"; padding: 0 .5ex}\n",
       "\t</style>\n",
       "\t<ol class=list-inline><li>'0'</li><li>'1'</li></ol>\n",
       "</details></dd>\n",
       "\t<dt>$posterior</dt>\n",
       "\t\t<dd><table class=\"dataframe\">\n",
       "<caption>A matrix: 23 × 2 of type dbl</caption>\n",
       "<thead>\n",
       "\t<tr><th></th><th scope=col>0</th><th scope=col>1</th></tr>\n",
       "</thead>\n",
       "<tbody>\n",
       "\t<tr><th scope=row>6</th><td>0.8581712</td><td>0.1418288</td></tr>\n",
       "\t<tr><th scope=row>20</th><td>0.7810540</td><td>0.2189460</td></tr>\n",
       "\t<tr><th scope=row>32</th><td>0.7070810</td><td>0.2929190</td></tr>\n",
       "\t<tr><th scope=row>33</th><td>0.7070810</td><td>0.2929190</td></tr>\n",
       "\t<tr><th scope=row>35</th><td>0.7070810</td><td>0.2929190</td></tr>\n",
       "\t<tr><th scope=row>37</th><td>0.6934194</td><td>0.3065806</td></tr>\n",
       "\t<tr><th scope=row>45</th><td>0.6650686</td><td>0.3349314</td></tr>\n",
       "\t<tr><th scope=row>50</th><td>0.6354743</td><td>0.3645257</td></tr>\n",
       "\t<tr><th scope=row>51</th><td>0.6202665</td><td>0.3797335</td></tr>\n",
       "\t<tr><th scope=row>53</th><td>0.6202665</td><td>0.3797335</td></tr>\n",
       "\t<tr><th scope=row>54</th><td>0.6202665</td><td>0.3797335</td></tr>\n",
       "\t<tr><th scope=row>57</th><td>0.6202665</td><td>0.3797335</td></tr>\n",
       "\t<tr><th scope=row>60</th><td>0.5430949</td><td>0.4569051</td></tr>\n",
       "\t<tr><th scope=row>61</th><td>0.5430949</td><td>0.4569051</td></tr>\n",
       "\t<tr><th scope=row>62</th><td>0.5733163</td><td>0.4266837</td></tr>\n",
       "\t<tr><th scope=row>64</th><td>0.5733163</td><td>0.4266837</td></tr>\n",
       "\t<tr><th scope=row>65</th><td>0.5430949</td><td>0.4569051</td></tr>\n",
       "\t<tr><th scope=row>69</th><td>0.5250065</td><td>0.4749935</td></tr>\n",
       "\t<tr><th scope=row>76</th><td>0.3963612</td><td>0.6036388</td></tr>\n",
       "\t<tr><th scope=row>78</th><td>0.3656695</td><td>0.6343305</td></tr>\n",
       "\t<tr><th scope=row>80</th><td>0.2676644</td><td>0.7323356</td></tr>\n",
       "\t<tr><th scope=row>83</th><td>0.1881357</td><td>0.8118643</td></tr>\n",
       "\t<tr><th scope=row>91</th><td>0.6521432</td><td>0.3478568</td></tr>\n",
       "</tbody>\n",
       "</table>\n",
       "</dd>\n",
       "\t<dt>$x</dt>\n",
       "\t\t<dd><table class=\"dataframe\">\n",
       "<caption>A matrix: 23 × 1 of type dbl</caption>\n",
       "<thead>\n",
       "\t<tr><th></th><th scope=col>LD1</th></tr>\n",
       "</thead>\n",
       "<tbody>\n",
       "\t<tr><th scope=row>6</th><td>-0.9615168</td></tr>\n",
       "\t<tr><th scope=row>20</th><td>-0.3887222</td></tr>\n",
       "\t<tr><th scope=row>32</th><td> 0.0346915</td></tr>\n",
       "\t<tr><th scope=row>33</th><td> 0.0346915</td></tr>\n",
       "\t<tr><th scope=row>35</th><td> 0.0346915</td></tr>\n",
       "\t<tr><th scope=row>37</th><td> 0.1052605</td></tr>\n",
       "\t<tr><th scope=row>45</th><td> 0.2463983</td></tr>\n",
       "\t<tr><th scope=row>50</th><td> 0.3875362</td></tr>\n",
       "\t<tr><th scope=row>51</th><td> 0.4581052</td></tr>\n",
       "\t<tr><th scope=row>53</th><td> 0.4581052</td></tr>\n",
       "\t<tr><th scope=row>54</th><td> 0.4581052</td></tr>\n",
       "\t<tr><th scope=row>57</th><td> 0.4581052</td></tr>\n",
       "\t<tr><th scope=row>60</th><td> 0.8027069</td></tr>\n",
       "\t<tr><th scope=row>61</th><td> 0.8027069</td></tr>\n",
       "\t<tr><th scope=row>62</th><td> 0.6698120</td></tr>\n",
       "\t<tr><th scope=row>64</th><td> 0.6698120</td></tr>\n",
       "\t<tr><th scope=row>65</th><td> 0.8027069</td></tr>\n",
       "\t<tr><th scope=row>69</th><td> 0.8815189</td></tr>\n",
       "\t<tr><th scope=row>76</th><td> 1.4460705</td></tr>\n",
       "\t<tr><th scope=row>78</th><td> 1.5872084</td></tr>\n",
       "\t<tr><th scope=row>80</th><td> 2.0811910</td></tr>\n",
       "\t<tr><th scope=row>83</th><td> 2.5751737</td></tr>\n",
       "\t<tr><th scope=row>91</th><td> 0.3087243</td></tr>\n",
       "</tbody>\n",
       "</table>\n",
       "</dd>\n",
       "</dl>\n"
      ],
      "text/latex": [
       "\\begin{description}\n",
       "\\item[\\$class] \\begin{enumerate*}\n",
       "\\item 0\n",
       "\\item 0\n",
       "\\item 0\n",
       "\\item 0\n",
       "\\item 0\n",
       "\\item 0\n",
       "\\item 0\n",
       "\\item 0\n",
       "\\item 0\n",
       "\\item 0\n",
       "\\item 0\n",
       "\\item 0\n",
       "\\item 0\n",
       "\\item 0\n",
       "\\item 0\n",
       "\\item 0\n",
       "\\item 0\n",
       "\\item 0\n",
       "\\item 1\n",
       "\\item 1\n",
       "\\item 1\n",
       "\\item 1\n",
       "\\item 0\n",
       "\\end{enumerate*}\n",
       "\n",
       "\\emph{Levels}: \\begin{enumerate*}\n",
       "\\item '0'\n",
       "\\item '1'\n",
       "\\end{enumerate*}\n",
       "\n",
       "\\item[\\$posterior] A matrix: 23 × 2 of type dbl\n",
       "\\begin{tabular}{r|ll}\n",
       "  & 0 & 1\\\\\n",
       "\\hline\n",
       "\t6 & 0.8581712 & 0.1418288\\\\\n",
       "\t20 & 0.7810540 & 0.2189460\\\\\n",
       "\t32 & 0.7070810 & 0.2929190\\\\\n",
       "\t33 & 0.7070810 & 0.2929190\\\\\n",
       "\t35 & 0.7070810 & 0.2929190\\\\\n",
       "\t37 & 0.6934194 & 0.3065806\\\\\n",
       "\t45 & 0.6650686 & 0.3349314\\\\\n",
       "\t50 & 0.6354743 & 0.3645257\\\\\n",
       "\t51 & 0.6202665 & 0.3797335\\\\\n",
       "\t53 & 0.6202665 & 0.3797335\\\\\n",
       "\t54 & 0.6202665 & 0.3797335\\\\\n",
       "\t57 & 0.6202665 & 0.3797335\\\\\n",
       "\t60 & 0.5430949 & 0.4569051\\\\\n",
       "\t61 & 0.5430949 & 0.4569051\\\\\n",
       "\t62 & 0.5733163 & 0.4266837\\\\\n",
       "\t64 & 0.5733163 & 0.4266837\\\\\n",
       "\t65 & 0.5430949 & 0.4569051\\\\\n",
       "\t69 & 0.5250065 & 0.4749935\\\\\n",
       "\t76 & 0.3963612 & 0.6036388\\\\\n",
       "\t78 & 0.3656695 & 0.6343305\\\\\n",
       "\t80 & 0.2676644 & 0.7323356\\\\\n",
       "\t83 & 0.1881357 & 0.8118643\\\\\n",
       "\t91 & 0.6521432 & 0.3478568\\\\\n",
       "\\end{tabular}\n",
       "\n",
       "\\item[\\$x] A matrix: 23 × 1 of type dbl\n",
       "\\begin{tabular}{r|l}\n",
       "  & LD1\\\\\n",
       "\\hline\n",
       "\t6 & -0.9615168\\\\\n",
       "\t20 & -0.3887222\\\\\n",
       "\t32 &  0.0346915\\\\\n",
       "\t33 &  0.0346915\\\\\n",
       "\t35 &  0.0346915\\\\\n",
       "\t37 &  0.1052605\\\\\n",
       "\t45 &  0.2463983\\\\\n",
       "\t50 &  0.3875362\\\\\n",
       "\t51 &  0.4581052\\\\\n",
       "\t53 &  0.4581052\\\\\n",
       "\t54 &  0.4581052\\\\\n",
       "\t57 &  0.4581052\\\\\n",
       "\t60 &  0.8027069\\\\\n",
       "\t61 &  0.8027069\\\\\n",
       "\t62 &  0.6698120\\\\\n",
       "\t64 &  0.6698120\\\\\n",
       "\t65 &  0.8027069\\\\\n",
       "\t69 &  0.8815189\\\\\n",
       "\t76 &  1.4460705\\\\\n",
       "\t78 &  1.5872084\\\\\n",
       "\t80 &  2.0811910\\\\\n",
       "\t83 &  2.5751737\\\\\n",
       "\t91 &  0.3087243\\\\\n",
       "\\end{tabular}\n",
       "\n",
       "\\end{description}\n"
      ],
      "text/markdown": [
       "$class\n",
       ":   1. 0\n",
       "2. 0\n",
       "3. 0\n",
       "4. 0\n",
       "5. 0\n",
       "6. 0\n",
       "7. 0\n",
       "8. 0\n",
       "9. 0\n",
       "10. 0\n",
       "11. 0\n",
       "12. 0\n",
       "13. 0\n",
       "14. 0\n",
       "15. 0\n",
       "16. 0\n",
       "17. 0\n",
       "18. 0\n",
       "19. 1\n",
       "20. 1\n",
       "21. 1\n",
       "22. 1\n",
       "23. 0\n",
       "\n",
       "\n",
       "\n",
       "**Levels**: 1. '0'\n",
       "2. '1'\n",
       "\n",
       "\n",
       "\n",
       "$posterior\n",
       ":   \n",
       "A matrix: 23 × 2 of type dbl\n",
       "\n",
       "| <!--/--> | 0 | 1 |\n",
       "|---|---|---|\n",
       "| 6 | 0.8581712 | 0.1418288 |\n",
       "| 20 | 0.7810540 | 0.2189460 |\n",
       "| 32 | 0.7070810 | 0.2929190 |\n",
       "| 33 | 0.7070810 | 0.2929190 |\n",
       "| 35 | 0.7070810 | 0.2929190 |\n",
       "| 37 | 0.6934194 | 0.3065806 |\n",
       "| 45 | 0.6650686 | 0.3349314 |\n",
       "| 50 | 0.6354743 | 0.3645257 |\n",
       "| 51 | 0.6202665 | 0.3797335 |\n",
       "| 53 | 0.6202665 | 0.3797335 |\n",
       "| 54 | 0.6202665 | 0.3797335 |\n",
       "| 57 | 0.6202665 | 0.3797335 |\n",
       "| 60 | 0.5430949 | 0.4569051 |\n",
       "| 61 | 0.5430949 | 0.4569051 |\n",
       "| 62 | 0.5733163 | 0.4266837 |\n",
       "| 64 | 0.5733163 | 0.4266837 |\n",
       "| 65 | 0.5430949 | 0.4569051 |\n",
       "| 69 | 0.5250065 | 0.4749935 |\n",
       "| 76 | 0.3963612 | 0.6036388 |\n",
       "| 78 | 0.3656695 | 0.6343305 |\n",
       "| 80 | 0.2676644 | 0.7323356 |\n",
       "| 83 | 0.1881357 | 0.8118643 |\n",
       "| 91 | 0.6521432 | 0.3478568 |\n",
       "\n",
       "\n",
       "$x\n",
       ":   \n",
       "A matrix: 23 × 1 of type dbl\n",
       "\n",
       "| <!--/--> | LD1 |\n",
       "|---|---|\n",
       "| 6 | -0.9615168 |\n",
       "| 20 | -0.3887222 |\n",
       "| 32 |  0.0346915 |\n",
       "| 33 |  0.0346915 |\n",
       "| 35 |  0.0346915 |\n",
       "| 37 |  0.1052605 |\n",
       "| 45 |  0.2463983 |\n",
       "| 50 |  0.3875362 |\n",
       "| 51 |  0.4581052 |\n",
       "| 53 |  0.4581052 |\n",
       "| 54 |  0.4581052 |\n",
       "| 57 |  0.4581052 |\n",
       "| 60 |  0.8027069 |\n",
       "| 61 |  0.8027069 |\n",
       "| 62 |  0.6698120 |\n",
       "| 64 |  0.6698120 |\n",
       "| 65 |  0.8027069 |\n",
       "| 69 |  0.8815189 |\n",
       "| 76 |  1.4460705 |\n",
       "| 78 |  1.5872084 |\n",
       "| 80 |  2.0811910 |\n",
       "| 83 |  2.5751737 |\n",
       "| 91 |  0.3087243 |\n",
       "\n",
       "\n",
       "\n",
       "\n"
      ],
      "text/plain": [
       "$class\n",
       " [1] 0 0 0 0 0 0 0 0 0 0 0 0 0 0 0 0 0 0 1 1 1 1 0\n",
       "Levels: 0 1\n",
       "\n",
       "$posterior\n",
       "           0         1\n",
       "6  0.8581712 0.1418288\n",
       "20 0.7810540 0.2189460\n",
       "32 0.7070810 0.2929190\n",
       "33 0.7070810 0.2929190\n",
       "35 0.7070810 0.2929190\n",
       "37 0.6934194 0.3065806\n",
       "45 0.6650686 0.3349314\n",
       "50 0.6354743 0.3645257\n",
       "51 0.6202665 0.3797335\n",
       "53 0.6202665 0.3797335\n",
       "54 0.6202665 0.3797335\n",
       "57 0.6202665 0.3797335\n",
       "60 0.5430949 0.4569051\n",
       "61 0.5430949 0.4569051\n",
       "62 0.5733163 0.4266837\n",
       "64 0.5733163 0.4266837\n",
       "65 0.5430949 0.4569051\n",
       "69 0.5250065 0.4749935\n",
       "76 0.3963612 0.6036388\n",
       "78 0.3656695 0.6343305\n",
       "80 0.2676644 0.7323356\n",
       "83 0.1881357 0.8118643\n",
       "91 0.6521432 0.3478568\n",
       "\n",
       "$x\n",
       "          LD1\n",
       "6  -0.9615168\n",
       "20 -0.3887222\n",
       "32  0.0346915\n",
       "33  0.0346915\n",
       "35  0.0346915\n",
       "37  0.1052605\n",
       "45  0.2463983\n",
       "50  0.3875362\n",
       "51  0.4581052\n",
       "53  0.4581052\n",
       "54  0.4581052\n",
       "57  0.4581052\n",
       "60  0.8027069\n",
       "61  0.8027069\n",
       "62  0.6698120\n",
       "64  0.6698120\n",
       "65  0.8027069\n",
       "69  0.8815189\n",
       "76  1.4460705\n",
       "78  1.5872084\n",
       "80  2.0811910\n",
       "83  2.5751737\n",
       "91  0.3087243\n"
      ]
     },
     "metadata": {},
     "output_type": "display_data"
    }
   ],
   "source": [
    "# wykonanie predykcji prawdopodobienstwa dla podzbioru testowego na podstawie wygenerowanego modelu regresji liniowej\n",
    "predykcja_lda_podzbior_testowy_8 = predict(model_lda_8, newdata = podzbior_testowy_8)\n",
    "predykcja_lda_podzbior_testowy_8"
   ]
  },
  {
   "cell_type": "code",
   "execution_count": 82,
   "metadata": {},
   "outputs": [
    {
     "data": {
      "text/plain": [
       "    Predicted\n",
       "True  0  1\n",
       "   0 14  0\n",
       "   1  5  4"
      ]
     },
     "metadata": {},
     "output_type": "display_data"
    }
   ],
   "source": [
    "# tabela predykcji dla podzbioru testowego na podstawie wygenerowanego modelu regresji liniowej\n",
    "tabela_predykcji_lda_podzbior_testowy_8 = table(True = podzbior_testowy_8$TetnoSpocz, Predicted = predykcja_lda_podzbior_testowy_8$class)\n",
    "tabela_predykcji_lda_podzbior_testowy_8"
   ]
  },
  {
   "cell_type": "code",
   "execution_count": 83,
   "metadata": {},
   "outputs": [
    {
     "data": {
      "text/html": [
       "21.7391304347826"
      ],
      "text/latex": [
       "21.7391304347826"
      ],
      "text/markdown": [
       "21.7391304347826"
      ],
      "text/plain": [
       "[1] 21.73913"
      ]
     },
     "metadata": {},
     "output_type": "display_data"
    }
   ],
   "source": [
    "# procent niepoprawnie dopasowanych obserwacji w podzbiorze testowym na podstawie wygenerowanego modelu regresji liniowej\n",
    "blad_predykcji_lda_zbior_testowy_8 = (sum(tabela_predykcji_lda_podzbior_testowy_8) - sum(diag(tabela_predykcji_lda_podzbior_testowy_8))) / sum(tabela_predykcji_lda_podzbior_testowy_8) * 100\n",
    "blad_predykcji_lda_zbior_testowy_8"
   ]
  },
  {
   "cell_type": "markdown",
   "metadata": {},
   "source": [
    "Błąd klasyfikacji klasyfikatora opartego na regresji liniowej dla próby testowej wynosi 21.7391304347826%."
   ]
  },
  {
   "cell_type": "markdown",
   "metadata": {},
   "source": [
    "Błąd klasyfikacji klasyfikatora opartego na regresji liniowej wynosi dokładnie tyle samo ile klasyfikatora opartego na pełnym modelu regresji logistycznej (ich tabele dotyczące predykcji są identyczne - wskazują na taką samą liczbę błędów). Oba są lepsze o ponad 21% niż klasyfikator oparty na regresji liniowej z interakcją."
   ]
  }
 ],
 "metadata": {
  "kernelspec": {
   "display_name": "R",
   "language": "R",
   "name": "ir"
  },
  "language_info": {
   "codemirror_mode": "r",
   "file_extension": ".r",
   "mimetype": "text/x-r-source",
   "name": "R",
   "pygments_lexer": "r",
   "version": "4.1.3"
  }
 },
 "nbformat": 4,
 "nbformat_minor": 4
}
